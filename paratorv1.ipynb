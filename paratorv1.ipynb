{
  "nbformat": 4,
  "nbformat_minor": 0,
  "metadata": {
    "colab": {
      "name": "paratorv1.ipynb",
      "provenance": [],
      "collapsed_sections": []
    },
    "kernelspec": {
      "name": "python3",
      "display_name": "Python 3"
    },
    "language_info": {
      "name": "python"
    }
  },
  "cells": [
    {
      "cell_type": "code",
      "metadata": {
        "colab": {
          "base_uri": "https://localhost:8080/"
        },
        "id": "B3Mb1ZFyOxfe",
        "outputId": "9fe7c1dd-7f6c-470b-c223-461561a04375"
      },
      "source": [
        "from google.colab import drive\n",
        "drive.mount('/content/gdrive')"
      ],
      "execution_count": 1,
      "outputs": [
        {
          "output_type": "stream",
          "text": [
            "Mounted at /content/gdrive\n"
          ],
          "name": "stdout"
        }
      ]
    },
    {
      "cell_type": "code",
      "metadata": {
        "id": "rcAg4QXTO-V6"
      },
      "source": [
        "import pandas as pd\n",
        "import numpy as np\n",
        "import csv\n",
        "\n",
        "csv_path = 'gdrive/MyDrive/pantun.csv'\n",
        "df = pd.read_csv(csv_path)"
      ],
      "execution_count": 2,
      "outputs": []
    },
    {
      "cell_type": "code",
      "metadata": {
        "colab": {
          "base_uri": "https://localhost:8080/",
          "height": 204
        },
        "id": "HVvh6EN1XkQr",
        "outputId": "2d39e70c-6fcb-438b-84dc-2ec748845bfd"
      },
      "source": [
        "df.head()"
      ],
      "execution_count": 3,
      "outputs": [
        {
          "output_type": "execute_result",
          "data": {
            "text/html": [
              "<div>\n",
              "<style scoped>\n",
              "    .dataframe tbody tr th:only-of-type {\n",
              "        vertical-align: middle;\n",
              "    }\n",
              "\n",
              "    .dataframe tbody tr th {\n",
              "        vertical-align: top;\n",
              "    }\n",
              "\n",
              "    .dataframe thead th {\n",
              "        text-align: right;\n",
              "    }\n",
              "</style>\n",
              "<table border=\"1\" class=\"dataframe\">\n",
              "  <thead>\n",
              "    <tr style=\"text-align: right;\">\n",
              "      <th></th>\n",
              "      <th>teks</th>\n",
              "      <th>tipe</th>\n",
              "    </tr>\n",
              "  </thead>\n",
              "  <tbody>\n",
              "    <tr>\n",
              "      <th>0</th>\n",
              "      <td>Pakai baju ukurannya pas \\n Baju biru pemberia...</td>\n",
              "      <td>Pantun Bijak</td>\n",
              "    </tr>\n",
              "    <tr>\n",
              "      <th>1</th>\n",
              "      <td>Orang bijak cinta bahasa \\n Bahasa luas Bahasa...</td>\n",
              "      <td>Pantun Pendidikan</td>\n",
              "    </tr>\n",
              "    <tr>\n",
              "      <th>2</th>\n",
              "      <td>Kepada siapa datangnya wahyu \\n Kepada Nabi wa...</td>\n",
              "      <td>Pantun Nasihat</td>\n",
              "    </tr>\n",
              "    <tr>\n",
              "      <th>3</th>\n",
              "      <td>Citah perang melawan citah \\n Seekor pelatuk m...</td>\n",
              "      <td>Pantun Pendidikan</td>\n",
              "    </tr>\n",
              "    <tr>\n",
              "      <th>4</th>\n",
              "      <td>Ada gadis perawan, \\n paling cantik di kampung...</td>\n",
              "      <td>Pantun Agama</td>\n",
              "    </tr>\n",
              "  </tbody>\n",
              "</table>\n",
              "</div>"
            ],
            "text/plain": [
              "                                                teks               tipe\n",
              "0  Pakai baju ukurannya pas \\n Baju biru pemberia...       Pantun Bijak\n",
              "1  Orang bijak cinta bahasa \\n Bahasa luas Bahasa...  Pantun Pendidikan\n",
              "2  Kepada siapa datangnya wahyu \\n Kepada Nabi wa...     Pantun Nasihat\n",
              "3  Citah perang melawan citah \\n Seekor pelatuk m...  Pantun Pendidikan\n",
              "4  Ada gadis perawan, \\n paling cantik di kampung...       Pantun Agama"
            ]
          },
          "metadata": {
            "tags": []
          },
          "execution_count": 3
        }
      ]
    },
    {
      "cell_type": "code",
      "metadata": {
        "colab": {
          "base_uri": "https://localhost:8080/",
          "height": 204
        },
        "id": "Ji5-LBgCcqeW",
        "outputId": "2d404fae-3a19-4321-95e7-0432090befe7"
      },
      "source": [
        "df = df.drop(columns='tipe')\n",
        "df.head()"
      ],
      "execution_count": 4,
      "outputs": [
        {
          "output_type": "execute_result",
          "data": {
            "text/html": [
              "<div>\n",
              "<style scoped>\n",
              "    .dataframe tbody tr th:only-of-type {\n",
              "        vertical-align: middle;\n",
              "    }\n",
              "\n",
              "    .dataframe tbody tr th {\n",
              "        vertical-align: top;\n",
              "    }\n",
              "\n",
              "    .dataframe thead th {\n",
              "        text-align: right;\n",
              "    }\n",
              "</style>\n",
              "<table border=\"1\" class=\"dataframe\">\n",
              "  <thead>\n",
              "    <tr style=\"text-align: right;\">\n",
              "      <th></th>\n",
              "      <th>teks</th>\n",
              "    </tr>\n",
              "  </thead>\n",
              "  <tbody>\n",
              "    <tr>\n",
              "      <th>0</th>\n",
              "      <td>Pakai baju ukurannya pas \\n Baju biru pemberia...</td>\n",
              "    </tr>\n",
              "    <tr>\n",
              "      <th>1</th>\n",
              "      <td>Orang bijak cinta bahasa \\n Bahasa luas Bahasa...</td>\n",
              "    </tr>\n",
              "    <tr>\n",
              "      <th>2</th>\n",
              "      <td>Kepada siapa datangnya wahyu \\n Kepada Nabi wa...</td>\n",
              "    </tr>\n",
              "    <tr>\n",
              "      <th>3</th>\n",
              "      <td>Citah perang melawan citah \\n Seekor pelatuk m...</td>\n",
              "    </tr>\n",
              "    <tr>\n",
              "      <th>4</th>\n",
              "      <td>Ada gadis perawan, \\n paling cantik di kampung...</td>\n",
              "    </tr>\n",
              "  </tbody>\n",
              "</table>\n",
              "</div>"
            ],
            "text/plain": [
              "                                                teks\n",
              "0  Pakai baju ukurannya pas \\n Baju biru pemberia...\n",
              "1  Orang bijak cinta bahasa \\n Bahasa luas Bahasa...\n",
              "2  Kepada siapa datangnya wahyu \\n Kepada Nabi wa...\n",
              "3  Citah perang melawan citah \\n Seekor pelatuk m...\n",
              "4  Ada gadis perawan, \\n paling cantik di kampung..."
            ]
          },
          "metadata": {
            "tags": []
          },
          "execution_count": 4
        }
      ]
    },
    {
      "cell_type": "code",
      "metadata": {
        "id": "QA4g9-GRYcFl"
      },
      "source": [
        "def seperate_lines(df):\n",
        "  df[['Satu','Dua','Tiga','Empat','Lima','enam','tujuh','lapan','lan','luh']] = df.teks.str.split(\"\\\\\",expand=True,)\n",
        "  new_df = df.drop(['teks','Lima','enam','tujuh','lapan','lan','luh'], axis=1)\n",
        "  return new_df\n",
        "\n",
        "def remove_row_with_null(df):\n",
        "  null_satu = df.index[df['Satu'].isnull()].tolist()\n",
        "  null_dua = df.index[df['Dua'].isnull()].tolist()\n",
        "  null_tiga = df.index[df['Tiga'].isnull()].tolist()\n",
        "  null_empat = df.index[df['Empat'].isnull()].tolist()\n",
        "\n",
        "  df.drop(null_satu, inplace=True)\n",
        "  df.drop(null_dua, inplace=True)\n",
        "  df.drop(null_tiga, inplace=True)\n",
        "  df.drop(null_empat, inplace=True)\n",
        "  return df\n",
        "\n",
        "def remove_enter(df):\n",
        "  for index, row in df.iterrows():\n",
        "    row['Dua'] = row['Dua'][2:]\n",
        "    row['Tiga'] = row['Tiga'][2:]\n",
        "    row['Empat'] = row['Empat'][2:]\n",
        "  return df"
      ],
      "execution_count": 5,
      "outputs": []
    },
    {
      "cell_type": "code",
      "metadata": {
        "id": "Fr7mcZIEaZ5j"
      },
      "source": [
        "# Seperate every line into different columns\n",
        "\n",
        "new_df = seperate_lines(df)\n",
        "new_df = remove_row_with_null(new_df)\n",
        "new_df = remove_enter(new_df)"
      ],
      "execution_count": 6,
      "outputs": []
    },
    {
      "cell_type": "code",
      "metadata": {
        "colab": {
          "base_uri": "https://localhost:8080/",
          "height": 204
        },
        "id": "uNwhE6CVPemu",
        "outputId": "ad2f0f43-2cc0-4a39-eea9-5ca487c6da53"
      },
      "source": [
        "new_df.head()"
      ],
      "execution_count": 7,
      "outputs": [
        {
          "output_type": "execute_result",
          "data": {
            "text/html": [
              "<div>\n",
              "<style scoped>\n",
              "    .dataframe tbody tr th:only-of-type {\n",
              "        vertical-align: middle;\n",
              "    }\n",
              "\n",
              "    .dataframe tbody tr th {\n",
              "        vertical-align: top;\n",
              "    }\n",
              "\n",
              "    .dataframe thead th {\n",
              "        text-align: right;\n",
              "    }\n",
              "</style>\n",
              "<table border=\"1\" class=\"dataframe\">\n",
              "  <thead>\n",
              "    <tr style=\"text-align: right;\">\n",
              "      <th></th>\n",
              "      <th>Satu</th>\n",
              "      <th>Dua</th>\n",
              "      <th>Tiga</th>\n",
              "      <th>Empat</th>\n",
              "    </tr>\n",
              "  </thead>\n",
              "  <tbody>\n",
              "    <tr>\n",
              "      <th>0</th>\n",
              "      <td>Pakai baju ukurannya pas</td>\n",
              "      <td>Baju biru pemberian mertua</td>\n",
              "      <td>Jangan lupa belajar dengan ikhlas</td>\n",
              "      <td>Agar kelak mendapat ridho_Nya</td>\n",
              "    </tr>\n",
              "    <tr>\n",
              "      <th>1</th>\n",
              "      <td>Orang bijak cinta bahasa</td>\n",
              "      <td>Bahasa luas Bahasa masyarakat</td>\n",
              "      <td>Bahasa itu menunjukan Bangsa</td>\n",
              "      <td>Bangsa terhotmat punya martabat</td>\n",
              "    </tr>\n",
              "    <tr>\n",
              "      <th>2</th>\n",
              "      <td>Kepada siapa datangnya wahyu</td>\n",
              "      <td>Kepada Nabi wahyu turun</td>\n",
              "      <td>Dari mana datangnya ilmu</td>\n",
              "      <td>Dari belajar dengan tekun</td>\n",
              "    </tr>\n",
              "    <tr>\n",
              "      <th>3</th>\n",
              "      <td>Citah perang melawan citah</td>\n",
              "      <td>Seekor pelatuk mati di tengah</td>\n",
              "      <td>Jika kau tak mahu sekolah</td>\n",
              "      <td>Ayah bunda pasti gelisah</td>\n",
              "    </tr>\n",
              "    <tr>\n",
              "      <th>4</th>\n",
              "      <td>Ada gadis perawan,</td>\n",
              "      <td>paling cantik di kampungnya.</td>\n",
              "      <td>Hormatilah ibumu kawan,</td>\n",
              "      <td>Ada surga di telapak kakinya.</td>\n",
              "    </tr>\n",
              "  </tbody>\n",
              "</table>\n",
              "</div>"
            ],
            "text/plain": [
              "                            Satu  ...                             Empat\n",
              "0      Pakai baju ukurannya pas   ...    Agar kelak mendapat ridho_Nya \n",
              "1      Orang bijak cinta bahasa   ...  Bangsa terhotmat punya martabat \n",
              "2  Kepada siapa datangnya wahyu   ...        Dari belajar dengan tekun \n",
              "3    Citah perang melawan citah   ...         Ayah bunda pasti gelisah \n",
              "4            Ada gadis perawan,   ...    Ada surga di telapak kakinya. \n",
              "\n",
              "[5 rows x 4 columns]"
            ]
          },
          "metadata": {
            "tags": []
          },
          "execution_count": 7
        }
      ]
    },
    {
      "cell_type": "code",
      "metadata": {
        "colab": {
          "base_uri": "https://localhost:8080/"
        },
        "id": "PMqnSvRjTEFo",
        "outputId": "ef2e4497-04f8-4b6b-b4d2-89f98671a43e"
      },
      "source": [
        "# Make a series of every word used in pantun\n",
        "\n",
        "kata = []\n",
        "for row in new_df['Satu']:\n",
        "  ls = row.split(\" \")\n",
        "  for i in ls:\n",
        "    kata.append(i)\n",
        "for row in new_df['Dua']:\n",
        "  ls = row.split(\" \")\n",
        "  for i in ls:\n",
        "    kata.append(i)\n",
        "for row in new_df['Tiga']:\n",
        "  ls = row.split(\" \")\n",
        "  for i in ls:\n",
        "    kata.append(i)\n",
        "for row in new_df['Empat']:\n",
        "  ls = row.split(\" \")\n",
        "  for i in ls:\n",
        "    kata.append(i)\n",
        "\n",
        "kata_series = pd.Series(kata)\n",
        "\n",
        "kata_series = kata_series.str.replace(r'[^\\w\\s]+', '', -1)\n",
        "kata_series = kata_series.str.replace(' ', '', -1)\n",
        "kata_series = kata_series.str.lower()\n",
        "kata_series = kata_series.drop_duplicates()\n",
        "kata_series.replace('', np.nan, inplace=True)\n",
        "kata_series.dropna(inplace=True)\n",
        "kata_series = kata_series.reset_index(drop=True)\n",
        "\n",
        "kata_series.describe()"
      ],
      "execution_count": 8,
      "outputs": [
        {
          "output_type": "execute_result",
          "data": {
            "text/plain": [
              "count      2722\n",
              "unique     2722\n",
              "top       kapal\n",
              "freq          1\n",
              "dtype: object"
            ]
          },
          "metadata": {
            "tags": []
          },
          "execution_count": 8
        }
      ]
    },
    {
      "cell_type": "code",
      "metadata": {
        "colab": {
          "base_uri": "https://localhost:8080/"
        },
        "id": "28j5VhtFYCwT",
        "outputId": "488cb968-97fe-4e80-b724-6e0464a13840"
      },
      "source": [
        "# Make series for every akhiran in words\n",
        "\n",
        "labels = []\n",
        "vowel = ['a', 'i', 'u', 'e', 'o']\n",
        "counter = 0\n",
        "\n",
        "for kata in kata_series:\n",
        "  \n",
        "  temp = []\n",
        "  if not set('aeiou').intersection(kata):\n",
        "    labels.append(\"AAAAAA\")\n",
        "  else:\n",
        "    for i in reversed(kata):\n",
        "      \n",
        "      temp.append(i)\n",
        "      if i in vowel:\n",
        "        counter += 1\n",
        "        labels.append(''.join(temp)[::-1])\n",
        "        break\n",
        "\n",
        "print(\"Length of the series: {}\".format(len(labels)))\n",
        "print(\"Words with akhiran: {}\\n\".format(counter))\n",
        "\n",
        "label_series = pd.Series(labels)\n",
        "label_series.describe()"
      ],
      "execution_count": 9,
      "outputs": [
        {
          "output_type": "stream",
          "text": [
            "Length of the series: 2722\n",
            "Words with akhiran: 2709\n",
            "\n"
          ],
          "name": "stdout"
        },
        {
          "output_type": "execute_result",
          "data": {
            "text/plain": [
              "count     2722\n",
              "unique      73\n",
              "top          a\n",
              "freq       532\n",
              "dtype: object"
            ]
          },
          "metadata": {
            "tags": []
          },
          "execution_count": 9
        }
      ]
    },
    {
      "cell_type": "code",
      "metadata": {
        "colab": {
          "base_uri": "https://localhost:8080/"
        },
        "id": "3lpcP1xObUqT",
        "outputId": "51b97766-603e-4d74-da6d-c81ab90e9719"
      },
      "source": [
        "# Test the series\n",
        "\n",
        "print(\"the word: {}\".format(kata_series[2706]))\n",
        "print(\"akhiran: {}\".format(labels[2706]))"
      ],
      "execution_count": 87,
      "outputs": [
        {
          "output_type": "stream",
          "text": [
            "the word: cukup\n",
            "akhiran: up\n"
          ],
          "name": "stdout"
        }
      ]
    },
    {
      "cell_type": "code",
      "metadata": {
        "colab": {
          "base_uri": "https://localhost:8080/",
          "height": 173
        },
        "id": "0RXJB9JDcae2",
        "outputId": "79af7416-69d6-41f5-c9f5-e3f2b2d3b02d"
      },
      "source": [
        "# Make the DF\n",
        "\n",
        "frame = {'kata': kata_series,\n",
        "         'akhiran': label_series}\n",
        "  \n",
        "df_rhyme = pd.DataFrame(frame)\n",
        "df_rhyme.describe()"
      ],
      "execution_count": 111,
      "outputs": [
        {
          "output_type": "execute_result",
          "data": {
            "text/html": [
              "<div>\n",
              "<style scoped>\n",
              "    .dataframe tbody tr th:only-of-type {\n",
              "        vertical-align: middle;\n",
              "    }\n",
              "\n",
              "    .dataframe tbody tr th {\n",
              "        vertical-align: top;\n",
              "    }\n",
              "\n",
              "    .dataframe thead th {\n",
              "        text-align: right;\n",
              "    }\n",
              "</style>\n",
              "<table border=\"1\" class=\"dataframe\">\n",
              "  <thead>\n",
              "    <tr style=\"text-align: right;\">\n",
              "      <th></th>\n",
              "      <th>kata</th>\n",
              "      <th>akhiran</th>\n",
              "    </tr>\n",
              "  </thead>\n",
              "  <tbody>\n",
              "    <tr>\n",
              "      <th>count</th>\n",
              "      <td>2722</td>\n",
              "      <td>2722</td>\n",
              "    </tr>\n",
              "    <tr>\n",
              "      <th>unique</th>\n",
              "      <td>2722</td>\n",
              "      <td>73</td>\n",
              "    </tr>\n",
              "    <tr>\n",
              "      <th>top</th>\n",
              "      <td>kapal</td>\n",
              "      <td>a</td>\n",
              "    </tr>\n",
              "    <tr>\n",
              "      <th>freq</th>\n",
              "      <td>1</td>\n",
              "      <td>532</td>\n",
              "    </tr>\n",
              "  </tbody>\n",
              "</table>\n",
              "</div>"
            ],
            "text/plain": [
              "         kata akhiran\n",
              "count    2722    2722\n",
              "unique   2722      73\n",
              "top     kapal       a\n",
              "freq        1     532"
            ]
          },
          "metadata": {
            "tags": []
          },
          "execution_count": 111
        }
      ]
    },
    {
      "cell_type": "code",
      "metadata": {
        "colab": {
          "base_uri": "https://localhost:8080/",
          "height": 452
        },
        "id": "6Xya7z7If8Ki",
        "outputId": "f9b5dc06-a703-4a82-8c35-e8768871dcba"
      },
      "source": [
        "# find words with null akhiran\n",
        "\n",
        "df_rhyme[df_rhyme['akhiran'] == \"AAAAAA\"]"
      ],
      "execution_count": 112,
      "outputs": [
        {
          "output_type": "execute_result",
          "data": {
            "text/html": [
              "<div>\n",
              "<style scoped>\n",
              "    .dataframe tbody tr th:only-of-type {\n",
              "        vertical-align: middle;\n",
              "    }\n",
              "\n",
              "    .dataframe tbody tr th {\n",
              "        vertical-align: top;\n",
              "    }\n",
              "\n",
              "    .dataframe thead th {\n",
              "        text-align: right;\n",
              "    }\n",
              "</style>\n",
              "<table border=\"1\" class=\"dataframe\">\n",
              "  <thead>\n",
              "    <tr style=\"text-align: right;\">\n",
              "      <th></th>\n",
              "      <th>kata</th>\n",
              "      <th>akhiran</th>\n",
              "    </tr>\n",
              "  </thead>\n",
              "  <tbody>\n",
              "    <tr>\n",
              "      <th>289</th>\n",
              "      <td>d</td>\n",
              "      <td>AAAAAA</td>\n",
              "    </tr>\n",
              "    <tr>\n",
              "      <th>628</th>\n",
              "      <td>2</td>\n",
              "      <td>AAAAAA</td>\n",
              "    </tr>\n",
              "    <tr>\n",
              "      <th>1070</th>\n",
              "      <td>lh</td>\n",
              "      <td>AAAAAA</td>\n",
              "    </tr>\n",
              "    <tr>\n",
              "      <th>1189</th>\n",
              "      <td>k</td>\n",
              "      <td>AAAAAA</td>\n",
              "    </tr>\n",
              "    <tr>\n",
              "      <th>1557</th>\n",
              "      <td>11</td>\n",
              "      <td>AAAAAA</td>\n",
              "    </tr>\n",
              "    <tr>\n",
              "      <th>1803</th>\n",
              "      <td>mw</td>\n",
              "      <td>AAAAAA</td>\n",
              "    </tr>\n",
              "    <tr>\n",
              "      <th>1856</th>\n",
              "      <td>mcm</td>\n",
              "      <td>AAAAAA</td>\n",
              "    </tr>\n",
              "    <tr>\n",
              "      <th>1860</th>\n",
              "      <td>nk</td>\n",
              "      <td>AAAAAA</td>\n",
              "    </tr>\n",
              "    <tr>\n",
              "      <th>1996</th>\n",
              "      <td>72</td>\n",
              "      <td>AAAAAA</td>\n",
              "    </tr>\n",
              "    <tr>\n",
              "      <th>2210</th>\n",
              "      <td>1781945</td>\n",
              "      <td>AAAAAA</td>\n",
              "    </tr>\n",
              "    <tr>\n",
              "      <th>2367</th>\n",
              "      <td>yg</td>\n",
              "      <td>AAAAAA</td>\n",
              "    </tr>\n",
              "    <tr>\n",
              "      <th>2509</th>\n",
              "      <td>wkwk</td>\n",
              "      <td>AAAAAA</td>\n",
              "    </tr>\n",
              "    <tr>\n",
              "      <th>2514</th>\n",
              "      <td>q</td>\n",
              "      <td>AAAAAA</td>\n",
              "    </tr>\n",
              "  </tbody>\n",
              "</table>\n",
              "</div>"
            ],
            "text/plain": [
              "         kata akhiran\n",
              "289         d  AAAAAA\n",
              "628         2  AAAAAA\n",
              "1070       lh  AAAAAA\n",
              "1189        k  AAAAAA\n",
              "1557       11  AAAAAA\n",
              "1803       mw  AAAAAA\n",
              "1856      mcm  AAAAAA\n",
              "1860       nk  AAAAAA\n",
              "1996       72  AAAAAA\n",
              "2210  1781945  AAAAAA\n",
              "2367       yg  AAAAAA\n",
              "2509     wkwk  AAAAAA\n",
              "2514        q  AAAAAA"
            ]
          },
          "metadata": {
            "tags": []
          },
          "execution_count": 112
        }
      ]
    },
    {
      "cell_type": "markdown",
      "metadata": {
        "id": "UgPRzNaOmpof"
      },
      "source": [
        "<img src=\"https://i.kym-cdn.com/entries/icons/facebook/000/034/772/Untitled-1.jpg\" width=\"400\">"
      ]
    },
    {
      "cell_type": "code",
      "metadata": {
        "colab": {
          "base_uri": "https://localhost:8080/"
        },
        "id": "WEYY-CdmgHVI",
        "outputId": "6568f8b1-e7b1-42ea-858f-9cca68fc7715"
      },
      "source": [
        "df_rhyme.replace('AAAAAA', np.nan, inplace=True)\n",
        "df_rhyme.dropna(inplace=True)\n",
        "\n",
        "df_rhyme['akhiran'].isnull().value_counts()"
      ],
      "execution_count": 113,
      "outputs": [
        {
          "output_type": "execute_result",
          "data": {
            "text/plain": [
              "False    2709\n",
              "Name: akhiran, dtype: int64"
            ]
          },
          "metadata": {
            "tags": []
          },
          "execution_count": 113
        }
      ]
    },
    {
      "cell_type": "code",
      "metadata": {
        "colab": {
          "base_uri": "https://localhost:8080/"
        },
        "id": "LyhvfCvmMiLA",
        "outputId": "536b07b5-3bce-4744-88ef-4781b14dcff9"
      },
      "source": [
        "df_rhyme.akhiran.unique()"
      ],
      "execution_count": 114,
      "outputs": [
        {
          "output_type": "execute_result",
          "data": {
            "text/plain": [
              "array(['i', 'u', 'a', 'as', 'ang', 'ak', 'ah', 'an', 'is', 'in', 'ap',\n",
              "       'at', 'am', 'it', 'up', 'or', 'uh', 'ab', 'e', 'ul', 'ung', 'ik',\n",
              "       'ir', 'ut', 'il', 'un', 'ar', 'us', 'on', 'im', 'em', 'um', 'ih',\n",
              "       'ok', 'ing', 'er', 'ur', 'o', 'ity', 'uk', 'eng', 'al', 'ip', 'et',\n",
              "       'od', 'es', 'ib', 'ek', 'ong', 'ipt', 'ath', 'if', 'ep', 'el',\n",
              "       'eh', 'ud', 'alm', 'oh', 'ol', 'en', 'af', 'ey', 'uz', 'os', 'id',\n",
              "       'elm', 'aq', 'ess', 'iz', 'ow', 'alh', 'op'], dtype=object)"
            ]
          },
          "metadata": {
            "tags": []
          },
          "execution_count": 114
        }
      ]
    },
    {
      "cell_type": "code",
      "metadata": {
        "colab": {
          "base_uri": "https://localhost:8080/"
        },
        "id": "see1NalfM3Qx",
        "outputId": "d2648e6f-e6ef-4895-885f-c75af98ce426"
      },
      "source": [
        "# Handle akhiran yang aneh : alm, ity, uz, elm, aq, ess, iz, ow, alh, ath, od, ipt, id\n",
        "\n",
        "df_rhyme['akhiran'].replace('alm', 'em', inplace=True)\n",
        "df_rhyme['akhiran'].replace('ity', 'i', inplace=True)\n",
        "df_rhyme['akhiran'].replace('uz', 'us', inplace=True)\n",
        "df_rhyme['akhiran'].replace('elm', 'em', inplace=True)\n",
        "df_rhyme['akhiran'].replace('aq', 'u', inplace=True)\n",
        "df_rhyme['akhiran'].replace('ess', 'es', inplace=True)\n",
        "df_rhyme['akhiran'].replace('iz', 'is', inplace=True)\n",
        "df_rhyme['akhiran'].replace('id', 'it', inplace=True)\n",
        "df_rhyme['akhiran'].replace('ath', 'at', inplace=True)\n",
        "df_rhyme['akhiran'].replace('od', 'ut', inplace=True)\n",
        "\n",
        "# akhiran ipt\n",
        "df_rhyme.drop(671, inplace=True)\n",
        "# akhiran alh\n",
        "df_rhyme.drop(2552, inplace=True)\n",
        "\n",
        "df_rhyme.akhiran.unique()"
      ],
      "execution_count": 119,
      "outputs": [
        {
          "output_type": "execute_result",
          "data": {
            "text/plain": [
              "array(['i', 'u', 'a', 'as', 'ang', 'ak', 'ah', 'an', 'is', 'in', 'ap',\n",
              "       'at', 'am', 'it', 'up', 'or', 'uh', 'ab', 'e', 'ul', 'ung', 'ik',\n",
              "       'ir', 'ut', 'il', 'un', 'ar', 'us', 'on', 'im', 'em', 'um', 'ih',\n",
              "       'ok', 'ing', 'er', 'ur', 'o', 'uk', 'eng', 'al', 'ip', 'et', 'es',\n",
              "       'ib', 'ek', 'ong', 'if', 'ep', 'el', 'eh', 'ud', 'oh', 'ol', 'en',\n",
              "       'af', 'ey', 'os', 'ow', 'op'], dtype=object)"
            ]
          },
          "metadata": {
            "tags": []
          },
          "execution_count": 119
        }
      ]
    },
    {
      "cell_type": "code",
      "metadata": {
        "colab": {
          "base_uri": "https://localhost:8080/",
          "height": 49
        },
        "id": "LpDNiRTVXymg",
        "outputId": "9087babc-46c0-4187-a4b0-c56c5195eaa4"
      },
      "source": [
        "df_rhyme[df_rhyme['akhiran'] == 'id']"
      ],
      "execution_count": 120,
      "outputs": [
        {
          "output_type": "execute_result",
          "data": {
            "text/html": [
              "<div>\n",
              "<style scoped>\n",
              "    .dataframe tbody tr th:only-of-type {\n",
              "        vertical-align: middle;\n",
              "    }\n",
              "\n",
              "    .dataframe tbody tr th {\n",
              "        vertical-align: top;\n",
              "    }\n",
              "\n",
              "    .dataframe thead th {\n",
              "        text-align: right;\n",
              "    }\n",
              "</style>\n",
              "<table border=\"1\" class=\"dataframe\">\n",
              "  <thead>\n",
              "    <tr style=\"text-align: right;\">\n",
              "      <th></th>\n",
              "      <th>kata</th>\n",
              "      <th>akhiran</th>\n",
              "    </tr>\n",
              "  </thead>\n",
              "  <tbody>\n",
              "  </tbody>\n",
              "</table>\n",
              "</div>"
            ],
            "text/plain": [
              "Empty DataFrame\n",
              "Columns: [kata, akhiran]\n",
              "Index: []"
            ]
          },
          "metadata": {
            "tags": []
          },
          "execution_count": 120
        }
      ]
    },
    {
      "cell_type": "code",
      "metadata": {
        "id": "WrdlIl-pWs1g"
      },
      "source": [
        "# Ada akhiran yang cuma 1\n",
        "\n",
        "df2 = pd.DataFrame([['mei', 'ey'],\n",
        "                    ['may', 'ey'],\n",
        "                    ['hei', 'ey'],\n",
        "                    ['wakaf', 'af'],\n",
        "                    ['draf', 'af'],\n",
        "                    ['khilaf', 'af'],\n",
        "                    ['sop', 'op'],\n",
        "                    ['stetoskop', 'op'],\n",
        "                    ['bioskop', 'op'],\n",
        "                    ['ancol', 'ol'],\n",
        "                    ['bentol', 'ol'],\n",
        "                    ['benjol', 'ol'],\n",
        "                    ['cebol', 'ol']], columns=['kata', 'akhiran'])\n",
        "\n",
        "added_df = df_rhyme.append(df2, ignore_index=True)"
      ],
      "execution_count": 124,
      "outputs": []
    },
    {
      "cell_type": "code",
      "metadata": {
        "colab": {
          "base_uri": "https://localhost:8080/",
          "height": 381
        },
        "id": "Sb2gVu8Cc6cG",
        "outputId": "8612ed61-2dcf-46cb-e8d8-4d5bc0a4562d"
      },
      "source": [
        "import matplotlib.pyplot as plt\n",
        "import seaborn as sns\n",
        "\n",
        "sns.set_theme(style=\"darkgrid\")\n",
        "plt.figure(figsize=(22, 6))\n",
        "ax = sns.countplot(x=\"akhiran\", data=added_df, order = added_df['akhiran'].value_counts().index)"
      ],
      "execution_count": 135,
      "outputs": [
        {
          "output_type": "display_data",
          "data": {
            "image/png": "[encoded data removed]",
            "text/plain": [
              "<Figure size 1584x432 with 1 Axes>"
            ]
          },
          "metadata": {
            "tags": []
          }
        }
      ]
    },
    {
      "cell_type": "markdown",
      "metadata": {
        "id": "dT7374abeUNP"
      },
      "source": [
        "IMBALANCE LOL"
      ]
    },
    {
      "cell_type": "markdown",
      "metadata": {
        "id": "oVN9LzXcWMPa"
      },
      "source": [
        "\n",
        "\n",
        "---\n",
        "\n"
      ]
    },
    {
      "cell_type": "code",
      "metadata": {
        "colab": {
          "base_uri": "https://localhost:8080/"
        },
        "id": "zMWkeeOdWL6A",
        "outputId": "805dc875-6a14-462a-a556-eb733d0fd396"
      },
      "source": [
        "from sklearn.model_selection import train_test_split\n",
        "\n",
        "X_train, X_test, y_train, y_test = train_test_split(\n",
        "    added_df['kata'],\n",
        "    added_df['akhiran'],\n",
        "    test_size=0.1,\n",
        "    random_state=45,\n",
        "    stratify=added_df['akhiran'])\n",
        "\n",
        "print(\"X_train: {}\".format(X_train.count()))\n",
        "print(\"X_test: {}\\n\".format(X_test.count()))\n",
        "print(\"y_train: {}\".format(y_train.count()))\n",
        "print(\"y_test: {}\".format(y_test.count()))"
      ],
      "execution_count": 145,
      "outputs": [
        {
          "output_type": "stream",
          "text": [
            "X_train: 2448\n",
            "X_test: 272\n",
            "\n",
            "y_train: 2448\n",
            "y_test: 272\n"
          ],
          "name": "stdout"
        }
      ]
    },
    {
      "cell_type": "code",
      "metadata": {
        "colab": {
          "base_uri": "https://localhost:8080/"
        },
        "id": "OxFZ8U0-RerM",
        "outputId": "d8760c75-a51f-4055-dbb1-5089b33b6d00"
      },
      "source": [
        "# import tensorflow as tf\n",
        "\n",
        "# model = tf.keras.models.Sequential([\n",
        "#     tf.keras.layers.Dense(512, activation='relu'),\n",
        "#     tf.keras.layers.Dense(61, activation='softmax')\n",
        "# ])\n",
        "\n",
        "# model.compile(\n",
        "#     optimizer='adam',\n",
        "#     loss='sparse_categorical_crossentropy',\n",
        "#     metrics=['accuracy']\n",
        "# )\n",
        "\n",
        "# num_epochs = 100\n",
        "# batch_size = 128\n",
        "# history = model.fit(df['kata'],\n",
        "#                     df['akhiran'],\n",
        "#                     batch_size=batch_size,\n",
        "#                     epochs=num_epochs,\n",
        "#                     validation_split=0.1)\n",
        "print(\"// TODO : BUAT MODEL\")"
      ],
      "execution_count": 129,
      "outputs": [
        {
          "output_type": "stream",
          "text": [
            "// TODO : BUAT MODEL\n"
          ],
          "name": "stdout"
        }
      ]
    },
    {
      "cell_type": "code",
      "metadata": {
        "id": "FYC5LtdfVIlV"
      },
      "source": [
        ""
      ],
      "execution_count": null,
      "outputs": []
    }
  ]
}