{
  "nbformat": 4,
  "nbformat_minor": 0,
  "metadata": {
    "colab": {
      "name": "paratorv1.ipynb",
      "provenance": [],
      "collapsed_sections": []
    },
    "kernelspec": {
      "display_name": "Python 3",
      "name": "python3"
    },
    "language_info": {
      "name": "python"
    }
  },
  "cells": [
    {
      "cell_type": "code",
      "metadata": {
        "colab": {
          "base_uri": "https://localhost:8080/"
        },
        "id": "B3Mb1ZFyOxfe",
        "outputId": "2e10f890-4663-43bd-b541-1fa76894003d"
      },
      "source": [
        "from google.colab import drive\n",
        "drive.mount('/content/gdrive')"
      ],
      "execution_count": null,
      "outputs": [
        {
          "output_type": "stream",
          "text": [
            "Mounted at /content/gdrive\n"
          ],
          "name": "stdout"
        }
      ]
    },
    {
      "cell_type": "markdown",
      "metadata": {
        "id": "osIDSGZxqtbU"
      },
      "source": [
        "# **DATA GATHERING AND CLEANING**"
      ]
    },
    {
      "cell_type": "code",
      "metadata": {
        "id": "rcAg4QXTO-V6"
      },
      "source": [
        "import pandas as pd\n",
        "import numpy as np\n",
        "import csv\n",
        "\n",
        "csv_path = 'gdrive/MyDrive/pantun.csv'\n",
        "df = pd.read_csv(csv_path)"
      ],
      "execution_count": null,
      "outputs": []
    },
    {
      "cell_type": "code",
      "metadata": {
        "colab": {
          "base_uri": "https://localhost:8080/",
          "height": 204
        },
        "id": "HVvh6EN1XkQr",
        "outputId": "d9c8a0de-abd1-4f3b-f554-aa3d852904c0"
      },
      "source": [
        "df.head()"
      ],
      "execution_count": null,
      "outputs": [
        {
          "output_type": "execute_result",
          "data": {
            "text/html": [
              "<div>\n",
              "<style scoped>\n",
              "    .dataframe tbody tr th:only-of-type {\n",
              "        vertical-align: middle;\n",
              "    }\n",
              "\n",
              "    .dataframe tbody tr th {\n",
              "        vertical-align: top;\n",
              "    }\n",
              "\n",
              "    .dataframe thead th {\n",
              "        text-align: right;\n",
              "    }\n",
              "</style>\n",
              "<table border=\"1\" class=\"dataframe\">\n",
              "  <thead>\n",
              "    <tr style=\"text-align: right;\">\n",
              "      <th></th>\n",
              "      <th>teks</th>\n",
              "      <th>tipe</th>\n",
              "    </tr>\n",
              "  </thead>\n",
              "  <tbody>\n",
              "    <tr>\n",
              "      <th>0</th>\n",
              "      <td>Pakai baju ukurannya pas \\n Baju biru pemberia...</td>\n",
              "      <td>Pantun Bijak</td>\n",
              "    </tr>\n",
              "    <tr>\n",
              "      <th>1</th>\n",
              "      <td>Orang bijak cinta bahasa \\n Bahasa luas Bahasa...</td>\n",
              "      <td>Pantun Pendidikan</td>\n",
              "    </tr>\n",
              "    <tr>\n",
              "      <th>2</th>\n",
              "      <td>Kepada siapa datangnya wahyu \\n Kepada Nabi wa...</td>\n",
              "      <td>Pantun Nasihat</td>\n",
              "    </tr>\n",
              "    <tr>\n",
              "      <th>3</th>\n",
              "      <td>Citah perang melawan citah \\n Seekor pelatuk m...</td>\n",
              "      <td>Pantun Pendidikan</td>\n",
              "    </tr>\n",
              "    <tr>\n",
              "      <th>4</th>\n",
              "      <td>Ada gadis perawan, \\n paling cantik di kampung...</td>\n",
              "      <td>Pantun Agama</td>\n",
              "    </tr>\n",
              "  </tbody>\n",
              "</table>\n",
              "</div>"
            ],
            "text/plain": [
              "                                                teks               tipe\n",
              "0  Pakai baju ukurannya pas \\n Baju biru pemberia...       Pantun Bijak\n",
              "1  Orang bijak cinta bahasa \\n Bahasa luas Bahasa...  Pantun Pendidikan\n",
              "2  Kepada siapa datangnya wahyu \\n Kepada Nabi wa...     Pantun Nasihat\n",
              "3  Citah perang melawan citah \\n Seekor pelatuk m...  Pantun Pendidikan\n",
              "4  Ada gadis perawan, \\n paling cantik di kampung...       Pantun Agama"
            ]
          },
          "metadata": {
            "tags": []
          },
          "execution_count": 4
        }
      ]
    },
    {
      "cell_type": "code",
      "metadata": {
        "colab": {
          "base_uri": "https://localhost:8080/",
          "height": 204
        },
        "id": "Ji5-LBgCcqeW",
        "outputId": "0d1263b9-309b-4c35-bb49-90b911638af0"
      },
      "source": [
        "df = df.drop(columns='tipe')\n",
        "df.head()"
      ],
      "execution_count": null,
      "outputs": [
        {
          "output_type": "execute_result",
          "data": {
            "text/html": [
              "<div>\n",
              "<style scoped>\n",
              "    .dataframe tbody tr th:only-of-type {\n",
              "        vertical-align: middle;\n",
              "    }\n",
              "\n",
              "    .dataframe tbody tr th {\n",
              "        vertical-align: top;\n",
              "    }\n",
              "\n",
              "    .dataframe thead th {\n",
              "        text-align: right;\n",
              "    }\n",
              "</style>\n",
              "<table border=\"1\" class=\"dataframe\">\n",
              "  <thead>\n",
              "    <tr style=\"text-align: right;\">\n",
              "      <th></th>\n",
              "      <th>teks</th>\n",
              "    </tr>\n",
              "  </thead>\n",
              "  <tbody>\n",
              "    <tr>\n",
              "      <th>0</th>\n",
              "      <td>Pakai baju ukurannya pas \\n Baju biru pemberia...</td>\n",
              "    </tr>\n",
              "    <tr>\n",
              "      <th>1</th>\n",
              "      <td>Orang bijak cinta bahasa \\n Bahasa luas Bahasa...</td>\n",
              "    </tr>\n",
              "    <tr>\n",
              "      <th>2</th>\n",
              "      <td>Kepada siapa datangnya wahyu \\n Kepada Nabi wa...</td>\n",
              "    </tr>\n",
              "    <tr>\n",
              "      <th>3</th>\n",
              "      <td>Citah perang melawan citah \\n Seekor pelatuk m...</td>\n",
              "    </tr>\n",
              "    <tr>\n",
              "      <th>4</th>\n",
              "      <td>Ada gadis perawan, \\n paling cantik di kampung...</td>\n",
              "    </tr>\n",
              "  </tbody>\n",
              "</table>\n",
              "</div>"
            ],
            "text/plain": [
              "                                                teks\n",
              "0  Pakai baju ukurannya pas \\n Baju biru pemberia...\n",
              "1  Orang bijak cinta bahasa \\n Bahasa luas Bahasa...\n",
              "2  Kepada siapa datangnya wahyu \\n Kepada Nabi wa...\n",
              "3  Citah perang melawan citah \\n Seekor pelatuk m...\n",
              "4  Ada gadis perawan, \\n paling cantik di kampung..."
            ]
          },
          "metadata": {
            "tags": []
          },
          "execution_count": 5
        }
      ]
    },
    {
      "cell_type": "code",
      "metadata": {
        "id": "QA4g9-GRYcFl"
      },
      "source": [
        "def seperate_lines(df):\n",
        "  df[['Satu','Dua','Tiga','Empat','Lima','enam','tujuh','lapan','lan','luh']] = df.teks.str.split(\"\\\\\",expand=True,)\n",
        "  new_df = df.drop(['teks','Lima','enam','tujuh','lapan','lan','luh'], axis=1)\n",
        "  return new_df\n",
        "\n",
        "def remove_row_with_null(df):\n",
        "  null_satu = df.index[df['Satu'].isnull()].tolist()\n",
        "  null_dua = df.index[df['Dua'].isnull()].tolist()\n",
        "  null_tiga = df.index[df['Tiga'].isnull()].tolist()\n",
        "  null_empat = df.index[df['Empat'].isnull()].tolist()\n",
        "\n",
        "  df.drop(null_satu, inplace=True)\n",
        "  df.drop(null_dua, inplace=True)\n",
        "  df.drop(null_tiga, inplace=True)\n",
        "  df.drop(null_empat, inplace=True)\n",
        "  return df\n",
        "\n",
        "def remove_enter(df):\n",
        "  for index, row in df.iterrows():\n",
        "    row['Dua'] = row['Dua'][2:]\n",
        "    row['Tiga'] = row['Tiga'][2:]\n",
        "    row['Empat'] = row['Empat'][2:]\n",
        "  return df"
      ],
      "execution_count": null,
      "outputs": []
    },
    {
      "cell_type": "code",
      "metadata": {
        "id": "Fr7mcZIEaZ5j"
      },
      "source": [
        "# Seperate every line into different columns\n",
        "\n",
        "new_df = seperate_lines(df)\n",
        "new_df = remove_row_with_null(new_df)\n",
        "new_df = remove_enter(new_df)"
      ],
      "execution_count": null,
      "outputs": []
    },
    {
      "cell_type": "code",
      "metadata": {
        "colab": {
          "base_uri": "https://localhost:8080/",
          "height": 204
        },
        "id": "uNwhE6CVPemu",
        "outputId": "1b24882b-c015-4ae7-f26c-690b7a4c9178"
      },
      "source": [
        "new_df.head()"
      ],
      "execution_count": null,
      "outputs": [
        {
          "output_type": "execute_result",
          "data": {
            "text/html": [
              "<div>\n",
              "<style scoped>\n",
              "    .dataframe tbody tr th:only-of-type {\n",
              "        vertical-align: middle;\n",
              "    }\n",
              "\n",
              "    .dataframe tbody tr th {\n",
              "        vertical-align: top;\n",
              "    }\n",
              "\n",
              "    .dataframe thead th {\n",
              "        text-align: right;\n",
              "    }\n",
              "</style>\n",
              "<table border=\"1\" class=\"dataframe\">\n",
              "  <thead>\n",
              "    <tr style=\"text-align: right;\">\n",
              "      <th></th>\n",
              "      <th>Satu</th>\n",
              "      <th>Dua</th>\n",
              "      <th>Tiga</th>\n",
              "      <th>Empat</th>\n",
              "    </tr>\n",
              "  </thead>\n",
              "  <tbody>\n",
              "    <tr>\n",
              "      <th>0</th>\n",
              "      <td>Pakai baju ukurannya pas</td>\n",
              "      <td>Baju biru pemberian mertua</td>\n",
              "      <td>Jangan lupa belajar dengan ikhlas</td>\n",
              "      <td>Agar kelak mendapat ridho_Nya</td>\n",
              "    </tr>\n",
              "    <tr>\n",
              "      <th>1</th>\n",
              "      <td>Orang bijak cinta bahasa</td>\n",
              "      <td>Bahasa luas Bahasa masyarakat</td>\n",
              "      <td>Bahasa itu menunjukan Bangsa</td>\n",
              "      <td>Bangsa terhotmat punya martabat</td>\n",
              "    </tr>\n",
              "    <tr>\n",
              "      <th>2</th>\n",
              "      <td>Kepada siapa datangnya wahyu</td>\n",
              "      <td>Kepada Nabi wahyu turun</td>\n",
              "      <td>Dari mana datangnya ilmu</td>\n",
              "      <td>Dari belajar dengan tekun</td>\n",
              "    </tr>\n",
              "    <tr>\n",
              "      <th>3</th>\n",
              "      <td>Citah perang melawan citah</td>\n",
              "      <td>Seekor pelatuk mati di tengah</td>\n",
              "      <td>Jika kau tak mahu sekolah</td>\n",
              "      <td>Ayah bunda pasti gelisah</td>\n",
              "    </tr>\n",
              "    <tr>\n",
              "      <th>4</th>\n",
              "      <td>Ada gadis perawan,</td>\n",
              "      <td>paling cantik di kampungnya.</td>\n",
              "      <td>Hormatilah ibumu kawan,</td>\n",
              "      <td>Ada surga di telapak kakinya.</td>\n",
              "    </tr>\n",
              "  </tbody>\n",
              "</table>\n",
              "</div>"
            ],
            "text/plain": [
              "                            Satu  ...                             Empat\n",
              "0      Pakai baju ukurannya pas   ...    Agar kelak mendapat ridho_Nya \n",
              "1      Orang bijak cinta bahasa   ...  Bangsa terhotmat punya martabat \n",
              "2  Kepada siapa datangnya wahyu   ...        Dari belajar dengan tekun \n",
              "3    Citah perang melawan citah   ...         Ayah bunda pasti gelisah \n",
              "4            Ada gadis perawan,   ...    Ada surga di telapak kakinya. \n",
              "\n",
              "[5 rows x 4 columns]"
            ]
          },
          "metadata": {
            "tags": []
          },
          "execution_count": 8
        }
      ]
    },
    {
      "cell_type": "code",
      "metadata": {
        "colab": {
          "base_uri": "https://localhost:8080/"
        },
        "id": "PMqnSvRjTEFo",
        "outputId": "9997f413-c9b6-45ca-9496-fb935e1b717f"
      },
      "source": [
        "# Make a series of every word used in pantun\n",
        "\n",
        "kata = []\n",
        "for row in new_df['Satu']:\n",
        "  ls = row.split(\" \")\n",
        "  for i in ls:\n",
        "    kata.append(i)\n",
        "for row in new_df['Dua']:\n",
        "  ls = row.split(\" \")\n",
        "  for i in ls:\n",
        "    kata.append(i)\n",
        "for row in new_df['Tiga']:\n",
        "  ls = row.split(\" \")\n",
        "  for i in ls:\n",
        "    kata.append(i)\n",
        "for row in new_df['Empat']:\n",
        "  ls = row.split(\" \")\n",
        "  for i in ls:\n",
        "    kata.append(i)\n",
        "\n",
        "kata_series = pd.Series(kata)\n",
        "\n",
        "kata_series = kata_series.str.replace(r'[^\\w\\s]+', '', -1)\n",
        "kata_series = kata_series.str.replace(' ', '', -1)\n",
        "kata_series = kata_series.str.lower()\n",
        "kata_series = kata_series.drop_duplicates()\n",
        "kata_series.replace('', np.nan, inplace=True)\n",
        "kata_series.dropna(inplace=True)\n",
        "kata_series = kata_series.reset_index(drop=True)\n",
        "\n",
        "kata_series.describe()"
      ],
      "execution_count": null,
      "outputs": [
        {
          "output_type": "execute_result",
          "data": {
            "text/plain": [
              "count         2722\n",
              "unique        2722\n",
              "top       berteman\n",
              "freq             1\n",
              "dtype: object"
            ]
          },
          "metadata": {
            "tags": []
          },
          "execution_count": 9
        }
      ]
    },
    {
      "cell_type": "code",
      "metadata": {
        "colab": {
          "base_uri": "https://localhost:8080/"
        },
        "id": "28j5VhtFYCwT",
        "outputId": "d048a53d-4df3-44c9-dcdc-276548c82b93"
      },
      "source": [
        "# Make series for every akhiran in words\n",
        "\n",
        "labels = []\n",
        "vowel = ['a', 'i', 'u', 'e', 'o']\n",
        "counter = 0\n",
        "\n",
        "for kata in kata_series:\n",
        "  \n",
        "  temp = []\n",
        "  if not set('aeiou').intersection(kata):\n",
        "    labels.append(\"AAAAAA\")\n",
        "  else:\n",
        "    for i in reversed(kata):\n",
        "      \n",
        "      temp.append(i)\n",
        "      if i in vowel:\n",
        "        counter += 1\n",
        "        labels.append(''.join(temp)[::-1])\n",
        "        break\n",
        "\n",
        "print(\"Length of the series: {}\".format(len(labels)))\n",
        "print(\"Words with akhiran: {}\\n\".format(counter))\n",
        "\n",
        "label_series = pd.Series(labels)\n",
        "label_series.describe()"
      ],
      "execution_count": null,
      "outputs": [
        {
          "output_type": "stream",
          "text": [
            "Length of the series: 2722\n",
            "Words with akhiran: 2709\n",
            "\n"
          ],
          "name": "stdout"
        },
        {
          "output_type": "execute_result",
          "data": {
            "text/plain": [
              "count     2722\n",
              "unique      73\n",
              "top          a\n",
              "freq       532\n",
              "dtype: object"
            ]
          },
          "metadata": {
            "tags": []
          },
          "execution_count": 10
        }
      ]
    },
    {
      "cell_type": "code",
      "metadata": {
        "colab": {
          "base_uri": "https://localhost:8080/"
        },
        "id": "3lpcP1xObUqT",
        "outputId": "d4007b7a-4890-4a73-cfdc-012d7f5d7e99"
      },
      "source": [
        "# Test the series\n",
        "\n",
        "print(\"the word: {}\".format(kata_series[2706]))\n",
        "print(\"akhiran: {}\".format(labels[2706]))"
      ],
      "execution_count": null,
      "outputs": [
        {
          "output_type": "stream",
          "text": [
            "the word: cukup\n",
            "akhiran: up\n"
          ],
          "name": "stdout"
        }
      ]
    },
    {
      "cell_type": "code",
      "metadata": {
        "colab": {
          "base_uri": "https://localhost:8080/",
          "height": 173
        },
        "id": "0RXJB9JDcae2",
        "outputId": "674bcb28-0355-4319-eb91-e4ebe9c3fc55"
      },
      "source": [
        "# Make the DF\n",
        "\n",
        "frame = {'kata': kata_series,\n",
        "         'akhiran': label_series}\n",
        "  \n",
        "df_rhyme = pd.DataFrame(frame)\n",
        "df_rhyme.describe()"
      ],
      "execution_count": null,
      "outputs": [
        {
          "output_type": "execute_result",
          "data": {
            "text/html": [
              "<div>\n",
              "<style scoped>\n",
              "    .dataframe tbody tr th:only-of-type {\n",
              "        vertical-align: middle;\n",
              "    }\n",
              "\n",
              "    .dataframe tbody tr th {\n",
              "        vertical-align: top;\n",
              "    }\n",
              "\n",
              "    .dataframe thead th {\n",
              "        text-align: right;\n",
              "    }\n",
              "</style>\n",
              "<table border=\"1\" class=\"dataframe\">\n",
              "  <thead>\n",
              "    <tr style=\"text-align: right;\">\n",
              "      <th></th>\n",
              "      <th>kata</th>\n",
              "      <th>akhiran</th>\n",
              "    </tr>\n",
              "  </thead>\n",
              "  <tbody>\n",
              "    <tr>\n",
              "      <th>count</th>\n",
              "      <td>2722</td>\n",
              "      <td>2722</td>\n",
              "    </tr>\n",
              "    <tr>\n",
              "      <th>unique</th>\n",
              "      <td>2722</td>\n",
              "      <td>73</td>\n",
              "    </tr>\n",
              "    <tr>\n",
              "      <th>top</th>\n",
              "      <td>berteman</td>\n",
              "      <td>a</td>\n",
              "    </tr>\n",
              "    <tr>\n",
              "      <th>freq</th>\n",
              "      <td>1</td>\n",
              "      <td>532</td>\n",
              "    </tr>\n",
              "  </tbody>\n",
              "</table>\n",
              "</div>"
            ],
            "text/plain": [
              "            kata akhiran\n",
              "count       2722    2722\n",
              "unique      2722      73\n",
              "top     berteman       a\n",
              "freq           1     532"
            ]
          },
          "metadata": {
            "tags": []
          },
          "execution_count": 12
        }
      ]
    },
    {
      "cell_type": "code",
      "metadata": {
        "colab": {
          "base_uri": "https://localhost:8080/",
          "height": 452
        },
        "id": "6Xya7z7If8Ki",
        "outputId": "7e37499f-87a4-4012-f090-29e8df534a60"
      },
      "source": [
        "# find words with null akhiran\n",
        "\n",
        "df_rhyme[df_rhyme['akhiran'] == \"AAAAAA\"]"
      ],
      "execution_count": null,
      "outputs": [
        {
          "output_type": "execute_result",
          "data": {
            "text/html": [
              "<div>\n",
              "<style scoped>\n",
              "    .dataframe tbody tr th:only-of-type {\n",
              "        vertical-align: middle;\n",
              "    }\n",
              "\n",
              "    .dataframe tbody tr th {\n",
              "        vertical-align: top;\n",
              "    }\n",
              "\n",
              "    .dataframe thead th {\n",
              "        text-align: right;\n",
              "    }\n",
              "</style>\n",
              "<table border=\"1\" class=\"dataframe\">\n",
              "  <thead>\n",
              "    <tr style=\"text-align: right;\">\n",
              "      <th></th>\n",
              "      <th>kata</th>\n",
              "      <th>akhiran</th>\n",
              "    </tr>\n",
              "  </thead>\n",
              "  <tbody>\n",
              "    <tr>\n",
              "      <th>289</th>\n",
              "      <td>d</td>\n",
              "      <td>AAAAAA</td>\n",
              "    </tr>\n",
              "    <tr>\n",
              "      <th>628</th>\n",
              "      <td>2</td>\n",
              "      <td>AAAAAA</td>\n",
              "    </tr>\n",
              "    <tr>\n",
              "      <th>1070</th>\n",
              "      <td>lh</td>\n",
              "      <td>AAAAAA</td>\n",
              "    </tr>\n",
              "    <tr>\n",
              "      <th>1189</th>\n",
              "      <td>k</td>\n",
              "      <td>AAAAAA</td>\n",
              "    </tr>\n",
              "    <tr>\n",
              "      <th>1557</th>\n",
              "      <td>11</td>\n",
              "      <td>AAAAAA</td>\n",
              "    </tr>\n",
              "    <tr>\n",
              "      <th>1803</th>\n",
              "      <td>mw</td>\n",
              "      <td>AAAAAA</td>\n",
              "    </tr>\n",
              "    <tr>\n",
              "      <th>1856</th>\n",
              "      <td>mcm</td>\n",
              "      <td>AAAAAA</td>\n",
              "    </tr>\n",
              "    <tr>\n",
              "      <th>1860</th>\n",
              "      <td>nk</td>\n",
              "      <td>AAAAAA</td>\n",
              "    </tr>\n",
              "    <tr>\n",
              "      <th>1996</th>\n",
              "      <td>72</td>\n",
              "      <td>AAAAAA</td>\n",
              "    </tr>\n",
              "    <tr>\n",
              "      <th>2210</th>\n",
              "      <td>1781945</td>\n",
              "      <td>AAAAAA</td>\n",
              "    </tr>\n",
              "    <tr>\n",
              "      <th>2367</th>\n",
              "      <td>yg</td>\n",
              "      <td>AAAAAA</td>\n",
              "    </tr>\n",
              "    <tr>\n",
              "      <th>2509</th>\n",
              "      <td>wkwk</td>\n",
              "      <td>AAAAAA</td>\n",
              "    </tr>\n",
              "    <tr>\n",
              "      <th>2514</th>\n",
              "      <td>q</td>\n",
              "      <td>AAAAAA</td>\n",
              "    </tr>\n",
              "  </tbody>\n",
              "</table>\n",
              "</div>"
            ],
            "text/plain": [
              "         kata akhiran\n",
              "289         d  AAAAAA\n",
              "628         2  AAAAAA\n",
              "1070       lh  AAAAAA\n",
              "1189        k  AAAAAA\n",
              "1557       11  AAAAAA\n",
              "1803       mw  AAAAAA\n",
              "1856      mcm  AAAAAA\n",
              "1860       nk  AAAAAA\n",
              "1996       72  AAAAAA\n",
              "2210  1781945  AAAAAA\n",
              "2367       yg  AAAAAA\n",
              "2509     wkwk  AAAAAA\n",
              "2514        q  AAAAAA"
            ]
          },
          "metadata": {
            "tags": []
          },
          "execution_count": 13
        }
      ]
    },
    {
      "cell_type": "markdown",
      "metadata": {
        "id": "UgPRzNaOmpof"
      },
      "source": [
        "<img src=\"https://i.kym-cdn.com/entries/icons/facebook/000/034/772/Untitled-1.jpg\" width=\"400\">"
      ]
    },
    {
      "cell_type": "code",
      "metadata": {
        "colab": {
          "base_uri": "https://localhost:8080/"
        },
        "id": "WEYY-CdmgHVI",
        "outputId": "46b899a5-c619-40ec-922f-f3dec7eed216"
      },
      "source": [
        "df_rhyme.replace('AAAAAA', np.nan, inplace=True)\n",
        "df_rhyme.dropna(inplace=True)\n",
        "\n",
        "df_rhyme['akhiran'].isnull().value_counts()"
      ],
      "execution_count": null,
      "outputs": [
        {
          "output_type": "execute_result",
          "data": {
            "text/plain": [
              "False    2709\n",
              "Name: akhiran, dtype: int64"
            ]
          },
          "metadata": {
            "tags": []
          },
          "execution_count": 14
        }
      ]
    },
    {
      "cell_type": "code",
      "metadata": {
        "colab": {
          "base_uri": "https://localhost:8080/"
        },
        "id": "LyhvfCvmMiLA",
        "outputId": "5eea0a9d-9f1a-4b45-c231-6433c88c46bd"
      },
      "source": [
        "df_rhyme.akhiran.unique()"
      ],
      "execution_count": null,
      "outputs": [
        {
          "output_type": "execute_result",
          "data": {
            "text/plain": [
              "array(['i', 'u', 'a', 'as', 'ang', 'ak', 'ah', 'an', 'is', 'in', 'ap',\n",
              "       'at', 'am', 'it', 'up', 'or', 'uh', 'ab', 'e', 'ul', 'ung', 'ik',\n",
              "       'ir', 'ut', 'il', 'un', 'ar', 'us', 'on', 'im', 'em', 'um', 'ih',\n",
              "       'ok', 'ing', 'er', 'ur', 'o', 'ity', 'uk', 'eng', 'al', 'ip', 'et',\n",
              "       'od', 'es', 'ib', 'ek', 'ong', 'ipt', 'ath', 'if', 'ep', 'el',\n",
              "       'eh', 'ud', 'alm', 'oh', 'ol', 'en', 'af', 'ey', 'uz', 'os', 'id',\n",
              "       'elm', 'aq', 'ess', 'iz', 'ow', 'alh', 'op'], dtype=object)"
            ]
          },
          "metadata": {
            "tags": []
          },
          "execution_count": 15
        }
      ]
    },
    {
      "cell_type": "code",
      "metadata": {
        "colab": {
          "base_uri": "https://localhost:8080/"
        },
        "id": "see1NalfM3Qx",
        "outputId": "757f3396-b660-410d-a253-5f3a339114ad"
      },
      "source": [
        "# Handle akhiran yang aneh : alm, ity, uz, elm, aq, ess, iz, ow, alh, ath, od, ipt, id\n",
        "\n",
        "df_rhyme['akhiran'].replace('alm', 'em', inplace=True)\n",
        "df_rhyme['akhiran'].replace('ity', 'i', inplace=True)\n",
        "df_rhyme['akhiran'].replace('uz', 'us', inplace=True)\n",
        "df_rhyme['akhiran'].replace('elm', 'em', inplace=True)\n",
        "df_rhyme['akhiran'].replace('aq', 'u', inplace=True)\n",
        "df_rhyme['akhiran'].replace('ess', 'es', inplace=True)\n",
        "df_rhyme['akhiran'].replace('iz', 'is', inplace=True)\n",
        "df_rhyme['akhiran'].replace('id', 'it', inplace=True)\n",
        "df_rhyme['akhiran'].replace('ath', 'at', inplace=True)\n",
        "df_rhyme['akhiran'].replace('od', 'ut', inplace=True)\n",
        "\n",
        "# akhiran ipt\n",
        "df_rhyme.drop(671, inplace=True)\n",
        "# akhiran alh\n",
        "df_rhyme.drop(2552, inplace=True)\n",
        "\n",
        "df_rhyme.akhiran.unique()"
      ],
      "execution_count": null,
      "outputs": [
        {
          "output_type": "execute_result",
          "data": {
            "text/plain": [
              "array(['i', 'u', 'a', 'as', 'ang', 'ak', 'ah', 'an', 'is', 'in', 'ap',\n",
              "       'at', 'am', 'it', 'up', 'or', 'uh', 'ab', 'e', 'ul', 'ung', 'ik',\n",
              "       'ir', 'ut', 'il', 'un', 'ar', 'us', 'on', 'im', 'em', 'um', 'ih',\n",
              "       'ok', 'ing', 'er', 'ur', 'o', 'uk', 'eng', 'al', 'ip', 'et', 'es',\n",
              "       'ib', 'ek', 'ong', 'if', 'ep', 'el', 'eh', 'ud', 'oh', 'ol', 'en',\n",
              "       'af', 'ey', 'os', 'ow', 'op'], dtype=object)"
            ]
          },
          "metadata": {
            "tags": []
          },
          "execution_count": 16
        }
      ]
    },
    {
      "cell_type": "code",
      "metadata": {
        "colab": {
          "base_uri": "https://localhost:8080/",
          "height": 49
        },
        "id": "LpDNiRTVXymg",
        "outputId": "fd90d57e-cdc3-4fe4-8fb5-4ee23f5b73c8"
      },
      "source": [
        "df_rhyme[df_rhyme['akhiran'] == 'id']"
      ],
      "execution_count": null,
      "outputs": [
        {
          "output_type": "execute_result",
          "data": {
            "text/html": [
              "<div>\n",
              "<style scoped>\n",
              "    .dataframe tbody tr th:only-of-type {\n",
              "        vertical-align: middle;\n",
              "    }\n",
              "\n",
              "    .dataframe tbody tr th {\n",
              "        vertical-align: top;\n",
              "    }\n",
              "\n",
              "    .dataframe thead th {\n",
              "        text-align: right;\n",
              "    }\n",
              "</style>\n",
              "<table border=\"1\" class=\"dataframe\">\n",
              "  <thead>\n",
              "    <tr style=\"text-align: right;\">\n",
              "      <th></th>\n",
              "      <th>kata</th>\n",
              "      <th>akhiran</th>\n",
              "    </tr>\n",
              "  </thead>\n",
              "  <tbody>\n",
              "  </tbody>\n",
              "</table>\n",
              "</div>"
            ],
            "text/plain": [
              "Empty DataFrame\n",
              "Columns: [kata, akhiran]\n",
              "Index: []"
            ]
          },
          "metadata": {
            "tags": []
          },
          "execution_count": 17
        }
      ]
    },
    {
      "cell_type": "code",
      "metadata": {
        "id": "WrdlIl-pWs1g"
      },
      "source": [
        "# Ada akhiran yang cuma 1\n",
        "\n",
        "df2 = pd.DataFrame([['mei', 'ey'],\n",
        "                    ['may', 'ey'],\n",
        "                    ['hei', 'ey'],\n",
        "                    ['wakaf', 'af'],\n",
        "                    ['draf', 'af'],\n",
        "                    ['khilaf', 'af'],\n",
        "                    ['sop', 'op'],\n",
        "                    ['stetoskop', 'op'],\n",
        "                    ['bioskop', 'op'],\n",
        "                    ['ancol', 'ol'],\n",
        "                    ['bentol', 'ol'],\n",
        "                    ['benjol', 'ol'],\n",
        "                    ['cebol', 'ol']], columns=['kata', 'akhiran'])\n",
        "\n",
        "added_df = df_rhyme.append(df2, ignore_index=True)"
      ],
      "execution_count": null,
      "outputs": []
    },
    {
      "cell_type": "code",
      "metadata": {
        "colab": {
          "base_uri": "https://localhost:8080/",
          "height": 381
        },
        "id": "Sb2gVu8Cc6cG",
        "outputId": "886ae518-41cc-413a-ff04-80b641bb12de"
      },
      "source": [
        "import matplotlib.pyplot as plt\n",
        "import seaborn as sns\n",
        "\n",
        "sns.set_theme(style=\"darkgrid\")\n",
        "plt.figure(figsize=(22, 6))\n",
        "ax = sns.countplot(x=\"akhiran\", data=added_df, order = added_df['akhiran'].value_counts().index)"
      ],
      "execution_count": null,
      "outputs": [
        {
          "output_type": "display_data",
          "data": {
            "image/png": "[encoded data removed]",
            "text/plain": [
              "<Figure size 1584x432 with 1 Axes>"
            ]
          },
          "metadata": {
            "tags": []
          }
        }
      ]
    },
    {
      "cell_type": "markdown",
      "metadata": {
        "id": "dT7374abeUNP"
      },
      "source": [
        "IMBALANCE LOL"
      ]
    },
    {
      "cell_type": "code",
      "metadata": {
        "colab": {
          "base_uri": "https://localhost:8080/"
        },
        "id": "ZtCOpr0PQhlK",
        "outputId": "3447a62f-7549-41a4-ad84-ef6a74593409"
      },
      "source": [
        "added_df['akhiran'].describe()"
      ],
      "execution_count": null,
      "outputs": [
        {
          "output_type": "execute_result",
          "data": {
            "text/plain": [
              "count     2720\n",
              "unique      60\n",
              "top          a\n",
              "freq       532\n",
              "Name: akhiran, dtype: object"
            ]
          },
          "metadata": {
            "tags": []
          },
          "execution_count": 31
        }
      ]
    },
    {
      "cell_type": "markdown",
      "metadata": {
        "id": "oVN9LzXcWMPa"
      },
      "source": [
        "\n",
        "\n",
        "---\n",
        "\n"
      ]
    },
    {
      "cell_type": "markdown",
      "metadata": {
        "id": "R1y205puqjSG"
      },
      "source": [
        "# **MODEL TRAINING**"
      ]
    },
    {
      "cell_type": "code",
      "metadata": {
        "colab": {
          "base_uri": "https://localhost:8080/"
        },
        "id": "zMWkeeOdWL6A",
        "outputId": "85318778-6645-4943-da48-e023436021eb"
      },
      "source": [
        "# Split training and testing data\n",
        "\n",
        "from sklearn.model_selection import train_test_split\n",
        "\n",
        "X_train, X_test, y_train, y_test = train_test_split(\n",
        "    added_df['kata'],\n",
        "    added_df['akhiran'],\n",
        "    test_size=0.1,\n",
        "    random_state=45,\n",
        "    stratify=added_df['akhiran'])\n",
        "\n",
        "print(\"X_train: {}\".format(X_train.count()))\n",
        "print(\"X_test: {}\\n\".format(X_test.count()))\n",
        "print(\"y_train: {}\".format(y_train.count()))\n",
        "print(\"y_test: {}\".format(y_test.count()))"
      ],
      "execution_count": null,
      "outputs": [
        {
          "output_type": "stream",
          "text": [
            "X_train: 2448\n",
            "X_test: 272\n",
            "\n",
            "y_train: 2448\n",
            "y_test: 272\n"
          ],
          "name": "stdout"
        }
      ]
    },
    {
      "cell_type": "code",
      "metadata": {
        "colab": {
          "base_uri": "https://localhost:8080/"
        },
        "id": "OxFZ8U0-RerM",
        "outputId": "9d05a146-8c7a-49e6-9292-c742cb6441ea"
      },
      "source": [
        "# Tokenize kata with char_level=True\n",
        "import tensorflow as tf\n",
        "from tensorflow.keras.preprocessing.text import Tokenizer\n",
        "from tensorflow.keras.preprocessing.sequence import pad_sequences\n",
        "\n",
        "vocab_size = 26 # from a - z\n",
        "embedding_dim = 16\n",
        "max_length = 120\n",
        "\n",
        "tokenizer = Tokenizer(num_words=vocab_size, char_level=True)\n",
        "tokenizer.fit_on_texts(X_train)\n",
        "word_index = tokenizer.word_index\n",
        "\n",
        "train_sequences = tokenizer.texts_to_sequences(X_train)\n",
        "train_padded = pad_sequences(train_sequences, maxlen=max_length)\n",
        "\n",
        "# Tokenize validation\n",
        "validation_sequences = tokenizer.texts_to_sequences(X_test)\n",
        "validation_padded = pad_sequences(validation_sequences, maxlen=max_length)\n",
        "\n",
        "print(len(validation_sequences))\n",
        "print(validation_padded.shape)"
      ],
      "execution_count": null,
      "outputs": [
        {
          "output_type": "stream",
          "text": [
            "272\n",
            "(272, 120)\n"
          ],
          "name": "stdout"
        }
      ]
    },
    {
      "cell_type": "code",
      "metadata": {
        "colab": {
          "base_uri": "https://localhost:8080/"
        },
        "id": "VbOBEdC0R2p4",
        "outputId": "27e5747e-f9fe-4a5e-d3bd-291288e125f1"
      },
      "source": [
        "train_sequences[2]"
      ],
      "execution_count": null,
      "outputs": [
        {
          "output_type": "execute_result",
          "data": {
            "text/plain": [
              "[11, 4, 22, 1, 7]"
            ]
          },
          "metadata": {
            "tags": []
          },
          "execution_count": 144
        }
      ]
    },
    {
      "cell_type": "code",
      "metadata": {
        "colab": {
          "base_uri": "https://localhost:8080/"
        },
        "id": "CGZesDW3PM0Y",
        "outputId": "42ddf1ae-fb48-4de2-e4b8-e10375bf7c36"
      },
      "source": [
        "# Tokenize labels\n",
        "\n",
        "label_tokenizer = Tokenizer()\n",
        "label_tokenizer.fit_on_texts(added_df['akhiran'])\n",
        "\n",
        "training_label_seq = np.array(label_tokenizer.texts_to_sequences(y_train))\n",
        "validation_label_seq = np.array(label_tokenizer.texts_to_sequences(y_test))\n",
        "\n",
        "print(training_label_seq[0])\n",
        "print(training_label_seq[1])\n",
        "print(training_label_seq[2])\n",
        "print(training_label_seq.shape)\n",
        "\n",
        "print(validation_label_seq[0])\n",
        "print(validation_label_seq[1])\n",
        "print(validation_label_seq[2])\n",
        "print(validation_label_seq.shape)"
      ],
      "execution_count": null,
      "outputs": [
        {
          "output_type": "stream",
          "text": [
            "[6]\n",
            "[1]\n",
            "[7]\n",
            "(2448, 1)\n",
            "[5]\n",
            "[4]\n",
            "[6]\n",
            "(272, 1)\n"
          ],
          "name": "stdout"
        }
      ]
    },
    {
      "cell_type": "code",
      "metadata": {
        "colab": {
          "base_uri": "https://localhost:8080/"
        },
        "id": "GbWIYPluQY3h",
        "outputId": "4a058e1c-b805-4ac8-de4b-09930ef820df"
      },
      "source": [
        "# Making the model, add dropout to reduce overfitting, and LSTM for RNN\n",
        "\n",
        "model = tf.keras.Sequential([\n",
        "    tf.keras.layers.Embedding(vocab_size+1, embedding_dim, input_length=max_length),\n",
        "    tf.keras.layers.Dropout(0.2),\n",
        "    tf.keras.layers.Conv1D(64, 5, activation='relu'),\n",
        "    tf.keras.layers.MaxPooling1D(pool_size=4),\n",
        "    tf.keras.layers.LSTM(64),\n",
        "    tf.keras.layers.Dense(61, activation='softmax')\n",
        "])\n",
        "model.compile(loss='sparse_categorical_crossentropy',optimizer='adam',metrics=['accuracy'])\n",
        "model.summary()"
      ],
      "execution_count": null,
      "outputs": [
        {
          "output_type": "stream",
          "text": [
            "Model: \"sequential_10\"\n",
            "_________________________________________________________________\n",
            "Layer (type)                 Output Shape              Param #   \n",
            "=================================================================\n",
            "embedding_10 (Embedding)     (None, 120, 16)           432       \n",
            "_________________________________________________________________\n",
            "dropout_4 (Dropout)          (None, 120, 16)           0         \n",
            "_________________________________________________________________\n",
            "conv1d_4 (Conv1D)            (None, 116, 64)           5184      \n",
            "_________________________________________________________________\n",
            "max_pooling1d_4 (MaxPooling1 (None, 29, 64)            0         \n",
            "_________________________________________________________________\n",
            "lstm_5 (LSTM)                (None, 64)                33024     \n",
            "_________________________________________________________________\n",
            "dense_16 (Dense)             (None, 61)                3965      \n",
            "=================================================================\n",
            "Total params: 42,605\n",
            "Trainable params: 42,605\n",
            "Non-trainable params: 0\n",
            "_________________________________________________________________\n"
          ],
          "name": "stdout"
        }
      ]
    },
    {
      "cell_type": "code",
      "metadata": {
        "colab": {
          "base_uri": "https://localhost:8080/"
        },
        "id": "e-Vm0NcbQyWi",
        "outputId": "2d98992f-d348-46a0-c4d5-5df0bddd553a"
      },
      "source": [
        "# Training for 100 epochs\n",
        "\n",
        "num_epochs = 100\n",
        "history = model.fit(train_padded,\n",
        "                    training_label_seq,\n",
        "                    validation_data=(validation_padded, validation_label_seq),\n",
        "                    verbose=2,\n",
        "                    epochs=num_epochs)"
      ],
      "execution_count": null,
      "outputs": [
        {
          "output_type": "stream",
          "text": [
            "Epoch 1/100\n",
            "77/77 - 5s - loss: 3.3749 - accuracy: 0.1797 - val_loss: 3.0915 - val_accuracy: 0.1949\n",
            "Epoch 2/100\n",
            "77/77 - 2s - loss: 3.0627 - accuracy: 0.2092 - val_loss: 2.9314 - val_accuracy: 0.2169\n",
            "Epoch 3/100\n",
            "77/77 - 2s - loss: 2.7224 - accuracy: 0.3292 - val_loss: 2.5130 - val_accuracy: 0.3640\n",
            "Epoch 4/100\n",
            "77/77 - 2s - loss: 2.3322 - accuracy: 0.4232 - val_loss: 2.1817 - val_accuracy: 0.4228\n",
            "Epoch 5/100\n",
            "77/77 - 2s - loss: 2.0629 - accuracy: 0.4665 - val_loss: 1.9584 - val_accuracy: 0.4926\n",
            "Epoch 6/100\n",
            "77/77 - 2s - loss: 1.8705 - accuracy: 0.5221 - val_loss: 1.8076 - val_accuracy: 0.5478\n",
            "Epoch 7/100\n",
            "77/77 - 2s - loss: 1.7396 - accuracy: 0.5551 - val_loss: 1.7069 - val_accuracy: 0.5735\n",
            "Epoch 8/100\n",
            "77/77 - 2s - loss: 1.6424 - accuracy: 0.5821 - val_loss: 1.6137 - val_accuracy: 0.5772\n",
            "Epoch 9/100\n",
            "77/77 - 2s - loss: 1.5670 - accuracy: 0.5956 - val_loss: 1.5270 - val_accuracy: 0.5993\n",
            "Epoch 10/100\n",
            "77/77 - 2s - loss: 1.4807 - accuracy: 0.6111 - val_loss: 1.4535 - val_accuracy: 0.6140\n",
            "Epoch 11/100\n",
            "77/77 - 2s - loss: 1.3852 - accuracy: 0.6307 - val_loss: 1.3757 - val_accuracy: 0.6324\n",
            "Epoch 12/100\n",
            "77/77 - 2s - loss: 1.3239 - accuracy: 0.6528 - val_loss: 1.3175 - val_accuracy: 0.6324\n",
            "Epoch 13/100\n",
            "77/77 - 2s - loss: 1.2449 - accuracy: 0.6699 - val_loss: 1.2357 - val_accuracy: 0.6618\n",
            "Epoch 14/100\n",
            "77/77 - 2s - loss: 1.1743 - accuracy: 0.6867 - val_loss: 1.1534 - val_accuracy: 0.6875\n",
            "Epoch 15/100\n",
            "77/77 - 2s - loss: 1.0988 - accuracy: 0.7136 - val_loss: 1.0940 - val_accuracy: 0.6875\n",
            "Epoch 16/100\n",
            "77/77 - 2s - loss: 1.0225 - accuracy: 0.7259 - val_loss: 1.0248 - val_accuracy: 0.7132\n",
            "Epoch 17/100\n",
            "77/77 - 2s - loss: 0.9550 - accuracy: 0.7480 - val_loss: 0.9292 - val_accuracy: 0.7463\n",
            "Epoch 18/100\n",
            "77/77 - 2s - loss: 0.8812 - accuracy: 0.7737 - val_loss: 0.8817 - val_accuracy: 0.7684\n",
            "Epoch 19/100\n",
            "77/77 - 2s - loss: 0.8259 - accuracy: 0.7810 - val_loss: 0.8133 - val_accuracy: 0.8125\n",
            "Epoch 20/100\n",
            "77/77 - 2s - loss: 0.7778 - accuracy: 0.8047 - val_loss: 0.7722 - val_accuracy: 0.8199\n",
            "Epoch 21/100\n",
            "77/77 - 2s - loss: 0.7249 - accuracy: 0.8194 - val_loss: 0.7154 - val_accuracy: 0.8199\n",
            "Epoch 22/100\n",
            "77/77 - 2s - loss: 0.6835 - accuracy: 0.8313 - val_loss: 0.6677 - val_accuracy: 0.8235\n",
            "Epoch 23/100\n",
            "77/77 - 2s - loss: 0.6435 - accuracy: 0.8333 - val_loss: 0.6336 - val_accuracy: 0.8346\n",
            "Epoch 24/100\n",
            "77/77 - 2s - loss: 0.6117 - accuracy: 0.8460 - val_loss: 0.6192 - val_accuracy: 0.8456\n",
            "Epoch 25/100\n",
            "77/77 - 2s - loss: 0.5715 - accuracy: 0.8648 - val_loss: 0.5888 - val_accuracy: 0.8566\n",
            "Epoch 26/100\n",
            "77/77 - 2s - loss: 0.5387 - accuracy: 0.8717 - val_loss: 0.5604 - val_accuracy: 0.8566\n",
            "Epoch 27/100\n",
            "77/77 - 2s - loss: 0.5197 - accuracy: 0.8693 - val_loss: 0.5368 - val_accuracy: 0.8640\n",
            "Epoch 28/100\n",
            "77/77 - 2s - loss: 0.4915 - accuracy: 0.8852 - val_loss: 0.5180 - val_accuracy: 0.8676\n",
            "Epoch 29/100\n",
            "77/77 - 2s - loss: 0.4572 - accuracy: 0.8962 - val_loss: 0.5016 - val_accuracy: 0.8787\n",
            "Epoch 30/100\n",
            "77/77 - 2s - loss: 0.4454 - accuracy: 0.8917 - val_loss: 0.4844 - val_accuracy: 0.8750\n",
            "Epoch 31/100\n",
            "77/77 - 2s - loss: 0.4350 - accuracy: 0.8958 - val_loss: 0.4799 - val_accuracy: 0.8934\n",
            "Epoch 32/100\n",
            "77/77 - 2s - loss: 0.4003 - accuracy: 0.9081 - val_loss: 0.4644 - val_accuracy: 0.8934\n",
            "Epoch 33/100\n",
            "77/77 - 2s - loss: 0.3777 - accuracy: 0.9093 - val_loss: 0.4321 - val_accuracy: 0.9007\n",
            "Epoch 34/100\n",
            "77/77 - 2s - loss: 0.3693 - accuracy: 0.9069 - val_loss: 0.4217 - val_accuracy: 0.9007\n",
            "Epoch 35/100\n",
            "77/77 - 2s - loss: 0.3618 - accuracy: 0.9077 - val_loss: 0.4103 - val_accuracy: 0.8934\n",
            "Epoch 36/100\n",
            "77/77 - 2s - loss: 0.3379 - accuracy: 0.9195 - val_loss: 0.4013 - val_accuracy: 0.9044\n",
            "Epoch 37/100\n",
            "77/77 - 2s - loss: 0.3192 - accuracy: 0.9293 - val_loss: 0.3736 - val_accuracy: 0.9044\n",
            "Epoch 38/100\n",
            "77/77 - 2s - loss: 0.3238 - accuracy: 0.9187 - val_loss: 0.3847 - val_accuracy: 0.9007\n",
            "Epoch 39/100\n",
            "77/77 - 2s - loss: 0.2977 - accuracy: 0.9310 - val_loss: 0.3802 - val_accuracy: 0.9081\n",
            "Epoch 40/100\n",
            "77/77 - 2s - loss: 0.2904 - accuracy: 0.9306 - val_loss: 0.3635 - val_accuracy: 0.9154\n",
            "Epoch 41/100\n",
            "77/77 - 2s - loss: 0.2820 - accuracy: 0.9277 - val_loss: 0.3515 - val_accuracy: 0.9228\n",
            "Epoch 42/100\n",
            "77/77 - 2s - loss: 0.2733 - accuracy: 0.9334 - val_loss: 0.3557 - val_accuracy: 0.9228\n",
            "Epoch 43/100\n",
            "77/77 - 2s - loss: 0.2584 - accuracy: 0.9420 - val_loss: 0.3263 - val_accuracy: 0.9154\n",
            "Epoch 44/100\n",
            "77/77 - 2s - loss: 0.2429 - accuracy: 0.9428 - val_loss: 0.3262 - val_accuracy: 0.9154\n",
            "Epoch 45/100\n",
            "77/77 - 2s - loss: 0.2441 - accuracy: 0.9432 - val_loss: 0.3200 - val_accuracy: 0.9191\n",
            "Epoch 46/100\n",
            "77/77 - 2s - loss: 0.2247 - accuracy: 0.9477 - val_loss: 0.3113 - val_accuracy: 0.9154\n",
            "Epoch 47/100\n",
            "77/77 - 2s - loss: 0.2169 - accuracy: 0.9551 - val_loss: 0.3230 - val_accuracy: 0.9154\n",
            "Epoch 48/100\n",
            "77/77 - 2s - loss: 0.2159 - accuracy: 0.9542 - val_loss: 0.3042 - val_accuracy: 0.9228\n",
            "Epoch 49/100\n",
            "77/77 - 2s - loss: 0.2129 - accuracy: 0.9481 - val_loss: 0.3015 - val_accuracy: 0.9228\n",
            "Epoch 50/100\n",
            "77/77 - 2s - loss: 0.2039 - accuracy: 0.9542 - val_loss: 0.2982 - val_accuracy: 0.9191\n",
            "Epoch 51/100\n",
            "77/77 - 2s - loss: 0.2032 - accuracy: 0.9510 - val_loss: 0.3072 - val_accuracy: 0.9228\n",
            "Epoch 52/100\n",
            "77/77 - 2s - loss: 0.1972 - accuracy: 0.9538 - val_loss: 0.2935 - val_accuracy: 0.9338\n",
            "Epoch 53/100\n",
            "77/77 - 2s - loss: 0.1787 - accuracy: 0.9673 - val_loss: 0.2608 - val_accuracy: 0.9301\n",
            "Epoch 54/100\n",
            "77/77 - 2s - loss: 0.1839 - accuracy: 0.9542 - val_loss: 0.2663 - val_accuracy: 0.9301\n",
            "Epoch 55/100\n",
            "77/77 - 2s - loss: 0.1643 - accuracy: 0.9669 - val_loss: 0.2751 - val_accuracy: 0.9265\n",
            "Epoch 56/100\n",
            "77/77 - 2s - loss: 0.1605 - accuracy: 0.9645 - val_loss: 0.2723 - val_accuracy: 0.9338\n",
            "Epoch 57/100\n",
            "77/77 - 2s - loss: 0.1657 - accuracy: 0.9636 - val_loss: 0.2573 - val_accuracy: 0.9338\n",
            "Epoch 58/100\n",
            "77/77 - 2s - loss: 0.1513 - accuracy: 0.9685 - val_loss: 0.2653 - val_accuracy: 0.9301\n",
            "Epoch 59/100\n",
            "77/77 - 2s - loss: 0.1530 - accuracy: 0.9665 - val_loss: 0.2473 - val_accuracy: 0.9338\n",
            "Epoch 60/100\n",
            "77/77 - 2s - loss: 0.1465 - accuracy: 0.9685 - val_loss: 0.2578 - val_accuracy: 0.9338\n",
            "Epoch 61/100\n",
            "77/77 - 2s - loss: 0.1360 - accuracy: 0.9714 - val_loss: 0.2295 - val_accuracy: 0.9449\n",
            "Epoch 62/100\n",
            "77/77 - 2s - loss: 0.1332 - accuracy: 0.9751 - val_loss: 0.2375 - val_accuracy: 0.9338\n",
            "Epoch 63/100\n",
            "77/77 - 2s - loss: 0.1331 - accuracy: 0.9694 - val_loss: 0.2296 - val_accuracy: 0.9449\n",
            "Epoch 64/100\n",
            "77/77 - 2s - loss: 0.1359 - accuracy: 0.9747 - val_loss: 0.2430 - val_accuracy: 0.9449\n",
            "Epoch 65/100\n",
            "77/77 - 2s - loss: 0.1249 - accuracy: 0.9739 - val_loss: 0.2333 - val_accuracy: 0.9412\n",
            "Epoch 66/100\n",
            "77/77 - 2s - loss: 0.1148 - accuracy: 0.9767 - val_loss: 0.2230 - val_accuracy: 0.9522\n",
            "Epoch 67/100\n",
            "77/77 - 2s - loss: 0.1221 - accuracy: 0.9743 - val_loss: 0.2124 - val_accuracy: 0.9412\n",
            "Epoch 68/100\n",
            "77/77 - 2s - loss: 0.1110 - accuracy: 0.9816 - val_loss: 0.2069 - val_accuracy: 0.9485\n",
            "Epoch 69/100\n",
            "77/77 - 2s - loss: 0.1067 - accuracy: 0.9779 - val_loss: 0.2092 - val_accuracy: 0.9485\n",
            "Epoch 70/100\n",
            "77/77 - 2s - loss: 0.1043 - accuracy: 0.9783 - val_loss: 0.2104 - val_accuracy: 0.9485\n",
            "Epoch 71/100\n",
            "77/77 - 2s - loss: 0.1046 - accuracy: 0.9788 - val_loss: 0.2130 - val_accuracy: 0.9485\n",
            "Epoch 72/100\n",
            "77/77 - 2s - loss: 0.1042 - accuracy: 0.9800 - val_loss: 0.2254 - val_accuracy: 0.9375\n",
            "Epoch 73/100\n",
            "77/77 - 2s - loss: 0.0998 - accuracy: 0.9816 - val_loss: 0.2152 - val_accuracy: 0.9449\n",
            "Epoch 74/100\n",
            "77/77 - 2s - loss: 0.0878 - accuracy: 0.9853 - val_loss: 0.2198 - val_accuracy: 0.9485\n",
            "Epoch 75/100\n",
            "77/77 - 2s - loss: 0.0886 - accuracy: 0.9857 - val_loss: 0.2202 - val_accuracy: 0.9412\n",
            "Epoch 76/100\n",
            "77/77 - 2s - loss: 0.0947 - accuracy: 0.9800 - val_loss: 0.1973 - val_accuracy: 0.9522\n",
            "Epoch 77/100\n",
            "77/77 - 2s - loss: 0.1004 - accuracy: 0.9759 - val_loss: 0.2463 - val_accuracy: 0.9338\n",
            "Epoch 78/100\n",
            "77/77 - 2s - loss: 0.0894 - accuracy: 0.9841 - val_loss: 0.1981 - val_accuracy: 0.9596\n",
            "Epoch 79/100\n",
            "77/77 - 2s - loss: 0.0805 - accuracy: 0.9861 - val_loss: 0.1988 - val_accuracy: 0.9485\n",
            "Epoch 80/100\n",
            "77/77 - 2s - loss: 0.0812 - accuracy: 0.9865 - val_loss: 0.1990 - val_accuracy: 0.9522\n",
            "Epoch 81/100\n",
            "77/77 - 2s - loss: 0.0735 - accuracy: 0.9853 - val_loss: 0.2081 - val_accuracy: 0.9449\n",
            "Epoch 82/100\n",
            "77/77 - 2s - loss: 0.0850 - accuracy: 0.9824 - val_loss: 0.2132 - val_accuracy: 0.9559\n",
            "Epoch 83/100\n",
            "77/77 - 2s - loss: 0.0720 - accuracy: 0.9865 - val_loss: 0.2032 - val_accuracy: 0.9522\n",
            "Epoch 84/100\n",
            "77/77 - 2s - loss: 0.0756 - accuracy: 0.9882 - val_loss: 0.1780 - val_accuracy: 0.9596\n",
            "Epoch 85/100\n",
            "77/77 - 2s - loss: 0.0664 - accuracy: 0.9877 - val_loss: 0.1940 - val_accuracy: 0.9559\n",
            "Epoch 86/100\n",
            "77/77 - 2s - loss: 0.0683 - accuracy: 0.9902 - val_loss: 0.2032 - val_accuracy: 0.9559\n",
            "Epoch 87/100\n",
            "77/77 - 2s - loss: 0.0711 - accuracy: 0.9873 - val_loss: 0.2039 - val_accuracy: 0.9522\n",
            "Epoch 88/100\n",
            "77/77 - 2s - loss: 0.0563 - accuracy: 0.9935 - val_loss: 0.1757 - val_accuracy: 0.9596\n",
            "Epoch 89/100\n",
            "77/77 - 2s - loss: 0.0587 - accuracy: 0.9910 - val_loss: 0.1807 - val_accuracy: 0.9596\n",
            "Epoch 90/100\n",
            "77/77 - 2s - loss: 0.0603 - accuracy: 0.9898 - val_loss: 0.1898 - val_accuracy: 0.9485\n",
            "Epoch 91/100\n",
            "77/77 - 2s - loss: 0.0641 - accuracy: 0.9873 - val_loss: 0.1844 - val_accuracy: 0.9559\n",
            "Epoch 92/100\n",
            "77/77 - 2s - loss: 0.0586 - accuracy: 0.9926 - val_loss: 0.1858 - val_accuracy: 0.9522\n",
            "Epoch 93/100\n",
            "77/77 - 2s - loss: 0.0575 - accuracy: 0.9894 - val_loss: 0.1890 - val_accuracy: 0.9485\n",
            "Epoch 94/100\n",
            "77/77 - 2s - loss: 0.0577 - accuracy: 0.9902 - val_loss: 0.1888 - val_accuracy: 0.9522\n",
            "Epoch 95/100\n",
            "77/77 - 2s - loss: 0.0566 - accuracy: 0.9910 - val_loss: 0.1839 - val_accuracy: 0.9559\n",
            "Epoch 96/100\n",
            "77/77 - 2s - loss: 0.0575 - accuracy: 0.9890 - val_loss: 0.1952 - val_accuracy: 0.9596\n",
            "Epoch 97/100\n",
            "77/77 - 2s - loss: 0.0553 - accuracy: 0.9882 - val_loss: 0.2076 - val_accuracy: 0.9559\n",
            "Epoch 98/100\n",
            "77/77 - 2s - loss: 0.0523 - accuracy: 0.9902 - val_loss: 0.1830 - val_accuracy: 0.9559\n",
            "Epoch 99/100\n",
            "77/77 - 2s - loss: 0.0614 - accuracy: 0.9894 - val_loss: 0.1994 - val_accuracy: 0.9485\n",
            "Epoch 100/100\n",
            "77/77 - 2s - loss: 0.0605 - accuracy: 0.9853 - val_loss: 0.1870 - val_accuracy: 0.9485\n"
          ],
          "name": "stdout"
        }
      ]
    },
    {
      "cell_type": "code",
      "metadata": {
        "colab": {
          "base_uri": "https://localhost:8080/",
          "height": 553
        },
        "id": "4HgwY6qtQ4qc",
        "outputId": "d716edfe-42c5-493f-872a-c462dd593411"
      },
      "source": [
        "# Plot before\n",
        "\n",
        "def plot_graphs(history, string):\n",
        "  plt.plot(history.history[string])\n",
        "  plt.plot(history.history['val_'+string])\n",
        "  plt.xlabel(\"Epochs\")\n",
        "  plt.ylabel(string)\n",
        "  plt.legend([string, 'val_'+string])\n",
        "  plt.show()\n",
        "  \n",
        "plot_graphs(history, \"accuracy\")\n",
        "plot_graphs(history, \"loss\")"
      ],
      "execution_count": null,
      "outputs": [
        {
          "output_type": "display_data",
          "data": {
            "image/png": "[encoded data removed]",
            "text/plain": [
              "<Figure size 432x288 with 1 Axes>"
            ]
          },
          "metadata": {
            "tags": []
          }
        },
        {
          "output_type": "display_data",
          "data": {
            "image/png": "[encoded data removed]",
            "text/plain": [
              "<Figure size 432x288 with 1 Axes>"
            ]
          },
          "metadata": {
            "tags": []
          }
        }
      ]
    },
    {
      "cell_type": "code",
      "metadata": {
        "colab": {
          "base_uri": "https://localhost:8080/",
          "height": 554
        },
        "id": "kAVX7P5ATBFB",
        "outputId": "1e36b774-8f5c-4b39-f03b-562ca1d405a5"
      },
      "source": [
        "# plot after\n",
        "\n",
        "plot_graphs(history, \"accuracy\")\n",
        "plot_graphs(history, \"loss\")"
      ],
      "execution_count": null,
      "outputs": [
        {
          "output_type": "display_data",
          "data": {
            "image/png": "[encoded data removed]",
            "text/plain": [
              "<Figure size 432x288 with 1 Axes>"
            ]
          },
          "metadata": {
            "tags": []
          }
        },
        {
          "output_type": "display_data",
          "data": {
            "image/png": "[encoded data removed]",
            "text/plain": [
              "<Figure size 432x288 with 1 Axes>"
            ]
          },
          "metadata": {
            "tags": []
          }
        }
      ]
    },
    {
      "cell_type": "code",
      "metadata": {
        "colab": {
          "base_uri": "https://localhost:8080/",
          "height": 17
        },
        "id": "e0GMjkAVVd_E",
        "outputId": "d203d8de-1cc7-4cc1-8433-837c30287e75"
      },
      "source": [
        "# Make the vecs and meta for embedding projector\n",
        "\n",
        "reverse_word_index = dict([(value, key) for (key, value) in word_index.items()])\n",
        "\n",
        "def decode_sentence(text):\n",
        "    return ' '.join([reverse_word_index.get(i, '?') for i in text])\n",
        "\n",
        "e = model.layers[0]\n",
        "weights = e.get_weights()[0]\n",
        "# print(weights.shape) => shape: (vocab_size, embedding_dim)\n",
        "\n",
        "import io\n",
        "\n",
        "out_v = io.open('vecs.tsv', 'w', encoding='utf-8')\n",
        "out_m = io.open('meta.tsv', 'w', encoding='utf-8')\n",
        "for word_num in range(1, vocab_size):\n",
        "  word = reverse_word_index[word_num]\n",
        "  embeddings = weights[word_num]\n",
        "  out_m.write(word + \"\\n\")\n",
        "  out_v.write('\\t'.join([str(x) for x in embeddings]) + \"\\n\")\n",
        "out_v.close()\n",
        "out_m.close()\n",
        "\n",
        "try:\n",
        "  from google.colab import files\n",
        "except ImportError:\n",
        "  pass\n",
        "else:\n",
        "  files.download('vecs.tsv')\n",
        "  files.download('meta.tsv')"
      ],
      "execution_count": null,
      "outputs": [
        {
          "output_type": "display_data",
          "data": {
            "application/javascript": [
              "\n",
              "    async function download(id, filename, size) {\n",
              "      if (!google.colab.kernel.accessAllowed) {\n",
              "        return;\n",
              "      }\n",
              "      const div = document.createElement('div');\n",
              "      const label = document.createElement('label');\n",
              "      label.textContent = `Downloading \"${filename}\": `;\n",
              "      div.appendChild(label);\n",
              "      const progress = document.createElement('progress');\n",
              "      progress.max = size;\n",
              "      div.appendChild(progress);\n",
              "      document.body.appendChild(div);\n",
              "\n",
              "      const buffers = [];\n",
              "      let downloaded = 0;\n",
              "\n",
              "      const channel = await google.colab.kernel.comms.open(id);\n",
              "      // Send a message to notify the kernel that we're ready.\n",
              "      channel.send({})\n",
              "\n",
              "      for await (const message of channel.messages) {\n",
              "        // Send a message to notify the kernel that we're ready.\n",
              "        channel.send({})\n",
              "        if (message.buffers) {\n",
              "          for (const buffer of message.buffers) {\n",
              "            buffers.push(buffer);\n",
              "            downloaded += buffer.byteLength;\n",
              "            progress.value = downloaded;\n",
              "          }\n",
              "        }\n",
              "      }\n",
              "      const blob = new Blob(buffers, {type: 'application/binary'});\n",
              "      const a = document.createElement('a');\n",
              "      a.href = window.URL.createObjectURL(blob);\n",
              "      a.download = filename;\n",
              "      div.appendChild(a);\n",
              "      a.click();\n",
              "      div.remove();\n",
              "    }\n",
              "  "
            ],
            "text/plain": [
              "<IPython.core.display.Javascript object>"
            ]
          },
          "metadata": {
            "tags": []
          }
        },
        {
          "output_type": "display_data",
          "data": {
            "application/javascript": [
              "download(\"download_dc3b3d90-dcb8-4877-bb58-366da1ec610a\", \"vecs.tsv\", 4947)"
            ],
            "text/plain": [
              "<IPython.core.display.Javascript object>"
            ]
          },
          "metadata": {
            "tags": []
          }
        },
        {
          "output_type": "display_data",
          "data": {
            "application/javascript": [
              "\n",
              "    async function download(id, filename, size) {\n",
              "      if (!google.colab.kernel.accessAllowed) {\n",
              "        return;\n",
              "      }\n",
              "      const div = document.createElement('div');\n",
              "      const label = document.createElement('label');\n",
              "      label.textContent = `Downloading \"${filename}\": `;\n",
              "      div.appendChild(label);\n",
              "      const progress = document.createElement('progress');\n",
              "      progress.max = size;\n",
              "      div.appendChild(progress);\n",
              "      document.body.appendChild(div);\n",
              "\n",
              "      const buffers = [];\n",
              "      let downloaded = 0;\n",
              "\n",
              "      const channel = await google.colab.kernel.comms.open(id);\n",
              "      // Send a message to notify the kernel that we're ready.\n",
              "      channel.send({})\n",
              "\n",
              "      for await (const message of channel.messages) {\n",
              "        // Send a message to notify the kernel that we're ready.\n",
              "        channel.send({})\n",
              "        if (message.buffers) {\n",
              "          for (const buffer of message.buffers) {\n",
              "            buffers.push(buffer);\n",
              "            downloaded += buffer.byteLength;\n",
              "            progress.value = downloaded;\n",
              "          }\n",
              "        }\n",
              "      }\n",
              "      const blob = new Blob(buffers, {type: 'application/binary'});\n",
              "      const a = document.createElement('a');\n",
              "      a.href = window.URL.createObjectURL(blob);\n",
              "      a.download = filename;\n",
              "      div.appendChild(a);\n",
              "      a.click();\n",
              "      div.remove();\n",
              "    }\n",
              "  "
            ],
            "text/plain": [
              "<IPython.core.display.Javascript object>"
            ]
          },
          "metadata": {
            "tags": []
          }
        },
        {
          "output_type": "display_data",
          "data": {
            "application/javascript": [
              "download(\"download_72ae18dd-a554-4240-8f94-49dee6a980b1\", \"meta.tsv\", 50)"
            ],
            "text/plain": [
              "<IPython.core.display.Javascript object>"
            ]
          },
          "metadata": {
            "tags": []
          }
        }
      ]
    },
    {
      "cell_type": "code",
      "metadata": {
        "colab": {
          "base_uri": "https://localhost:8080/"
        },
        "id": "-2dvB5yHVh8L",
        "outputId": "0852cf75-23cd-4aae-9393-04ff4b14b7af"
      },
      "source": [
        "# Testing the result\n",
        "\n",
        "def get_predicted_akhiran(text):\n",
        "  last_word = text.split(' ')[-1]\n",
        "  token_list = tokenizer.texts_to_sequences([last_word])[0]\n",
        "  token_list = pad_sequences([token_list], padding='pre', maxlen=max_length)\n",
        "  predicted = model.predict(token_list).argmax(axis =1)\n",
        "  reverse_word_map = dict(map(reversed, label_tokenizer.word_index.items()))\n",
        "\n",
        "  return reverse_word_map[predicted[0]]\n",
        "\n",
        "print(\"PANTUN 1\")\n",
        "seed_text = \"Jalan-jalan ke Sumbawa\"\n",
        "print(seed_text)\n",
        "print(get_predicted_akhiran(seed_text))\n",
        "\n",
        "seed_text = \"Duduk-duduk makan buah palem\"\n",
        "print(seed_text)\n",
        "print(get_predicted_akhiran(seed_text))\n",
        "\n",
        "seed_text = \"Geli hati menahan tawa\"\n",
        "print(seed_text)\n",
        "print(get_predicted_akhiran(seed_text))\n",
        "\n",
        "seed_text = \"Melihat tupai memakai helm\"\n",
        "print(seed_text)\n",
        "print(get_predicted_akhiran(seed_text))\n",
        "\n",
        "print(\"\\nPANTUN 2\")\n",
        "seed_text = \"jalan jalan ke balikpapan\"\n",
        "print(seed_text)\n",
        "print(get_predicted_akhiran(seed_text))\n",
        "\n",
        "seed_text = \"pulang pulang bawa sepeda mini\"\n",
        "print(seed_text)\n",
        "print(get_predicted_akhiran(seed_text))\n",
        "\n",
        "seed_text = \"Adik kakak merinding penasaran\"\n",
        "print(seed_text)\n",
        "print(get_predicted_akhiran(seed_text))\n",
        "\n",
        "seed_text = \"menengok kura kura pakai bikini\"\n",
        "print(seed_text)\n",
        "print(get_predicted_akhiran(seed_text))\n",
        "\n",
        "print(\"\\nPANTUN 3\")\n",
        "seed_text = \"Batang mawar memang kaku\"\n",
        "print(seed_text)\n",
        "print(get_predicted_akhiran(seed_text))\n",
        "\n",
        "seed_text = \"Tapi bunganya tetap terawat\"\n",
        "print(seed_text)\n",
        "print(get_predicted_akhiran(seed_text))\n",
        "\n",
        "seed_text = \"Jangan ragu akan hatiku\"\n",
        "print(seed_text)\n",
        "print(get_predicted_akhiran(seed_text))\n",
        "\n",
        "seed_text = \"Karena cintaku tanpa syarat\"\n",
        "print(seed_text)\n",
        "print(get_predicted_akhiran(seed_text))"
      ],
      "execution_count": 161,
      "outputs": [
        {
          "output_type": "stream",
          "text": [
            "PANTUN 1\n",
            "Jalan-jalan ke Sumbawa\n",
            "a\n",
            "Duduk-duduk makan buah palem\n",
            "em\n",
            "Geli hati menahan tawa\n",
            "a\n",
            "Melihat tupai memakai helm\n",
            "em\n",
            "\n",
            "PANTUN 2\n",
            "jalan jalan ke balikpapan\n",
            "an\n",
            "pulang pulang bawa sepeda mini\n",
            "i\n",
            "Adik kakak merinding penasaran\n",
            "an\n",
            "menengok kura kura pakai bikini\n",
            "i\n",
            "\n",
            "PANTUN 3\n",
            "Batang mawar memang kaku\n",
            "u\n",
            "Tapi bunganya tetap terawat\n",
            "at\n",
            "Jangan ragu akan hatiku\n",
            "u\n",
            "Karena cintaku tanpa syarat\n",
            "at\n"
          ],
          "name": "stdout"
        }
      ]
    },
    {
      "cell_type": "code",
      "metadata": {
        "id": "irVqWQsWWefb",
        "colab": {
          "base_uri": "https://localhost:8080/"
        },
        "outputId": "b9dd02e8-2de1-4d01-aeb3-1adfbdcb9c46"
      },
      "source": [
        "# SAVE VERSION 1\n",
        "\n",
        "model.save('detect_akhiran_v1')"
      ],
      "execution_count": 162,
      "outputs": [
        {
          "output_type": "stream",
          "text": [
            "WARNING:absl:Found untraced functions such as lstm_cell_5_layer_call_fn, lstm_cell_5_layer_call_and_return_conditional_losses, lstm_cell_5_layer_call_fn, lstm_cell_5_layer_call_and_return_conditional_losses, lstm_cell_5_layer_call_and_return_conditional_losses while saving (showing 5 of 5). These functions will not be directly callable after loading.\n",
            "WARNING:absl:Found untraced functions such as lstm_cell_5_layer_call_fn, lstm_cell_5_layer_call_and_return_conditional_losses, lstm_cell_5_layer_call_fn, lstm_cell_5_layer_call_and_return_conditional_losses, lstm_cell_5_layer_call_and_return_conditional_losses while saving (showing 5 of 5). These functions will not be directly callable after loading.\n"
          ],
          "name": "stderr"
        },
        {
          "output_type": "stream",
          "text": [
            "INFO:tensorflow:Assets written to: detect_akhiran_v1/assets\n"
          ],
          "name": "stdout"
        },
        {
          "output_type": "stream",
          "text": [
            "INFO:tensorflow:Assets written to: detect_akhiran_v1/assets\n"
          ],
          "name": "stderr"
        }
      ]
    },
    {
      "cell_type": "code",
      "metadata": {
        "colab": {
          "base_uri": "https://localhost:8080/"
        },
        "id": "u9-SVZbbs6BJ",
        "outputId": "b07b48c7-2722-4e99-9eec-6265b58f4ba6"
      },
      "source": [
        "!zip -r file.zip detect_akhiran_v1"
      ],
      "execution_count": 163,
      "outputs": [
        {
          "output_type": "stream",
          "text": [
            "  adding: detect_akhiran_v1/ (stored 0%)\n",
            "  adding: detect_akhiran_v1/saved_model.pb (deflated 90%)\n",
            "  adding: detect_akhiran_v1/assets/ (stored 0%)\n",
            "  adding: detect_akhiran_v1/variables/ (stored 0%)\n",
            "  adding: detect_akhiran_v1/variables/variables.data-00000-of-00001 (deflated 6%)\n",
            "  adding: detect_akhiran_v1/variables/variables.index (deflated 64%)\n"
          ],
          "name": "stdout"
        }
      ]
    },
    {
      "cell_type": "code",
      "metadata": {
        "colab": {
          "base_uri": "https://localhost:8080/",
          "height": 17
        },
        "id": "mqayaM31taap",
        "outputId": "574fe923-a83d-4e30-ceec-f5be8c53b54e"
      },
      "source": [
        "from google.colab import files\n",
        "files.download(\"file.zip\")"
      ],
      "execution_count": 165,
      "outputs": [
        {
          "output_type": "display_data",
          "data": {
            "application/javascript": [
              "\n",
              "    async function download(id, filename, size) {\n",
              "      if (!google.colab.kernel.accessAllowed) {\n",
              "        return;\n",
              "      }\n",
              "      const div = document.createElement('div');\n",
              "      const label = document.createElement('label');\n",
              "      label.textContent = `Downloading \"${filename}\": `;\n",
              "      div.appendChild(label);\n",
              "      const progress = document.createElement('progress');\n",
              "      progress.max = size;\n",
              "      div.appendChild(progress);\n",
              "      document.body.appendChild(div);\n",
              "\n",
              "      const buffers = [];\n",
              "      let downloaded = 0;\n",
              "\n",
              "      const channel = await google.colab.kernel.comms.open(id);\n",
              "      // Send a message to notify the kernel that we're ready.\n",
              "      channel.send({})\n",
              "\n",
              "      for await (const message of channel.messages) {\n",
              "        // Send a message to notify the kernel that we're ready.\n",
              "        channel.send({})\n",
              "        if (message.buffers) {\n",
              "          for (const buffer of message.buffers) {\n",
              "            buffers.push(buffer);\n",
              "            downloaded += buffer.byteLength;\n",
              "            progress.value = downloaded;\n",
              "          }\n",
              "        }\n",
              "      }\n",
              "      const blob = new Blob(buffers, {type: 'application/binary'});\n",
              "      const a = document.createElement('a');\n",
              "      a.href = window.URL.createObjectURL(blob);\n",
              "      a.download = filename;\n",
              "      div.appendChild(a);\n",
              "      a.click();\n",
              "      div.remove();\n",
              "    }\n",
              "  "
            ],
            "text/plain": [
              "<IPython.core.display.Javascript object>"
            ]
          },
          "metadata": {
            "tags": []
          }
        },
        {
          "output_type": "display_data",
          "data": {
            "application/javascript": [
              "download(\"download_697f9549-51c2-40ac-af0b-ae35ef229e2e\", \"file.zip\", 583794)"
            ],
            "text/plain": [
              "<IPython.core.display.Javascript object>"
            ]
          },
          "metadata": {
            "tags": []
          }
        }
      ]
    }
  ]
}