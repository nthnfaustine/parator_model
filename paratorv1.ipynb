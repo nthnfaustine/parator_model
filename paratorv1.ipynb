{
  "nbformat": 4,
  "nbformat_minor": 0,
  "metadata": {
    "colab": {
      "name": "paratorv1.ipynb",
      "provenance": [],
      "collapsed_sections": [],
      "authorship_tag": "ABX9TyPDS7CG34SMNOzi5fuAB4ho",
      "include_colab_link": true
    },
    "kernelspec": {
      "name": "python3",
      "display_name": "Python 3"
    },
    "language_info": {
      "name": "python"
    }
  },
  "cells": [
    {
      "cell_type": "markdown",
      "metadata": {
        "id": "view-in-github",
        "colab_type": "text"
      },
      "source": [
        "<a href=\"https://colab.research.google.com/github/nthnfaustine/parator_model/blob/master/paratorv1.ipynb\" target=\"_parent\"><img src=\"https://colab.research.google.com/assets/colab-badge.svg\" alt=\"Open In Colab\"/></a>"
      ]
    },
    {
      "cell_type": "code",
      "metadata": {
        "colab": {
          "base_uri": "https://localhost:8080/"
        },
        "id": "B3Mb1ZFyOxfe",
        "outputId": "152a74c4-0d12-40fc-ab87-0276b2924b17"
      },
      "source": [
        "from google.colab import drive\n",
        "drive.mount('/content/gdrive')"
      ],
      "execution_count": null,
      "outputs": [
        {
          "output_type": "stream",
          "text": [
            "Mounted at /content/gdrive\n"
          ],
          "name": "stdout"
        }
      ]
    },
    {
      "cell_type": "code",
      "metadata": {
        "id": "rcAg4QXTO-V6"
      },
      "source": [
        "import pandas as pd\n",
        "import numpy as np\n",
        "import csv\n",
        "\n",
        "csv_path = 'gdrive/MyDrive/pantun.csv'\n",
        "df = pd.read_csv(csv_path)"
      ],
      "execution_count": null,
      "outputs": []
    },
    {
      "cell_type": "code",
      "metadata": {
        "colab": {
          "base_uri": "https://localhost:8080/",
          "height": 204
        },
        "id": "HVvh6EN1XkQr",
        "outputId": "9fe7a33a-5f91-44ad-e4fc-5ec355fbc3ba"
      },
      "source": [
        "df.head()"
      ],
      "execution_count": null,
      "outputs": [
        {
          "output_type": "execute_result",
          "data": {
            "text/html": [
              "<div>\n",
              "<style scoped>\n",
              "    .dataframe tbody tr th:only-of-type {\n",
              "        vertical-align: middle;\n",
              "    }\n",
              "\n",
              "    .dataframe tbody tr th {\n",
              "        vertical-align: top;\n",
              "    }\n",
              "\n",
              "    .dataframe thead th {\n",
              "        text-align: right;\n",
              "    }\n",
              "</style>\n",
              "<table border=\"1\" class=\"dataframe\">\n",
              "  <thead>\n",
              "    <tr style=\"text-align: right;\">\n",
              "      <th></th>\n",
              "      <th>teks</th>\n",
              "      <th>tipe</th>\n",
              "    </tr>\n",
              "  </thead>\n",
              "  <tbody>\n",
              "    <tr>\n",
              "      <th>0</th>\n",
              "      <td>Pakai baju ukurannya pas \\n Baju biru pemberia...</td>\n",
              "      <td>Pantun Bijak</td>\n",
              "    </tr>\n",
              "    <tr>\n",
              "      <th>1</th>\n",
              "      <td>Orang bijak cinta bahasa \\n Bahasa luas Bahasa...</td>\n",
              "      <td>Pantun Pendidikan</td>\n",
              "    </tr>\n",
              "    <tr>\n",
              "      <th>2</th>\n",
              "      <td>Kepada siapa datangnya wahyu \\n Kepada Nabi wa...</td>\n",
              "      <td>Pantun Nasihat</td>\n",
              "    </tr>\n",
              "    <tr>\n",
              "      <th>3</th>\n",
              "      <td>Citah perang melawan citah \\n Seekor pelatuk m...</td>\n",
              "      <td>Pantun Pendidikan</td>\n",
              "    </tr>\n",
              "    <tr>\n",
              "      <th>4</th>\n",
              "      <td>Ada gadis perawan, \\n paling cantik di kampung...</td>\n",
              "      <td>Pantun Agama</td>\n",
              "    </tr>\n",
              "  </tbody>\n",
              "</table>\n",
              "</div>"
            ],
            "text/plain": [
              "                                                teks               tipe\n",
              "0  Pakai baju ukurannya pas \\n Baju biru pemberia...       Pantun Bijak\n",
              "1  Orang bijak cinta bahasa \\n Bahasa luas Bahasa...  Pantun Pendidikan\n",
              "2  Kepada siapa datangnya wahyu \\n Kepada Nabi wa...     Pantun Nasihat\n",
              "3  Citah perang melawan citah \\n Seekor pelatuk m...  Pantun Pendidikan\n",
              "4  Ada gadis perawan, \\n paling cantik di kampung...       Pantun Agama"
            ]
          },
          "metadata": {
            "tags": []
          },
          "execution_count": 147
        }
      ]
    },
    {
      "cell_type": "code",
      "metadata": {
        "colab": {
          "base_uri": "https://localhost:8080/",
          "height": 204
        },
        "id": "Ji5-LBgCcqeW",
        "outputId": "e8edd52f-de0e-4d9c-f04a-416a0a1123b1"
      },
      "source": [
        "df = df.drop(columns='tipe')\n",
        "df.head()"
      ],
      "execution_count": null,
      "outputs": [
        {
          "output_type": "execute_result",
          "data": {
            "text/html": [
              "<div>\n",
              "<style scoped>\n",
              "    .dataframe tbody tr th:only-of-type {\n",
              "        vertical-align: middle;\n",
              "    }\n",
              "\n",
              "    .dataframe tbody tr th {\n",
              "        vertical-align: top;\n",
              "    }\n",
              "\n",
              "    .dataframe thead th {\n",
              "        text-align: right;\n",
              "    }\n",
              "</style>\n",
              "<table border=\"1\" class=\"dataframe\">\n",
              "  <thead>\n",
              "    <tr style=\"text-align: right;\">\n",
              "      <th></th>\n",
              "      <th>teks</th>\n",
              "    </tr>\n",
              "  </thead>\n",
              "  <tbody>\n",
              "    <tr>\n",
              "      <th>0</th>\n",
              "      <td>Pakai baju ukurannya pas \\n Baju biru pemberia...</td>\n",
              "    </tr>\n",
              "    <tr>\n",
              "      <th>1</th>\n",
              "      <td>Orang bijak cinta bahasa \\n Bahasa luas Bahasa...</td>\n",
              "    </tr>\n",
              "    <tr>\n",
              "      <th>2</th>\n",
              "      <td>Kepada siapa datangnya wahyu \\n Kepada Nabi wa...</td>\n",
              "    </tr>\n",
              "    <tr>\n",
              "      <th>3</th>\n",
              "      <td>Citah perang melawan citah \\n Seekor pelatuk m...</td>\n",
              "    </tr>\n",
              "    <tr>\n",
              "      <th>4</th>\n",
              "      <td>Ada gadis perawan, \\n paling cantik di kampung...</td>\n",
              "    </tr>\n",
              "  </tbody>\n",
              "</table>\n",
              "</div>"
            ],
            "text/plain": [
              "                                                teks\n",
              "0  Pakai baju ukurannya pas \\n Baju biru pemberia...\n",
              "1  Orang bijak cinta bahasa \\n Bahasa luas Bahasa...\n",
              "2  Kepada siapa datangnya wahyu \\n Kepada Nabi wa...\n",
              "3  Citah perang melawan citah \\n Seekor pelatuk m...\n",
              "4  Ada gadis perawan, \\n paling cantik di kampung..."
            ]
          },
          "metadata": {
            "tags": []
          },
          "execution_count": 148
        }
      ]
    },
    {
      "cell_type": "code",
      "metadata": {
        "id": "QA4g9-GRYcFl"
      },
      "source": [
        "def seperate_lines(df):\n",
        "  df[['Satu','Dua','Tiga','Empat','Lima','enam','tujuh','lapan','lan','luh']] = df.teks.str.split(\"\\\\\",expand=True,)\n",
        "  new_df = df.drop(['teks','Lima','enam','tujuh','lapan','lan','luh'], axis=1)\n",
        "  return new_df\n",
        "\n",
        "def remove_row_with_null(df):\n",
        "  null_satu = df.index[df['Satu'].isnull()].tolist()\n",
        "  null_dua = df.index[df['Dua'].isnull()].tolist()\n",
        "  null_tiga = df.index[df['Tiga'].isnull()].tolist()\n",
        "  null_empat = df.index[df['Empat'].isnull()].tolist()\n",
        "\n",
        "  df.drop(null_satu, inplace=True)\n",
        "  df.drop(null_dua, inplace=True)\n",
        "  df.drop(null_tiga, inplace=True)\n",
        "  df.drop(null_empat, inplace=True)\n",
        "  return df\n",
        "\n",
        "def remove_enter(df):\n",
        "  for index, row in df.iterrows():\n",
        "    row['Dua'] = row['Dua'][2:]\n",
        "    row['Tiga'] = row['Tiga'][2:]\n",
        "    row['Empat'] = row['Empat'][2:]\n",
        "  return df"
      ],
      "execution_count": null,
      "outputs": []
    },
    {
      "cell_type": "code",
      "metadata": {
        "id": "Fr7mcZIEaZ5j"
      },
      "source": [
        "new_df = seperate_lines(df)\n",
        "new_df = remove_row_with_null(new_df)\n",
        "new_df = remove_enter(new_df)"
      ],
      "execution_count": null,
      "outputs": []
    },
    {
      "cell_type": "code",
      "metadata": {
        "colab": {
          "base_uri": "https://localhost:8080/",
          "height": 204
        },
        "id": "uNwhE6CVPemu",
        "outputId": "ef10f83e-ce95-4525-c862-39fba69cfdf5"
      },
      "source": [
        "new_df.head()"
      ],
      "execution_count": null,
      "outputs": [
        {
          "output_type": "execute_result",
          "data": {
            "text/html": [
              "<div>\n",
              "<style scoped>\n",
              "    .dataframe tbody tr th:only-of-type {\n",
              "        vertical-align: middle;\n",
              "    }\n",
              "\n",
              "    .dataframe tbody tr th {\n",
              "        vertical-align: top;\n",
              "    }\n",
              "\n",
              "    .dataframe thead th {\n",
              "        text-align: right;\n",
              "    }\n",
              "</style>\n",
              "<table border=\"1\" class=\"dataframe\">\n",
              "  <thead>\n",
              "    <tr style=\"text-align: right;\">\n",
              "      <th></th>\n",
              "      <th>Satu</th>\n",
              "      <th>Dua</th>\n",
              "      <th>Tiga</th>\n",
              "      <th>Empat</th>\n",
              "    </tr>\n",
              "  </thead>\n",
              "  <tbody>\n",
              "    <tr>\n",
              "      <th>0</th>\n",
              "      <td>Pakai baju ukurannya pas</td>\n",
              "      <td>Baju biru pemberian mertua</td>\n",
              "      <td>Jangan lupa belajar dengan ikhlas</td>\n",
              "      <td>Agar kelak mendapat ridho_Nya</td>\n",
              "    </tr>\n",
              "    <tr>\n",
              "      <th>1</th>\n",
              "      <td>Orang bijak cinta bahasa</td>\n",
              "      <td>Bahasa luas Bahasa masyarakat</td>\n",
              "      <td>Bahasa itu menunjukan Bangsa</td>\n",
              "      <td>Bangsa terhotmat punya martabat</td>\n",
              "    </tr>\n",
              "    <tr>\n",
              "      <th>2</th>\n",
              "      <td>Kepada siapa datangnya wahyu</td>\n",
              "      <td>Kepada Nabi wahyu turun</td>\n",
              "      <td>Dari mana datangnya ilmu</td>\n",
              "      <td>Dari belajar dengan tekun</td>\n",
              "    </tr>\n",
              "    <tr>\n",
              "      <th>3</th>\n",
              "      <td>Citah perang melawan citah</td>\n",
              "      <td>Seekor pelatuk mati di tengah</td>\n",
              "      <td>Jika kau tak mahu sekolah</td>\n",
              "      <td>Ayah bunda pasti gelisah</td>\n",
              "    </tr>\n",
              "    <tr>\n",
              "      <th>4</th>\n",
              "      <td>Ada gadis perawan,</td>\n",
              "      <td>paling cantik di kampungnya.</td>\n",
              "      <td>Hormatilah ibumu kawan,</td>\n",
              "      <td>Ada surga di telapak kakinya.</td>\n",
              "    </tr>\n",
              "  </tbody>\n",
              "</table>\n",
              "</div>"
            ],
            "text/plain": [
              "                            Satu  ...                             Empat\n",
              "0      Pakai baju ukurannya pas   ...    Agar kelak mendapat ridho_Nya \n",
              "1      Orang bijak cinta bahasa   ...  Bangsa terhotmat punya martabat \n",
              "2  Kepada siapa datangnya wahyu   ...        Dari belajar dengan tekun \n",
              "3    Citah perang melawan citah   ...         Ayah bunda pasti gelisah \n",
              "4            Ada gadis perawan,   ...    Ada surga di telapak kakinya. \n",
              "\n",
              "[5 rows x 4 columns]"
            ]
          },
          "metadata": {
            "tags": []
          },
          "execution_count": 153
        }
      ]
    },
    {
      "cell_type": "code",
      "metadata": {
        "id": "wyjVpeS6Uzgi"
      },
      "source": [
        ""
      ],
      "execution_count": null,
      "outputs": []
    }
  ]
}