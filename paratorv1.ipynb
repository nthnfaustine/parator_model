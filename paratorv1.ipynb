{
  "nbformat": 4,
  "nbformat_minor": 0,
  "metadata": {
    "colab": {
      "name": "paratorv1.ipynb",
      "provenance": [],
      "collapsed_sections": [],
      "toc_visible": true
    },
    "kernelspec": {
      "display_name": "Python 3",
      "name": "python3"
    },
    "language_info": {
      "name": "python"
    }
  },
  "cells": [
    {
      "cell_type": "code",
      "metadata": {
        "colab": {
          "base_uri": "https://localhost:8080/"
        },
        "id": "B3Mb1ZFyOxfe",
        "outputId": "a6adfe94-cb67-4b12-9d6f-fe0b19365900"
      },
      "source": [
        "from google.colab import drive\n",
        "drive.mount('/content/gdrive')"
      ],
      "execution_count": 1,
      "outputs": [
        {
          "output_type": "stream",
          "text": [
            "Mounted at /content/gdrive\n"
          ],
          "name": "stdout"
        }
      ]
    },
    {
      "cell_type": "markdown",
      "metadata": {
        "id": "osIDSGZxqtbU"
      },
      "source": [
        "# **DATA GATHERING AND CLEANING**"
      ]
    },
    {
      "cell_type": "code",
      "metadata": {
        "id": "rcAg4QXTO-V6"
      },
      "source": [
        "import pandas as pd\n",
        "import numpy as np\n",
        "import csv\n",
        "\n",
        "csv_path = 'gdrive/MyDrive/pantun.csv'\n",
        "df = pd.read_csv(csv_path)"
      ],
      "execution_count": 2,
      "outputs": []
    },
    {
      "cell_type": "code",
      "metadata": {
        "colab": {
          "base_uri": "https://localhost:8080/",
          "height": 204
        },
        "id": "HVvh6EN1XkQr",
        "outputId": "df4b581a-b586-4a39-c6e4-208be8a28e9c"
      },
      "source": [
        "df.tail()"
      ],
      "execution_count": 3,
      "outputs": [
        {
          "output_type": "execute_result",
          "data": {
            "text/html": [
              "<div>\n",
              "<style scoped>\n",
              "    .dataframe tbody tr th:only-of-type {\n",
              "        vertical-align: middle;\n",
              "    }\n",
              "\n",
              "    .dataframe tbody tr th {\n",
              "        vertical-align: top;\n",
              "    }\n",
              "\n",
              "    .dataframe thead th {\n",
              "        text-align: right;\n",
              "    }\n",
              "</style>\n",
              "<table border=\"1\" class=\"dataframe\">\n",
              "  <thead>\n",
              "    <tr style=\"text-align: right;\">\n",
              "      <th></th>\n",
              "      <th>teks</th>\n",
              "      <th>tipe</th>\n",
              "    </tr>\n",
              "  </thead>\n",
              "  <tbody>\n",
              "    <tr>\n",
              "      <th>485</th>\n",
              "      <td>orang palembang menanam padi \\n negeri malaka ...</td>\n",
              "      <td>Pantun Nasihat</td>\n",
              "    </tr>\n",
              "    <tr>\n",
              "      <th>486</th>\n",
              "      <td>burung kakatua \\n hinggap dijendela \\n siapa y...</td>\n",
              "      <td>Pantun Nasihat</td>\n",
              "    </tr>\n",
              "    <tr>\n",
              "      <th>487</th>\n",
              "      <td>Burung kakak tua udah tak berdaya \\n Burung ad...</td>\n",
              "      <td>Pantun Nasihat</td>\n",
              "    </tr>\n",
              "    <tr>\n",
              "      <th>488</th>\n",
              "      <td>kucing kurus mandi dipapan \\n papan nya sikayu...</td>\n",
              "      <td>Pantun Nasihat</td>\n",
              "    </tr>\n",
              "    <tr>\n",
              "      <th>489</th>\n",
              "      <td>disana gunung disini gunung \\n ditengah tengah...</td>\n",
              "      <td>Pantun Nasihat</td>\n",
              "    </tr>\n",
              "  </tbody>\n",
              "</table>\n",
              "</div>"
            ],
            "text/plain": [
              "                                                  teks            tipe\n",
              "485  orang palembang menanam padi \\n negeri malaka ...  Pantun Nasihat\n",
              "486  burung kakatua \\n hinggap dijendela \\n siapa y...  Pantun Nasihat\n",
              "487  Burung kakak tua udah tak berdaya \\n Burung ad...  Pantun Nasihat\n",
              "488  kucing kurus mandi dipapan \\n papan nya sikayu...  Pantun Nasihat\n",
              "489  disana gunung disini gunung \\n ditengah tengah...  Pantun Nasihat"
            ]
          },
          "metadata": {
            "tags": []
          },
          "execution_count": 3
        }
      ]
    },
    {
      "cell_type": "code",
      "metadata": {
        "colab": {
          "base_uri": "https://localhost:8080/",
          "height": 204
        },
        "id": "Ji5-LBgCcqeW",
        "outputId": "d85e3ef3-a5eb-4437-de76-83fefc592e98"
      },
      "source": [
        "df = df.drop(columns='tipe')\n",
        "df.head()"
      ],
      "execution_count": 4,
      "outputs": [
        {
          "output_type": "execute_result",
          "data": {
            "text/html": [
              "<div>\n",
              "<style scoped>\n",
              "    .dataframe tbody tr th:only-of-type {\n",
              "        vertical-align: middle;\n",
              "    }\n",
              "\n",
              "    .dataframe tbody tr th {\n",
              "        vertical-align: top;\n",
              "    }\n",
              "\n",
              "    .dataframe thead th {\n",
              "        text-align: right;\n",
              "    }\n",
              "</style>\n",
              "<table border=\"1\" class=\"dataframe\">\n",
              "  <thead>\n",
              "    <tr style=\"text-align: right;\">\n",
              "      <th></th>\n",
              "      <th>teks</th>\n",
              "    </tr>\n",
              "  </thead>\n",
              "  <tbody>\n",
              "    <tr>\n",
              "      <th>0</th>\n",
              "      <td>Pakai baju ukurannya pas \\n Baju biru pemberia...</td>\n",
              "    </tr>\n",
              "    <tr>\n",
              "      <th>1</th>\n",
              "      <td>Orang bijak cinta bahasa \\n Bahasa luas Bahasa...</td>\n",
              "    </tr>\n",
              "    <tr>\n",
              "      <th>2</th>\n",
              "      <td>Kepada siapa datangnya wahyu \\n Kepada Nabi wa...</td>\n",
              "    </tr>\n",
              "    <tr>\n",
              "      <th>3</th>\n",
              "      <td>Citah perang melawan citah \\n Seekor pelatuk m...</td>\n",
              "    </tr>\n",
              "    <tr>\n",
              "      <th>4</th>\n",
              "      <td>Ada gadis perawan, \\n paling cantik di kampung...</td>\n",
              "    </tr>\n",
              "  </tbody>\n",
              "</table>\n",
              "</div>"
            ],
            "text/plain": [
              "                                                teks\n",
              "0  Pakai baju ukurannya pas \\n Baju biru pemberia...\n",
              "1  Orang bijak cinta bahasa \\n Bahasa luas Bahasa...\n",
              "2  Kepada siapa datangnya wahyu \\n Kepada Nabi wa...\n",
              "3  Citah perang melawan citah \\n Seekor pelatuk m...\n",
              "4  Ada gadis perawan, \\n paling cantik di kampung..."
            ]
          },
          "metadata": {
            "tags": []
          },
          "execution_count": 4
        }
      ]
    },
    {
      "cell_type": "code",
      "metadata": {
        "id": "QA4g9-GRYcFl"
      },
      "source": [
        "def seperate_lines(df):\n",
        "  df[['Satu','Dua','Tiga','Empat','Lima','enam','tujuh','lapan','lan','luh']] = df.teks.str.split(\"\\\\\",expand=True,)\n",
        "  new_df = df.drop(['teks','Lima','enam','tujuh','lapan','lan','luh'], axis=1)\n",
        "  return new_df\n",
        "\n",
        "def remove_row_with_null(df):\n",
        "  null_satu = df.index[df['Satu'].isnull()].tolist()\n",
        "  null_dua = df.index[df['Dua'].isnull()].tolist()\n",
        "  null_tiga = df.index[df['Tiga'].isnull()].tolist()\n",
        "  null_empat = df.index[df['Empat'].isnull()].tolist()\n",
        "\n",
        "  df.drop(null_satu, inplace=True)\n",
        "  df.drop(null_dua, inplace=True)\n",
        "  df.drop(null_tiga, inplace=True)\n",
        "  df.drop(null_empat, inplace=True)\n",
        "  return df\n",
        "\n",
        "def remove_enter(df):\n",
        "  for index, row in df.iterrows():\n",
        "    row['Dua'] = row['Dua'][2:]\n",
        "    row['Tiga'] = row['Tiga'][2:]\n",
        "    row['Empat'] = row['Empat'][2:]\n",
        "  return df"
      ],
      "execution_count": 5,
      "outputs": []
    },
    {
      "cell_type": "code",
      "metadata": {
        "id": "Fr7mcZIEaZ5j"
      },
      "source": [
        "# Seperate every line into different columns\n",
        "\n",
        "new_df = seperate_lines(df)\n",
        "new_df = remove_row_with_null(new_df)\n",
        "new_df = remove_enter(new_df)"
      ],
      "execution_count": 6,
      "outputs": []
    },
    {
      "cell_type": "code",
      "metadata": {
        "colab": {
          "base_uri": "https://localhost:8080/",
          "height": 204
        },
        "id": "uNwhE6CVPemu",
        "outputId": "39fc968d-a644-4295-f17f-a04635d99d86"
      },
      "source": [
        "new_df.tail()"
      ],
      "execution_count": 7,
      "outputs": [
        {
          "output_type": "execute_result",
          "data": {
            "text/html": [
              "<div>\n",
              "<style scoped>\n",
              "    .dataframe tbody tr th:only-of-type {\n",
              "        vertical-align: middle;\n",
              "    }\n",
              "\n",
              "    .dataframe tbody tr th {\n",
              "        vertical-align: top;\n",
              "    }\n",
              "\n",
              "    .dataframe thead th {\n",
              "        text-align: right;\n",
              "    }\n",
              "</style>\n",
              "<table border=\"1\" class=\"dataframe\">\n",
              "  <thead>\n",
              "    <tr style=\"text-align: right;\">\n",
              "      <th></th>\n",
              "      <th>Satu</th>\n",
              "      <th>Dua</th>\n",
              "      <th>Tiga</th>\n",
              "      <th>Empat</th>\n",
              "    </tr>\n",
              "  </thead>\n",
              "  <tbody>\n",
              "    <tr>\n",
              "      <th>485</th>\n",
              "      <td>orang palembang menanam padi</td>\n",
              "      <td>negeri malaka negeri seberang</td>\n",
              "      <td>putus cinta jangan bersedih</td>\n",
              "      <td>dunia ini masih panjang</td>\n",
              "    </tr>\n",
              "    <tr>\n",
              "      <th>486</th>\n",
              "      <td>burung kakatua</td>\n",
              "      <td>hinggap dijendela</td>\n",
              "      <td>siapa yang jatuh cinta</td>\n",
              "      <td>pasti cemburu buta</td>\n",
              "    </tr>\n",
              "    <tr>\n",
              "      <th>487</th>\n",
              "      <td>Burung kakak tua udah tak berdaya</td>\n",
              "      <td>Burung adik muda terbang ke angkasa</td>\n",
              "      <td>Makasi kakek telah berjuang bela negara</td>\n",
              "      <td>Sekarang adek bahagia di hari MERDEKA</td>\n",
              "    </tr>\n",
              "    <tr>\n",
              "      <th>488</th>\n",
              "      <td>kucing kurus mandi dipapan</td>\n",
              "      <td>papan nya sikayu jati</td>\n",
              "      <td>aku kurus bukan karena kurang makan</td>\n",
              "      <td>tetapi mikirin sijantung hati</td>\n",
              "    </tr>\n",
              "    <tr>\n",
              "      <th>489</th>\n",
              "      <td>disana gunung disini gunung</td>\n",
              "      <td>ditengah tengah gunung berapi</td>\n",
              "      <td>kesana bingung kesini bingung</td>\n",
              "      <td>itulah namanya jatuh hati</td>\n",
              "    </tr>\n",
              "  </tbody>\n",
              "</table>\n",
              "</div>"
            ],
            "text/plain": [
              "                                   Satu  ...                                  Empat\n",
              "485       orang palembang menanam padi   ...                dunia ini masih panjang\n",
              "486                     burung kakatua   ...                     pasti cemburu buta\n",
              "487  Burung kakak tua udah tak berdaya   ...  Sekarang adek bahagia di hari MERDEKA\n",
              "488         kucing kurus mandi dipapan   ...          tetapi mikirin sijantung hati\n",
              "489        disana gunung disini gunung   ...              itulah namanya jatuh hati\n",
              "\n",
              "[5 rows x 4 columns]"
            ]
          },
          "metadata": {
            "tags": []
          },
          "execution_count": 7
        }
      ]
    },
    {
      "cell_type": "code",
      "metadata": {
        "colab": {
          "base_uri": "https://localhost:8080/"
        },
        "id": "PMqnSvRjTEFo",
        "outputId": "4da1b1c5-bf42-40f2-9cf8-40d87cd3acd0"
      },
      "source": [
        "# Make a series of every word used in pantun\n",
        "\n",
        "kata = []\n",
        "for row in new_df['Satu']:\n",
        "  ls = row.split(\" \")\n",
        "  for i in ls:\n",
        "    kata.append(i)\n",
        "for row in new_df['Dua']:\n",
        "  ls = row.split(\" \")\n",
        "  for i in ls:\n",
        "    kata.append(i)\n",
        "for row in new_df['Tiga']:\n",
        "  ls = row.split(\" \")\n",
        "  for i in ls:\n",
        "    kata.append(i)\n",
        "for row in new_df['Empat']:\n",
        "  ls = row.split(\" \")\n",
        "  for i in ls:\n",
        "    kata.append(i)\n",
        "\n",
        "kata_series = pd.Series(kata)\n",
        "\n",
        "kata_series = kata_series.str.replace(r'[^\\w\\s]+', '', -1)\n",
        "kata_series = kata_series.str.replace(' ', '', -1)\n",
        "kata_series = kata_series.str.lower()\n",
        "kata_series = kata_series.drop_duplicates()\n",
        "kata_series.replace('', np.nan, inplace=True)\n",
        "kata_series.dropna(inplace=True)\n",
        "kata_series = kata_series.reset_index(drop=True)\n",
        "\n",
        "kata_series.describe()"
      ],
      "execution_count": 8,
      "outputs": [
        {
          "output_type": "execute_result",
          "data": {
            "text/plain": [
              "count              2902\n",
              "unique             2902\n",
              "top       berbarisbaris\n",
              "freq                  1\n",
              "dtype: object"
            ]
          },
          "metadata": {
            "tags": []
          },
          "execution_count": 8
        }
      ]
    },
    {
      "cell_type": "code",
      "metadata": {
        "colab": {
          "base_uri": "https://localhost:8080/"
        },
        "id": "28j5VhtFYCwT",
        "outputId": "a2b5c289-868e-44ed-9dc5-8cb80ffa750b"
      },
      "source": [
        "# Make series for every akhiran in words\n",
        "\n",
        "labels = []\n",
        "vowel = ['a', 'i', 'u', 'e', 'o']\n",
        "counter = 0\n",
        "\n",
        "for kata in kata_series:\n",
        "  \n",
        "  temp = []\n",
        "  if not set('aeiou').intersection(kata):\n",
        "    labels.append(\"AAAAAA\")\n",
        "  else:\n",
        "    for i in reversed(kata):\n",
        "      \n",
        "      temp.append(i)\n",
        "      if i in vowel:\n",
        "        counter += 1\n",
        "        labels.append(''.join(temp)[::-1])\n",
        "        break\n",
        "\n",
        "print(\"Length of the series: {}\".format(len(labels)))\n",
        "print(\"Words with akhiran: {}\\n\".format(counter))\n",
        "\n",
        "label_series = pd.Series(labels)\n",
        "label_series.describe()"
      ],
      "execution_count": 9,
      "outputs": [
        {
          "output_type": "stream",
          "text": [
            "Length of the series: 2902\n",
            "Words with akhiran: 2889\n",
            "\n"
          ],
          "name": "stdout"
        },
        {
          "output_type": "execute_result",
          "data": {
            "text/plain": [
              "count     2902\n",
              "unique      74\n",
              "top          a\n",
              "freq       575\n",
              "dtype: object"
            ]
          },
          "metadata": {
            "tags": []
          },
          "execution_count": 9
        }
      ]
    },
    {
      "cell_type": "code",
      "metadata": {
        "colab": {
          "base_uri": "https://localhost:8080/"
        },
        "id": "3lpcP1xObUqT",
        "outputId": "6000e132-f4ac-4daa-d931-9046c5951926"
      },
      "source": [
        "# Test the series\n",
        "\n",
        "print(\"the word: {}\".format(kata_series[2706]))\n",
        "print(\"akhiran: {}\".format(labels[2706]))"
      ],
      "execution_count": 10,
      "outputs": [
        {
          "output_type": "stream",
          "text": [
            "the word: ajaran\n",
            "akhiran: an\n"
          ],
          "name": "stdout"
        }
      ]
    },
    {
      "cell_type": "code",
      "metadata": {
        "colab": {
          "base_uri": "https://localhost:8080/",
          "height": 173
        },
        "id": "0RXJB9JDcae2",
        "outputId": "cd897968-a5d4-494d-d0b7-cc60ba54880e"
      },
      "source": [
        "# Make the DF\n",
        "\n",
        "frame = {'kata': kata_series,\n",
        "         'akhiran': label_series}\n",
        "  \n",
        "df_rhyme = pd.DataFrame(frame)\n",
        "df_rhyme.describe()"
      ],
      "execution_count": 43,
      "outputs": [
        {
          "output_type": "execute_result",
          "data": {
            "text/html": [
              "<div>\n",
              "<style scoped>\n",
              "    .dataframe tbody tr th:only-of-type {\n",
              "        vertical-align: middle;\n",
              "    }\n",
              "\n",
              "    .dataframe tbody tr th {\n",
              "        vertical-align: top;\n",
              "    }\n",
              "\n",
              "    .dataframe thead th {\n",
              "        text-align: right;\n",
              "    }\n",
              "</style>\n",
              "<table border=\"1\" class=\"dataframe\">\n",
              "  <thead>\n",
              "    <tr style=\"text-align: right;\">\n",
              "      <th></th>\n",
              "      <th>kata</th>\n",
              "      <th>akhiran</th>\n",
              "    </tr>\n",
              "  </thead>\n",
              "  <tbody>\n",
              "    <tr>\n",
              "      <th>count</th>\n",
              "      <td>2902</td>\n",
              "      <td>2902</td>\n",
              "    </tr>\n",
              "    <tr>\n",
              "      <th>unique</th>\n",
              "      <td>2902</td>\n",
              "      <td>74</td>\n",
              "    </tr>\n",
              "    <tr>\n",
              "      <th>top</th>\n",
              "      <td>berbarisbaris</td>\n",
              "      <td>a</td>\n",
              "    </tr>\n",
              "    <tr>\n",
              "      <th>freq</th>\n",
              "      <td>1</td>\n",
              "      <td>575</td>\n",
              "    </tr>\n",
              "  </tbody>\n",
              "</table>\n",
              "</div>"
            ],
            "text/plain": [
              "                 kata akhiran\n",
              "count            2902    2902\n",
              "unique           2902      74\n",
              "top     berbarisbaris       a\n",
              "freq                1     575"
            ]
          },
          "metadata": {
            "tags": []
          },
          "execution_count": 43
        }
      ]
    },
    {
      "cell_type": "code",
      "metadata": {
        "colab": {
          "base_uri": "https://localhost:8080/",
          "height": 452
        },
        "id": "6Xya7z7If8Ki",
        "outputId": "f2b39b8c-0024-4e34-ac97-d86b6ff3b335"
      },
      "source": [
        "# find words with null akhiran\n",
        "\n",
        "df_rhyme[df_rhyme['akhiran'] == \"AAAAAA\"]"
      ],
      "execution_count": 44,
      "outputs": [
        {
          "output_type": "execute_result",
          "data": {
            "text/html": [
              "<div>\n",
              "<style scoped>\n",
              "    .dataframe tbody tr th:only-of-type {\n",
              "        vertical-align: middle;\n",
              "    }\n",
              "\n",
              "    .dataframe tbody tr th {\n",
              "        vertical-align: top;\n",
              "    }\n",
              "\n",
              "    .dataframe thead th {\n",
              "        text-align: right;\n",
              "    }\n",
              "</style>\n",
              "<table border=\"1\" class=\"dataframe\">\n",
              "  <thead>\n",
              "    <tr style=\"text-align: right;\">\n",
              "      <th></th>\n",
              "      <th>kata</th>\n",
              "      <th>akhiran</th>\n",
              "    </tr>\n",
              "  </thead>\n",
              "  <tbody>\n",
              "    <tr>\n",
              "      <th>289</th>\n",
              "      <td>d</td>\n",
              "      <td>AAAAAA</td>\n",
              "    </tr>\n",
              "    <tr>\n",
              "      <th>628</th>\n",
              "      <td>2</td>\n",
              "      <td>AAAAAA</td>\n",
              "    </tr>\n",
              "    <tr>\n",
              "      <th>980</th>\n",
              "      <td>yg</td>\n",
              "      <td>AAAAAA</td>\n",
              "    </tr>\n",
              "    <tr>\n",
              "      <th>1148</th>\n",
              "      <td>lh</td>\n",
              "      <td>AAAAAA</td>\n",
              "    </tr>\n",
              "    <tr>\n",
              "      <th>1264</th>\n",
              "      <td>k</td>\n",
              "      <td>AAAAAA</td>\n",
              "    </tr>\n",
              "    <tr>\n",
              "      <th>1623</th>\n",
              "      <td>11</td>\n",
              "      <td>AAAAAA</td>\n",
              "    </tr>\n",
              "    <tr>\n",
              "      <th>1930</th>\n",
              "      <td>mw</td>\n",
              "      <td>AAAAAA</td>\n",
              "    </tr>\n",
              "    <tr>\n",
              "      <th>1982</th>\n",
              "      <td>mcm</td>\n",
              "      <td>AAAAAA</td>\n",
              "    </tr>\n",
              "    <tr>\n",
              "      <th>1986</th>\n",
              "      <td>nk</td>\n",
              "      <td>AAAAAA</td>\n",
              "    </tr>\n",
              "    <tr>\n",
              "      <th>2118</th>\n",
              "      <td>72</td>\n",
              "      <td>AAAAAA</td>\n",
              "    </tr>\n",
              "    <tr>\n",
              "      <th>2384</th>\n",
              "      <td>1781945</td>\n",
              "      <td>AAAAAA</td>\n",
              "    </tr>\n",
              "    <tr>\n",
              "      <th>2668</th>\n",
              "      <td>wkwk</td>\n",
              "      <td>AAAAAA</td>\n",
              "    </tr>\n",
              "    <tr>\n",
              "      <th>2673</th>\n",
              "      <td>q</td>\n",
              "      <td>AAAAAA</td>\n",
              "    </tr>\n",
              "  </tbody>\n",
              "</table>\n",
              "</div>"
            ],
            "text/plain": [
              "         kata akhiran\n",
              "289         d  AAAAAA\n",
              "628         2  AAAAAA\n",
              "980        yg  AAAAAA\n",
              "1148       lh  AAAAAA\n",
              "1264        k  AAAAAA\n",
              "1623       11  AAAAAA\n",
              "1930       mw  AAAAAA\n",
              "1982      mcm  AAAAAA\n",
              "1986       nk  AAAAAA\n",
              "2118       72  AAAAAA\n",
              "2384  1781945  AAAAAA\n",
              "2668     wkwk  AAAAAA\n",
              "2673        q  AAAAAA"
            ]
          },
          "metadata": {
            "tags": []
          },
          "execution_count": 44
        }
      ]
    },
    {
      "cell_type": "markdown",
      "metadata": {
        "id": "UgPRzNaOmpof"
      },
      "source": [
        "<img src=\"https://i.kym-cdn.com/entries/icons/facebook/000/034/772/Untitled-1.jpg\" width=\"400\">"
      ]
    },
    {
      "cell_type": "code",
      "metadata": {
        "colab": {
          "base_uri": "https://localhost:8080/"
        },
        "id": "WEYY-CdmgHVI",
        "outputId": "d167284e-79b6-4177-8a8f-51b00e50abe8"
      },
      "source": [
        "df_rhyme.replace('AAAAAA', np.nan, inplace=True)\n",
        "df_rhyme.dropna(inplace=True)\n",
        "\n",
        "df_rhyme['akhiran'].isnull().value_counts()"
      ],
      "execution_count": 45,
      "outputs": [
        {
          "output_type": "execute_result",
          "data": {
            "text/plain": [
              "False    2889\n",
              "Name: akhiran, dtype: int64"
            ]
          },
          "metadata": {
            "tags": []
          },
          "execution_count": 45
        }
      ]
    },
    {
      "cell_type": "code",
      "metadata": {
        "colab": {
          "base_uri": "https://localhost:8080/"
        },
        "id": "LyhvfCvmMiLA",
        "outputId": "0e6a8bd4-261d-41cb-cf1c-3632af0e4ec8"
      },
      "source": [
        "df_rhyme.akhiran.unique()"
      ],
      "execution_count": 46,
      "outputs": [
        {
          "output_type": "execute_result",
          "data": {
            "text/plain": [
              "array(['i', 'u', 'a', 'as', 'ang', 'ak', 'ah', 'an', 'is', 'in', 'ap',\n",
              "       'at', 'am', 'it', 'up', 'or', 'uh', 'ab', 'e', 'ul', 'ung', 'ik',\n",
              "       'ir', 'ut', 'il', 'un', 'ar', 'us', 'on', 'im', 'em', 'um', 'ih',\n",
              "       'ok', 'ing', 'er', 'ur', 'o', 'ity', 'uk', 'eng', 'al', 'ip', 'et',\n",
              "       'od', 'es', 'ib', 'ek', 'ong', 'ipt', 'ath', 'if', 'ep', 'el',\n",
              "       'eh', 'ud', 'alm', 'oh', 'ol', 'en', 'af', 'ey', 'uz', 'os', 'id',\n",
              "       'unk', 'elm', 'aq', 'ess', 'iz', 'ow', 'alh', 'op'], dtype=object)"
            ]
          },
          "metadata": {
            "tags": []
          },
          "execution_count": 46
        }
      ]
    },
    {
      "cell_type": "code",
      "metadata": {
        "colab": {
          "base_uri": "https://localhost:8080/"
        },
        "id": "see1NalfM3Qx",
        "outputId": "ab55a16c-c39e-489e-f318-950412a4008d"
      },
      "source": [
        "# Handle akhiran yang aneh : alm, ity, uz, elm, aq, ess, iz, ow, alh, ath, od, ipt, id, unk\n",
        "\n",
        "df_rhyme['akhiran'].replace('alm', 'em', inplace=True)\n",
        "df_rhyme['akhiran'].replace('ity', 'i', inplace=True)\n",
        "df_rhyme['akhiran'].replace('uz', 'us', inplace=True)\n",
        "df_rhyme['akhiran'].replace('elm', 'em', inplace=True)\n",
        "df_rhyme['akhiran'].replace('aq', 'u', inplace=True)\n",
        "df_rhyme['akhiran'].replace('ess', 'es', inplace=True)\n",
        "df_rhyme['akhiran'].replace('iz', 'is', inplace=True)\n",
        "df_rhyme['akhiran'].replace('id', 'it', inplace=True)\n",
        "df_rhyme['akhiran'].replace('ath', 'at', inplace=True)\n",
        "df_rhyme['akhiran'].replace('od', 'ut', inplace=True)\n",
        "\n",
        "# akhiran ipt\n",
        "df_rhyme.drop(671, inplace=True)\n",
        "# akhiran alh\n",
        "df_rhyme.drop(2709, inplace=True)\n",
        "# akhiran unk\n",
        "df_rhyme.drop(2366, inplace=True)\n",
        "\n",
        "df_rhyme.akhiran.unique()"
      ],
      "execution_count": 47,
      "outputs": [
        {
          "output_type": "execute_result",
          "data": {
            "text/plain": [
              "array(['i', 'u', 'a', 'as', 'ang', 'ak', 'ah', 'an', 'is', 'in', 'ap',\n",
              "       'at', 'am', 'it', 'up', 'or', 'uh', 'ab', 'e', 'ul', 'ung', 'ik',\n",
              "       'ir', 'ut', 'il', 'un', 'ar', 'us', 'on', 'im', 'em', 'um', 'ih',\n",
              "       'ok', 'ing', 'er', 'ur', 'o', 'uk', 'eng', 'al', 'ip', 'et', 'es',\n",
              "       'ib', 'ek', 'ong', 'if', 'ep', 'el', 'eh', 'ud', 'oh', 'ol', 'en',\n",
              "       'af', 'ey', 'os', 'ow', 'op'], dtype=object)"
            ]
          },
          "metadata": {
            "tags": []
          },
          "execution_count": 47
        }
      ]
    },
    {
      "cell_type": "code",
      "metadata": {
        "colab": {
          "base_uri": "https://localhost:8080/"
        },
        "id": "N-Ns4qHDmAS-",
        "outputId": "30c44e85-b679-4c98-86c6-29df821775ff"
      },
      "source": [
        "df_rhyme.akhiran.value_counts()"
      ],
      "execution_count": 52,
      "outputs": [
        {
          "output_type": "execute_result",
          "data": {
            "text/plain": [
              "a      575\n",
              "an     329\n",
              "i      300\n",
              "u      207\n",
              "ah     195\n",
              "ang    173\n",
              "at     115\n",
              "ar      85\n",
              "ak      84\n",
              "is      47\n",
              "un      44\n",
              "as      40\n",
              "in      37\n",
              "ut      37\n",
              "uh      34\n",
              "e       34\n",
              "ung     33\n",
              "ing     33\n",
              "am      33\n",
              "ik      31\n",
              "ur      30\n",
              "uk      29\n",
              "al      29\n",
              "ap      26\n",
              "ih      22\n",
              "it      21\n",
              "us      21\n",
              "ok      20\n",
              "ir      19\n",
              "o       18\n",
              "um      17\n",
              "il      13\n",
              "ek      12\n",
              "er      12\n",
              "or      10\n",
              "up      10\n",
              "em      10\n",
              "ul      10\n",
              "on       9\n",
              "ong      9\n",
              "et       8\n",
              "eng      7\n",
              "eh       6\n",
              "es       5\n",
              "ib       5\n",
              "oh       5\n",
              "im       5\n",
              "el       4\n",
              "ep       4\n",
              "ab       4\n",
              "if       4\n",
              "ip       3\n",
              "en       2\n",
              "os       2\n",
              "ud       2\n",
              "ow       2\n",
              "ol       2\n",
              "ey       1\n",
              "af       1\n",
              "op       1\n",
              "Name: akhiran, dtype: int64"
            ]
          },
          "metadata": {
            "tags": []
          },
          "execution_count": 52
        }
      ]
    },
    {
      "cell_type": "code",
      "metadata": {
        "colab": {
          "base_uri": "https://localhost:8080/",
          "height": 49
        },
        "id": "LpDNiRTVXymg",
        "outputId": "412acea1-b21b-4ddd-ab90-43325f9cb6de"
      },
      "source": [
        "df_rhyme[df_rhyme['akhiran'] == 'unk']"
      ],
      "execution_count": 49,
      "outputs": [
        {
          "output_type": "execute_result",
          "data": {
            "text/html": [
              "<div>\n",
              "<style scoped>\n",
              "    .dataframe tbody tr th:only-of-type {\n",
              "        vertical-align: middle;\n",
              "    }\n",
              "\n",
              "    .dataframe tbody tr th {\n",
              "        vertical-align: top;\n",
              "    }\n",
              "\n",
              "    .dataframe thead th {\n",
              "        text-align: right;\n",
              "    }\n",
              "</style>\n",
              "<table border=\"1\" class=\"dataframe\">\n",
              "  <thead>\n",
              "    <tr style=\"text-align: right;\">\n",
              "      <th></th>\n",
              "      <th>kata</th>\n",
              "      <th>akhiran</th>\n",
              "    </tr>\n",
              "  </thead>\n",
              "  <tbody>\n",
              "  </tbody>\n",
              "</table>\n",
              "</div>"
            ],
            "text/plain": [
              "Empty DataFrame\n",
              "Columns: [kata, akhiran]\n",
              "Index: []"
            ]
          },
          "metadata": {
            "tags": []
          },
          "execution_count": 49
        }
      ]
    },
    {
      "cell_type": "code",
      "metadata": {
        "id": "WrdlIl-pWs1g"
      },
      "source": [
        "# Ada akhiran yang cuma 1\n",
        "\n",
        "df2 = pd.DataFrame([['mei', 'ey'],\n",
        "                    ['may', 'ey'],\n",
        "                    ['hei', 'ey'],\n",
        "                    ['wakaf', 'af'],\n",
        "                    ['draf', 'af'],\n",
        "                    ['khilaf', 'af'],\n",
        "                    ['sop', 'op'],\n",
        "                    ['stetoskop', 'op'],\n",
        "                    ['bioskop', 'op'],\n",
        "                    ['ancol', 'ol'],\n",
        "                    ['bentol', 'ol'],\n",
        "                    ['benjol', 'ol'],\n",
        "                    ['cebol', 'ol']], columns=['kata', 'akhiran'])\n",
        "\n",
        "added_df = df_rhyme.append(df2, ignore_index=True)"
      ],
      "execution_count": 50,
      "outputs": []
    },
    {
      "cell_type": "code",
      "metadata": {
        "colab": {
          "base_uri": "https://localhost:8080/",
          "height": 383
        },
        "id": "Sb2gVu8Cc6cG",
        "outputId": "e42deee3-607f-4134-f61f-a21840d12cb0"
      },
      "source": [
        "import matplotlib.pyplot as plt\n",
        "import seaborn as sns\n",
        "\n",
        "sns.set_theme(style=\"darkgrid\")\n",
        "plt.figure(figsize=(22, 6))\n",
        "ax = sns.countplot(x=\"akhiran\", data=added_df, order = added_df['akhiran'].value_counts().index)"
      ],
      "execution_count": 51,
      "outputs": [
        {
          "output_type": "display_data",
          "data": {
            "image/png": "[encoded data removed]",
            "text/plain": [
              "<Figure size 1584x432 with 1 Axes>"
            ]
          },
          "metadata": {
            "tags": []
          }
        }
      ]
    },
    {
      "cell_type": "code",
      "metadata": {
        "colab": {
          "base_uri": "https://localhost:8080/"
        },
        "id": "akHR2wURmWts",
        "outputId": "744b3933-9264-413c-f761-14f47c659a03"
      },
      "source": [
        "added_df.akhiran.value_counts()"
      ],
      "execution_count": 53,
      "outputs": [
        {
          "output_type": "execute_result",
          "data": {
            "text/plain": [
              "a      575\n",
              "an     329\n",
              "i      300\n",
              "u      207\n",
              "ah     195\n",
              "ang    173\n",
              "at     115\n",
              "ar      85\n",
              "ak      84\n",
              "is      47\n",
              "un      44\n",
              "as      40\n",
              "in      37\n",
              "ut      37\n",
              "uh      34\n",
              "e       34\n",
              "ung     33\n",
              "ing     33\n",
              "am      33\n",
              "ik      31\n",
              "ur      30\n",
              "uk      29\n",
              "al      29\n",
              "ap      26\n",
              "ih      22\n",
              "it      21\n",
              "us      21\n",
              "ok      20\n",
              "ir      19\n",
              "o       18\n",
              "um      17\n",
              "il      13\n",
              "ek      12\n",
              "er      12\n",
              "or      10\n",
              "up      10\n",
              "em      10\n",
              "ul      10\n",
              "on       9\n",
              "ong      9\n",
              "et       8\n",
              "eng      7\n",
              "eh       6\n",
              "ol       6\n",
              "ib       5\n",
              "oh       5\n",
              "es       5\n",
              "im       5\n",
              "ey       4\n",
              "el       4\n",
              "ep       4\n",
              "ab       4\n",
              "if       4\n",
              "af       4\n",
              "op       4\n",
              "ip       3\n",
              "en       2\n",
              "os       2\n",
              "ud       2\n",
              "ow       2\n",
              "Name: akhiran, dtype: int64"
            ]
          },
          "metadata": {
            "tags": []
          },
          "execution_count": 53
        }
      ]
    },
    {
      "cell_type": "markdown",
      "metadata": {
        "id": "dT7374abeUNP"
      },
      "source": [
        "IMBALANCE LOL"
      ]
    },
    {
      "cell_type": "code",
      "metadata": {
        "colab": {
          "base_uri": "https://localhost:8080/"
        },
        "id": "ZtCOpr0PQhlK",
        "outputId": "46d2097c-82bd-4609-8fc3-14f701572c44"
      },
      "source": [
        "added_df['akhiran'].describe()"
      ],
      "execution_count": 55,
      "outputs": [
        {
          "output_type": "execute_result",
          "data": {
            "text/plain": [
              "count     2899\n",
              "unique      60\n",
              "top          a\n",
              "freq       575\n",
              "Name: akhiran, dtype: object"
            ]
          },
          "metadata": {
            "tags": []
          },
          "execution_count": 55
        }
      ]
    },
    {
      "cell_type": "markdown",
      "metadata": {
        "id": "oVN9LzXcWMPa"
      },
      "source": [
        "\n",
        "\n",
        "---\n",
        "\n"
      ]
    },
    {
      "cell_type": "markdown",
      "metadata": {
        "id": "R1y205puqjSG"
      },
      "source": [
        "# **MODEL TRAINING**"
      ]
    },
    {
      "cell_type": "code",
      "metadata": {
        "colab": {
          "base_uri": "https://localhost:8080/"
        },
        "id": "zMWkeeOdWL6A",
        "outputId": "275d4de0-e07e-41ad-9408-1019476a0e7a"
      },
      "source": [
        "# Split training and testing data\n",
        "\n",
        "from sklearn.model_selection import train_test_split\n",
        "\n",
        "X_train, X_test, y_train, y_test = train_test_split(\n",
        "    added_df['kata'],\n",
        "    added_df['akhiran'],\n",
        "    test_size=0.1,\n",
        "    random_state=45,\n",
        "    stratify=added_df['akhiran'])\n",
        "\n",
        "print(\"X_train: {}\".format(X_train.count()))\n",
        "print(\"X_test: {}\\n\".format(X_test.count()))\n",
        "print(\"y_train: {}\".format(y_train.count()))\n",
        "print(\"y_test: {}\".format(y_test.count()))"
      ],
      "execution_count": 56,
      "outputs": [
        {
          "output_type": "stream",
          "text": [
            "X_train: 2609\n",
            "X_test: 290\n",
            "\n",
            "y_train: 2609\n",
            "y_test: 290\n"
          ],
          "name": "stdout"
        }
      ]
    },
    {
      "cell_type": "code",
      "metadata": {
        "colab": {
          "base_uri": "https://localhost:8080/"
        },
        "id": "OxFZ8U0-RerM",
        "outputId": "b93d1337-2609-4c3b-8438-6beea620fee2"
      },
      "source": [
        "# Tokenize kata with char_level=True\n",
        "import tensorflow as tf\n",
        "from tensorflow.keras.preprocessing.text import Tokenizer\n",
        "from tensorflow.keras.preprocessing.sequence import pad_sequences\n",
        "\n",
        "vocab_size = 26 # from a - z\n",
        "embedding_dim = 16\n",
        "max_length = 120\n",
        "\n",
        "tokenizer = Tokenizer(num_words=vocab_size, char_level=True)\n",
        "tokenizer.fit_on_texts(X_train)\n",
        "word_index = tokenizer.word_index\n",
        "\n",
        "train_sequences = tokenizer.texts_to_sequences(X_train)\n",
        "train_padded = pad_sequences(train_sequences, maxlen=max_length)\n",
        "\n",
        "# Tokenize validation\n",
        "validation_sequences = tokenizer.texts_to_sequences(X_test)\n",
        "validation_padded = pad_sequences(validation_sequences, maxlen=max_length)\n",
        "\n",
        "print(len(validation_sequences))\n",
        "print(validation_padded.shape)"
      ],
      "execution_count": 57,
      "outputs": [
        {
          "output_type": "stream",
          "text": [
            "290\n",
            "(290, 120)\n"
          ],
          "name": "stdout"
        }
      ]
    },
    {
      "cell_type": "code",
      "metadata": {
        "colab": {
          "base_uri": "https://localhost:8080/"
        },
        "id": "VbOBEdC0R2p4",
        "outputId": "bc0ad71b-dfe6-4063-d7c0-317027bb6873"
      },
      "source": [
        "train_sequences[2]"
      ],
      "execution_count": 58,
      "outputs": [
        {
          "output_type": "execute_result",
          "data": {
            "text/plain": [
              "[8, 3, 12, 1, 7, 1]"
            ]
          },
          "metadata": {
            "tags": []
          },
          "execution_count": 58
        }
      ]
    },
    {
      "cell_type": "code",
      "metadata": {
        "colab": {
          "base_uri": "https://localhost:8080/"
        },
        "id": "CGZesDW3PM0Y",
        "outputId": "6c4c7afb-5368-47c9-f654-06e2a40b52d4"
      },
      "source": [
        "# Tokenize labels\n",
        "\n",
        "label_tokenizer = Tokenizer()\n",
        "label_tokenizer.fit_on_texts(added_df['akhiran'])\n",
        "\n",
        "training_label_seq = np.array(label_tokenizer.texts_to_sequences(y_train))\n",
        "validation_label_seq = np.array(label_tokenizer.texts_to_sequences(y_test))\n",
        "\n",
        "print(training_label_seq[0])\n",
        "print(training_label_seq[1])\n",
        "print(training_label_seq[2])\n",
        "print(training_label_seq.shape)\n",
        "\n",
        "print(validation_label_seq[0])\n",
        "print(validation_label_seq[1])\n",
        "print(validation_label_seq[2])\n",
        "print(validation_label_seq.shape)"
      ],
      "execution_count": 59,
      "outputs": [
        {
          "output_type": "stream",
          "text": [
            "[1]\n",
            "[4]\n",
            "[1]\n",
            "(2609, 1)\n",
            "[11]\n",
            "[7]\n",
            "[14]\n",
            "(290, 1)\n"
          ],
          "name": "stdout"
        }
      ]
    },
    {
      "cell_type": "code",
      "metadata": {
        "colab": {
          "base_uri": "https://localhost:8080/"
        },
        "id": "GbWIYPluQY3h",
        "outputId": "2b9a4b5b-8271-4566-ebe7-5a26245475c2"
      },
      "source": [
        "# Making the model, add dropout to reduce overfitting, and LSTM for RNN\n",
        "\n",
        "model = tf.keras.Sequential([\n",
        "    tf.keras.layers.Embedding(vocab_size+1, embedding_dim, input_length=max_length),\n",
        "    tf.keras.layers.Dropout(0.2),\n",
        "    tf.keras.layers.Conv1D(64, 5, activation='relu'),\n",
        "    tf.keras.layers.MaxPooling1D(pool_size=4),\n",
        "    tf.keras.layers.LSTM(64),\n",
        "    tf.keras.layers.Dense(61, activation='softmax')\n",
        "])\n",
        "model.compile(loss='sparse_categorical_crossentropy',optimizer='adam',metrics=['accuracy'])\n",
        "model.summary()"
      ],
      "execution_count": 60,
      "outputs": [
        {
          "output_type": "stream",
          "text": [
            "Model: \"sequential\"\n",
            "_________________________________________________________________\n",
            "Layer (type)                 Output Shape              Param #   \n",
            "=================================================================\n",
            "embedding (Embedding)        (None, 120, 16)           432       \n",
            "_________________________________________________________________\n",
            "dropout (Dropout)            (None, 120, 16)           0         \n",
            "_________________________________________________________________\n",
            "conv1d (Conv1D)              (None, 116, 64)           5184      \n",
            "_________________________________________________________________\n",
            "max_pooling1d (MaxPooling1D) (None, 29, 64)            0         \n",
            "_________________________________________________________________\n",
            "lstm (LSTM)                  (None, 64)                33024     \n",
            "_________________________________________________________________\n",
            "dense (Dense)                (None, 61)                3965      \n",
            "=================================================================\n",
            "Total params: 42,605\n",
            "Trainable params: 42,605\n",
            "Non-trainable params: 0\n",
            "_________________________________________________________________\n"
          ],
          "name": "stdout"
        }
      ]
    },
    {
      "cell_type": "code",
      "metadata": {
        "colab": {
          "base_uri": "https://localhost:8080/"
        },
        "id": "e-Vm0NcbQyWi",
        "outputId": "aa28c908-1b4e-47d9-dc75-c9c0491f41e2"
      },
      "source": [
        "# Training for 100 epochs\n",
        "\n",
        "num_epochs = 100\n",
        "history = model.fit(train_padded,\n",
        "                    training_label_seq,\n",
        "                    validation_data=(validation_padded, validation_label_seq),\n",
        "                    verbose=2,\n",
        "                    epochs=num_epochs)"
      ],
      "execution_count": 61,
      "outputs": [
        {
          "output_type": "stream",
          "text": [
            "Epoch 1/100\n",
            "82/82 - 5s - loss: 3.3517 - accuracy: 0.1928 - val_loss: 3.0641 - val_accuracy: 0.2000\n",
            "Epoch 2/100\n",
            "82/82 - 2s - loss: 3.0620 - accuracy: 0.1982 - val_loss: 2.9535 - val_accuracy: 0.2000\n",
            "Epoch 3/100\n",
            "82/82 - 2s - loss: 2.7264 - accuracy: 0.3212 - val_loss: 2.3350 - val_accuracy: 0.4276\n",
            "Epoch 4/100\n",
            "82/82 - 2s - loss: 2.1050 - accuracy: 0.5178 - val_loss: 1.8072 - val_accuracy: 0.6000\n",
            "Epoch 5/100\n",
            "82/82 - 2s - loss: 1.7332 - accuracy: 0.5868 - val_loss: 1.5538 - val_accuracy: 0.6103\n",
            "Epoch 6/100\n",
            "82/82 - 2s - loss: 1.5140 - accuracy: 0.6244 - val_loss: 1.3597 - val_accuracy: 0.6552\n",
            "Epoch 7/100\n",
            "82/82 - 2s - loss: 1.3454 - accuracy: 0.6562 - val_loss: 1.2392 - val_accuracy: 0.6655\n",
            "Epoch 8/100\n",
            "82/82 - 2s - loss: 1.2220 - accuracy: 0.6738 - val_loss: 1.1330 - val_accuracy: 0.6897\n",
            "Epoch 9/100\n",
            "82/82 - 2s - loss: 1.1275 - accuracy: 0.6999 - val_loss: 1.0438 - val_accuracy: 0.7172\n",
            "Epoch 10/100\n",
            "82/82 - 2s - loss: 1.0343 - accuracy: 0.7267 - val_loss: 0.9758 - val_accuracy: 0.7379\n",
            "Epoch 11/100\n",
            "82/82 - 2s - loss: 0.9695 - accuracy: 0.7505 - val_loss: 0.8905 - val_accuracy: 0.7655\n",
            "Epoch 12/100\n",
            "82/82 - 2s - loss: 0.8744 - accuracy: 0.7823 - val_loss: 0.8267 - val_accuracy: 0.7759\n",
            "Epoch 13/100\n",
            "82/82 - 2s - loss: 0.8065 - accuracy: 0.7946 - val_loss: 0.7729 - val_accuracy: 0.8000\n",
            "Epoch 14/100\n",
            "82/82 - 2s - loss: 0.7343 - accuracy: 0.8118 - val_loss: 0.6964 - val_accuracy: 0.8000\n",
            "Epoch 15/100\n",
            "82/82 - 2s - loss: 0.6908 - accuracy: 0.8214 - val_loss: 0.6684 - val_accuracy: 0.8172\n",
            "Epoch 16/100\n",
            "82/82 - 2s - loss: 0.6388 - accuracy: 0.8444 - val_loss: 0.6207 - val_accuracy: 0.8517\n",
            "Epoch 17/100\n",
            "82/82 - 2s - loss: 0.5980 - accuracy: 0.8505 - val_loss: 0.5598 - val_accuracy: 0.8621\n",
            "Epoch 18/100\n",
            "82/82 - 2s - loss: 0.5473 - accuracy: 0.8658 - val_loss: 0.5365 - val_accuracy: 0.8655\n",
            "Epoch 19/100\n",
            "82/82 - 2s - loss: 0.5104 - accuracy: 0.8816 - val_loss: 0.4948 - val_accuracy: 0.8724\n",
            "Epoch 20/100\n",
            "82/82 - 2s - loss: 0.4712 - accuracy: 0.8911 - val_loss: 0.4818 - val_accuracy: 0.8724\n",
            "Epoch 21/100\n",
            "82/82 - 2s - loss: 0.4471 - accuracy: 0.8957 - val_loss: 0.4504 - val_accuracy: 0.8759\n",
            "Epoch 22/100\n",
            "82/82 - 2s - loss: 0.4204 - accuracy: 0.9019 - val_loss: 0.4092 - val_accuracy: 0.8931\n",
            "Epoch 23/100\n",
            "82/82 - 2s - loss: 0.3938 - accuracy: 0.9065 - val_loss: 0.3865 - val_accuracy: 0.9000\n",
            "Epoch 24/100\n",
            "82/82 - 2s - loss: 0.3729 - accuracy: 0.9138 - val_loss: 0.3825 - val_accuracy: 0.8931\n",
            "Epoch 25/100\n",
            "82/82 - 2s - loss: 0.3476 - accuracy: 0.9245 - val_loss: 0.3681 - val_accuracy: 0.8966\n",
            "Epoch 26/100\n",
            "82/82 - 2s - loss: 0.3366 - accuracy: 0.9241 - val_loss: 0.3429 - val_accuracy: 0.9034\n",
            "Epoch 27/100\n",
            "82/82 - 2s - loss: 0.3150 - accuracy: 0.9245 - val_loss: 0.3243 - val_accuracy: 0.9138\n",
            "Epoch 28/100\n",
            "82/82 - 2s - loss: 0.2882 - accuracy: 0.9387 - val_loss: 0.3152 - val_accuracy: 0.9172\n",
            "Epoch 29/100\n",
            "82/82 - 2s - loss: 0.2845 - accuracy: 0.9398 - val_loss: 0.3122 - val_accuracy: 0.9207\n",
            "Epoch 30/100\n",
            "82/82 - 2s - loss: 0.2654 - accuracy: 0.9402 - val_loss: 0.3037 - val_accuracy: 0.9207\n",
            "Epoch 31/100\n",
            "82/82 - 2s - loss: 0.2524 - accuracy: 0.9414 - val_loss: 0.2789 - val_accuracy: 0.9138\n",
            "Epoch 32/100\n",
            "82/82 - 2s - loss: 0.2354 - accuracy: 0.9483 - val_loss: 0.2710 - val_accuracy: 0.9276\n",
            "Epoch 33/100\n",
            "82/82 - 2s - loss: 0.2379 - accuracy: 0.9440 - val_loss: 0.2659 - val_accuracy: 0.9310\n",
            "Epoch 34/100\n",
            "82/82 - 2s - loss: 0.2146 - accuracy: 0.9529 - val_loss: 0.2516 - val_accuracy: 0.9310\n",
            "Epoch 35/100\n",
            "82/82 - 2s - loss: 0.2164 - accuracy: 0.9498 - val_loss: 0.2434 - val_accuracy: 0.9379\n",
            "Epoch 36/100\n",
            "82/82 - 2s - loss: 0.1949 - accuracy: 0.9571 - val_loss: 0.2480 - val_accuracy: 0.9276\n",
            "Epoch 37/100\n",
            "82/82 - 2s - loss: 0.1926 - accuracy: 0.9575 - val_loss: 0.2374 - val_accuracy: 0.9414\n",
            "Epoch 38/100\n",
            "82/82 - 2s - loss: 0.1894 - accuracy: 0.9605 - val_loss: 0.2284 - val_accuracy: 0.9379\n",
            "Epoch 39/100\n",
            "82/82 - 2s - loss: 0.1818 - accuracy: 0.9598 - val_loss: 0.2254 - val_accuracy: 0.9379\n",
            "Epoch 40/100\n",
            "82/82 - 2s - loss: 0.1637 - accuracy: 0.9678 - val_loss: 0.2242 - val_accuracy: 0.9379\n",
            "Epoch 41/100\n",
            "82/82 - 2s - loss: 0.1485 - accuracy: 0.9709 - val_loss: 0.2203 - val_accuracy: 0.9448\n",
            "Epoch 42/100\n",
            "82/82 - 2s - loss: 0.1650 - accuracy: 0.9628 - val_loss: 0.2165 - val_accuracy: 0.9379\n",
            "Epoch 43/100\n",
            "82/82 - 2s - loss: 0.1512 - accuracy: 0.9667 - val_loss: 0.2062 - val_accuracy: 0.9345\n",
            "Epoch 44/100\n",
            "82/82 - 2s - loss: 0.1372 - accuracy: 0.9720 - val_loss: 0.1876 - val_accuracy: 0.9448\n",
            "Epoch 45/100\n",
            "82/82 - 2s - loss: 0.1380 - accuracy: 0.9716 - val_loss: 0.2042 - val_accuracy: 0.9448\n",
            "Epoch 46/100\n",
            "82/82 - 2s - loss: 0.1217 - accuracy: 0.9782 - val_loss: 0.2042 - val_accuracy: 0.9448\n",
            "Epoch 47/100\n",
            "82/82 - 2s - loss: 0.1273 - accuracy: 0.9762 - val_loss: 0.1953 - val_accuracy: 0.9379\n",
            "Epoch 48/100\n",
            "82/82 - 2s - loss: 0.1211 - accuracy: 0.9747 - val_loss: 0.1838 - val_accuracy: 0.9414\n",
            "Epoch 49/100\n",
            "82/82 - 2s - loss: 0.1179 - accuracy: 0.9766 - val_loss: 0.1891 - val_accuracy: 0.9414\n",
            "Epoch 50/100\n",
            "82/82 - 2s - loss: 0.1134 - accuracy: 0.9816 - val_loss: 0.1798 - val_accuracy: 0.9448\n",
            "Epoch 51/100\n",
            "82/82 - 2s - loss: 0.1033 - accuracy: 0.9801 - val_loss: 0.1744 - val_accuracy: 0.9379\n",
            "Epoch 52/100\n",
            "82/82 - 2s - loss: 0.1027 - accuracy: 0.9801 - val_loss: 0.1744 - val_accuracy: 0.9414\n",
            "Epoch 53/100\n",
            "82/82 - 2s - loss: 0.0937 - accuracy: 0.9854 - val_loss: 0.1935 - val_accuracy: 0.9345\n",
            "Epoch 54/100\n",
            "82/82 - 2s - loss: 0.0999 - accuracy: 0.9774 - val_loss: 0.1672 - val_accuracy: 0.9448\n",
            "Epoch 55/100\n",
            "82/82 - 2s - loss: 0.0912 - accuracy: 0.9820 - val_loss: 0.1715 - val_accuracy: 0.9448\n",
            "Epoch 56/100\n",
            "82/82 - 2s - loss: 0.0846 - accuracy: 0.9820 - val_loss: 0.1514 - val_accuracy: 0.9517\n",
            "Epoch 57/100\n",
            "82/82 - 2s - loss: 0.0868 - accuracy: 0.9851 - val_loss: 0.1652 - val_accuracy: 0.9586\n",
            "Epoch 58/100\n",
            "82/82 - 2s - loss: 0.0830 - accuracy: 0.9839 - val_loss: 0.1629 - val_accuracy: 0.9517\n",
            "Epoch 59/100\n",
            "82/82 - 2s - loss: 0.0859 - accuracy: 0.9858 - val_loss: 0.1691 - val_accuracy: 0.9448\n",
            "Epoch 60/100\n",
            "82/82 - 2s - loss: 0.0782 - accuracy: 0.9866 - val_loss: 0.1643 - val_accuracy: 0.9483\n",
            "Epoch 61/100\n",
            "82/82 - 2s - loss: 0.0775 - accuracy: 0.9870 - val_loss: 0.1733 - val_accuracy: 0.9448\n",
            "Epoch 62/100\n",
            "82/82 - 2s - loss: 0.0659 - accuracy: 0.9889 - val_loss: 0.1613 - val_accuracy: 0.9483\n",
            "Epoch 63/100\n",
            "82/82 - 2s - loss: 0.0708 - accuracy: 0.9870 - val_loss: 0.1714 - val_accuracy: 0.9414\n",
            "Epoch 64/100\n",
            "82/82 - 2s - loss: 0.0734 - accuracy: 0.9847 - val_loss: 0.1496 - val_accuracy: 0.9552\n",
            "Epoch 65/100\n",
            "82/82 - 2s - loss: 0.0640 - accuracy: 0.9877 - val_loss: 0.1490 - val_accuracy: 0.9483\n",
            "Epoch 66/100\n",
            "82/82 - 2s - loss: 0.0588 - accuracy: 0.9912 - val_loss: 0.1533 - val_accuracy: 0.9552\n",
            "Epoch 67/100\n",
            "82/82 - 2s - loss: 0.0568 - accuracy: 0.9881 - val_loss: 0.1329 - val_accuracy: 0.9586\n",
            "Epoch 68/100\n",
            "82/82 - 2s - loss: 0.0633 - accuracy: 0.9900 - val_loss: 0.1419 - val_accuracy: 0.9552\n",
            "Epoch 69/100\n",
            "82/82 - 2s - loss: 0.0623 - accuracy: 0.9877 - val_loss: 0.1406 - val_accuracy: 0.9621\n",
            "Epoch 70/100\n",
            "82/82 - 2s - loss: 0.0511 - accuracy: 0.9931 - val_loss: 0.1232 - val_accuracy: 0.9586\n",
            "Epoch 71/100\n",
            "82/82 - 2s - loss: 0.0619 - accuracy: 0.9874 - val_loss: 0.1376 - val_accuracy: 0.9552\n",
            "Epoch 72/100\n",
            "82/82 - 2s - loss: 0.0563 - accuracy: 0.9916 - val_loss: 0.1357 - val_accuracy: 0.9517\n",
            "Epoch 73/100\n",
            "82/82 - 2s - loss: 0.0490 - accuracy: 0.9923 - val_loss: 0.1238 - val_accuracy: 0.9552\n",
            "Epoch 74/100\n",
            "82/82 - 2s - loss: 0.0537 - accuracy: 0.9897 - val_loss: 0.1313 - val_accuracy: 0.9552\n",
            "Epoch 75/100\n",
            "82/82 - 2s - loss: 0.0519 - accuracy: 0.9920 - val_loss: 0.1457 - val_accuracy: 0.9517\n",
            "Epoch 76/100\n",
            "82/82 - 2s - loss: 0.0412 - accuracy: 0.9943 - val_loss: 0.1525 - val_accuracy: 0.9586\n",
            "Epoch 77/100\n",
            "82/82 - 2s - loss: 0.0486 - accuracy: 0.9912 - val_loss: 0.1362 - val_accuracy: 0.9586\n",
            "Epoch 78/100\n",
            "82/82 - 2s - loss: 0.0513 - accuracy: 0.9916 - val_loss: 0.1571 - val_accuracy: 0.9552\n",
            "Epoch 79/100\n",
            "82/82 - 2s - loss: 0.0483 - accuracy: 0.9908 - val_loss: 0.1249 - val_accuracy: 0.9621\n",
            "Epoch 80/100\n",
            "82/82 - 2s - loss: 0.0467 - accuracy: 0.9923 - val_loss: 0.1458 - val_accuracy: 0.9517\n",
            "Epoch 81/100\n",
            "82/82 - 2s - loss: 0.0455 - accuracy: 0.9943 - val_loss: 0.1406 - val_accuracy: 0.9552\n",
            "Epoch 82/100\n",
            "82/82 - 2s - loss: 0.0409 - accuracy: 0.9931 - val_loss: 0.1323 - val_accuracy: 0.9586\n",
            "Epoch 83/100\n",
            "82/82 - 2s - loss: 0.0499 - accuracy: 0.9893 - val_loss: 0.1624 - val_accuracy: 0.9483\n",
            "Epoch 84/100\n",
            "82/82 - 2s - loss: 0.0446 - accuracy: 0.9912 - val_loss: 0.1609 - val_accuracy: 0.9552\n",
            "Epoch 85/100\n",
            "82/82 - 2s - loss: 0.0429 - accuracy: 0.9920 - val_loss: 0.1390 - val_accuracy: 0.9586\n",
            "Epoch 86/100\n",
            "82/82 - 2s - loss: 0.0389 - accuracy: 0.9916 - val_loss: 0.1227 - val_accuracy: 0.9552\n",
            "Epoch 87/100\n",
            "82/82 - 2s - loss: 0.0456 - accuracy: 0.9897 - val_loss: 0.1401 - val_accuracy: 0.9621\n",
            "Epoch 88/100\n",
            "82/82 - 2s - loss: 0.0430 - accuracy: 0.9927 - val_loss: 0.1263 - val_accuracy: 0.9621\n",
            "Epoch 89/100\n",
            "82/82 - 2s - loss: 0.0379 - accuracy: 0.9931 - val_loss: 0.1667 - val_accuracy: 0.9552\n",
            "Epoch 90/100\n",
            "82/82 - 2s - loss: 0.0435 - accuracy: 0.9912 - val_loss: 0.1376 - val_accuracy: 0.9621\n",
            "Epoch 91/100\n",
            "82/82 - 2s - loss: 0.0415 - accuracy: 0.9943 - val_loss: 0.1205 - val_accuracy: 0.9655\n",
            "Epoch 92/100\n",
            "82/82 - 2s - loss: 0.0401 - accuracy: 0.9920 - val_loss: 0.1257 - val_accuracy: 0.9621\n",
            "Epoch 93/100\n",
            "82/82 - 2s - loss: 0.0369 - accuracy: 0.9927 - val_loss: 0.1345 - val_accuracy: 0.9621\n",
            "Epoch 94/100\n",
            "82/82 - 2s - loss: 0.0299 - accuracy: 0.9946 - val_loss: 0.1268 - val_accuracy: 0.9621\n",
            "Epoch 95/100\n",
            "82/82 - 2s - loss: 0.0283 - accuracy: 0.9958 - val_loss: 0.1396 - val_accuracy: 0.9621\n",
            "Epoch 96/100\n",
            "82/82 - 2s - loss: 0.0340 - accuracy: 0.9931 - val_loss: 0.1175 - val_accuracy: 0.9655\n",
            "Epoch 97/100\n",
            "82/82 - 2s - loss: 0.0301 - accuracy: 0.9943 - val_loss: 0.1193 - val_accuracy: 0.9552\n",
            "Epoch 98/100\n",
            "82/82 - 2s - loss: 0.0300 - accuracy: 0.9935 - val_loss: 0.1242 - val_accuracy: 0.9621\n",
            "Epoch 99/100\n",
            "82/82 - 2s - loss: 0.0340 - accuracy: 0.9954 - val_loss: 0.1516 - val_accuracy: 0.9517\n",
            "Epoch 100/100\n",
            "82/82 - 2s - loss: 0.0321 - accuracy: 0.9946 - val_loss: 0.1192 - val_accuracy: 0.9552\n"
          ],
          "name": "stdout"
        }
      ]
    },
    {
      "cell_type": "code",
      "metadata": {
        "colab": {
          "base_uri": "https://localhost:8080/",
          "height": 553
        },
        "id": "4HgwY6qtQ4qc",
        "outputId": "d716edfe-42c5-493f-872a-c462dd593411"
      },
      "source": [
        "# Plot before\n",
        "\n",
        "def plot_graphs(history, string):\n",
        "  plt.plot(history.history[string])\n",
        "  plt.plot(history.history['val_'+string])\n",
        "  plt.xlabel(\"Epochs\")\n",
        "  plt.ylabel(string)\n",
        "  plt.legend([string, 'val_'+string])\n",
        "  plt.show()\n",
        "  \n",
        "plot_graphs(history, \"accuracy\")\n",
        "plot_graphs(history, \"loss\")"
      ],
      "execution_count": null,
      "outputs": [
        {
          "output_type": "display_data",
          "data": {
            "image/png": "[encoded data removed]",
            "text/plain": [
              "<Figure size 432x288 with 1 Axes>"
            ]
          },
          "metadata": {
            "tags": []
          }
        },
        {
          "output_type": "display_data",
          "data": {
            "image/png": "[encoded data removed]",
            "text/plain": [
              "<Figure size 432x288 with 1 Axes>"
            ]
          },
          "metadata": {
            "tags": []
          }
        }
      ]
    },
    {
      "cell_type": "code",
      "metadata": {
        "colab": {
          "base_uri": "https://localhost:8080/",
          "height": 556
        },
        "id": "kAVX7P5ATBFB",
        "outputId": "4e1ba9d6-fea4-412a-bc82-275fb4e15628"
      },
      "source": [
        "# plot after\n",
        "\n",
        "def plot_graphs(history, string):\n",
        "  plt.plot(history.history[string])\n",
        "  plt.plot(history.history['val_'+string])\n",
        "  plt.xlabel(\"Epochs\")\n",
        "  plt.ylabel(string)\n",
        "  plt.legend([string, 'val_'+string])\n",
        "  plt.show()\n",
        "\n",
        "plot_graphs(history, \"accuracy\")\n",
        "plot_graphs(history, \"loss\")"
      ],
      "execution_count": 63,
      "outputs": [
        {
          "output_type": "display_data",
          "data": {
            "image/png": "[encoded data removed]",
            "text/plain": [
              "<Figure size 432x288 with 1 Axes>"
            ]
          },
          "metadata": {
            "tags": []
          }
        },
        {
          "output_type": "display_data",
          "data": {
            "image/png": "[encoded data removed]",
            "text/plain": [
              "<Figure size 432x288 with 1 Axes>"
            ]
          },
          "metadata": {
            "tags": []
          }
        }
      ]
    },
    {
      "cell_type": "code",
      "metadata": {
        "colab": {
          "base_uri": "https://localhost:8080/",
          "height": 17
        },
        "id": "e0GMjkAVVd_E",
        "outputId": "d203d8de-1cc7-4cc1-8433-837c30287e75"
      },
      "source": [
        "# Make the vecs and meta for embedding projector\n",
        "\n",
        "reverse_word_index = dict([(value, key) for (key, value) in word_index.items()])\n",
        "\n",
        "def decode_sentence(text):\n",
        "    return ' '.join([reverse_word_index.get(i, '?') for i in text])\n",
        "\n",
        "e = model.layers[0]\n",
        "weights = e.get_weights()[0]\n",
        "# print(weights.shape) => shape: (vocab_size, embedding_dim)\n",
        "\n",
        "import io\n",
        "\n",
        "out_v = io.open('vecs.tsv', 'w', encoding='utf-8')\n",
        "out_m = io.open('meta.tsv', 'w', encoding='utf-8')\n",
        "for word_num in range(1, vocab_size):\n",
        "  word = reverse_word_index[word_num]\n",
        "  embeddings = weights[word_num]\n",
        "  out_m.write(word + \"\\n\")\n",
        "  out_v.write('\\t'.join([str(x) for x in embeddings]) + \"\\n\")\n",
        "out_v.close()\n",
        "out_m.close()\n",
        "\n",
        "try:\n",
        "  from google.colab import files\n",
        "except ImportError:\n",
        "  pass\n",
        "else:\n",
        "  files.download('vecs.tsv')\n",
        "  files.download('meta.tsv')"
      ],
      "execution_count": null,
      "outputs": [
        {
          "output_type": "display_data",
          "data": {
            "application/javascript": [
              "\n",
              "    async function download(id, filename, size) {\n",
              "      if (!google.colab.kernel.accessAllowed) {\n",
              "        return;\n",
              "      }\n",
              "      const div = document.createElement('div');\n",
              "      const label = document.createElement('label');\n",
              "      label.textContent = `Downloading \"${filename}\": `;\n",
              "      div.appendChild(label);\n",
              "      const progress = document.createElement('progress');\n",
              "      progress.max = size;\n",
              "      div.appendChild(progress);\n",
              "      document.body.appendChild(div);\n",
              "\n",
              "      const buffers = [];\n",
              "      let downloaded = 0;\n",
              "\n",
              "      const channel = await google.colab.kernel.comms.open(id);\n",
              "      // Send a message to notify the kernel that we're ready.\n",
              "      channel.send({})\n",
              "\n",
              "      for await (const message of channel.messages) {\n",
              "        // Send a message to notify the kernel that we're ready.\n",
              "        channel.send({})\n",
              "        if (message.buffers) {\n",
              "          for (const buffer of message.buffers) {\n",
              "            buffers.push(buffer);\n",
              "            downloaded += buffer.byteLength;\n",
              "            progress.value = downloaded;\n",
              "          }\n",
              "        }\n",
              "      }\n",
              "      const blob = new Blob(buffers, {type: 'application/binary'});\n",
              "      const a = document.createElement('a');\n",
              "      a.href = window.URL.createObjectURL(blob);\n",
              "      a.download = filename;\n",
              "      div.appendChild(a);\n",
              "      a.click();\n",
              "      div.remove();\n",
              "    }\n",
              "  "
            ],
            "text/plain": [
              "<IPython.core.display.Javascript object>"
            ]
          },
          "metadata": {
            "tags": []
          }
        },
        {
          "output_type": "display_data",
          "data": {
            "application/javascript": [
              "download(\"download_dc3b3d90-dcb8-4877-bb58-366da1ec610a\", \"vecs.tsv\", 4947)"
            ],
            "text/plain": [
              "<IPython.core.display.Javascript object>"
            ]
          },
          "metadata": {
            "tags": []
          }
        },
        {
          "output_type": "display_data",
          "data": {
            "application/javascript": [
              "\n",
              "    async function download(id, filename, size) {\n",
              "      if (!google.colab.kernel.accessAllowed) {\n",
              "        return;\n",
              "      }\n",
              "      const div = document.createElement('div');\n",
              "      const label = document.createElement('label');\n",
              "      label.textContent = `Downloading \"${filename}\": `;\n",
              "      div.appendChild(label);\n",
              "      const progress = document.createElement('progress');\n",
              "      progress.max = size;\n",
              "      div.appendChild(progress);\n",
              "      document.body.appendChild(div);\n",
              "\n",
              "      const buffers = [];\n",
              "      let downloaded = 0;\n",
              "\n",
              "      const channel = await google.colab.kernel.comms.open(id);\n",
              "      // Send a message to notify the kernel that we're ready.\n",
              "      channel.send({})\n",
              "\n",
              "      for await (const message of channel.messages) {\n",
              "        // Send a message to notify the kernel that we're ready.\n",
              "        channel.send({})\n",
              "        if (message.buffers) {\n",
              "          for (const buffer of message.buffers) {\n",
              "            buffers.push(buffer);\n",
              "            downloaded += buffer.byteLength;\n",
              "            progress.value = downloaded;\n",
              "          }\n",
              "        }\n",
              "      }\n",
              "      const blob = new Blob(buffers, {type: 'application/binary'});\n",
              "      const a = document.createElement('a');\n",
              "      a.href = window.URL.createObjectURL(blob);\n",
              "      a.download = filename;\n",
              "      div.appendChild(a);\n",
              "      a.click();\n",
              "      div.remove();\n",
              "    }\n",
              "  "
            ],
            "text/plain": [
              "<IPython.core.display.Javascript object>"
            ]
          },
          "metadata": {
            "tags": []
          }
        },
        {
          "output_type": "display_data",
          "data": {
            "application/javascript": [
              "download(\"download_72ae18dd-a554-4240-8f94-49dee6a980b1\", \"meta.tsv\", 50)"
            ],
            "text/plain": [
              "<IPython.core.display.Javascript object>"
            ]
          },
          "metadata": {
            "tags": []
          }
        }
      ]
    },
    {
      "cell_type": "code",
      "metadata": {
        "colab": {
          "base_uri": "https://localhost:8080/"
        },
        "id": "-2dvB5yHVh8L",
        "outputId": "c3850cb2-ac93-4048-d5ff-f079612baae2"
      },
      "source": [
        "# Testing the result\n",
        "\n",
        "def get_predicted_akhiran(text):\n",
        "  last_word = text.split(' ')[-1]\n",
        "  token_list = tokenizer.texts_to_sequences([last_word])[0]\n",
        "  token_list = pad_sequences([token_list], padding='pre', maxlen=max_length)\n",
        "  predicted = model.predict(token_list).argmax(axis =1)\n",
        "  reverse_word_map = dict(map(reversed, label_tokenizer.word_index.items()))\n",
        "\n",
        "  return reverse_word_map[predicted[0]]\n",
        "\n",
        "print(\"PANTUN 1\")\n",
        "seed_text = \"Jalan-jalan ke Sumbawa\"\n",
        "print(seed_text)\n",
        "print(get_predicted_akhiran(seed_text))\n",
        "\n",
        "seed_text = \"Duduk-duduk makan buah palem\"\n",
        "print(seed_text)\n",
        "print(get_predicted_akhiran(seed_text))\n",
        "\n",
        "seed_text = \"Geli hati menahan tawa\"\n",
        "print(seed_text)\n",
        "print(get_predicted_akhiran(seed_text))\n",
        "\n",
        "seed_text = \"Melihat tupai memakai helm\"\n",
        "print(seed_text)\n",
        "print(get_predicted_akhiran(seed_text))\n",
        "\n",
        "print(\"\\nPANTUN 2\")\n",
        "seed_text = \"jalan jalan ke balikpapan\"\n",
        "print(seed_text)\n",
        "print(get_predicted_akhiran(seed_text))\n",
        "\n",
        "seed_text = \"pulang pulang bawa sepeda mini\"\n",
        "print(seed_text)\n",
        "print(get_predicted_akhiran(seed_text))\n",
        "\n",
        "seed_text = \"Adik kakak merinding penasaran\"\n",
        "print(seed_text)\n",
        "print(get_predicted_akhiran(seed_text))\n",
        "\n",
        "seed_text = \"menengok kura kura pakai bikini\"\n",
        "print(seed_text)\n",
        "print(get_predicted_akhiran(seed_text))\n",
        "\n",
        "print(\"\\nPANTUN 3\")\n",
        "seed_text = \"Batang mawar memang kaku\"\n",
        "print(seed_text)\n",
        "print(get_predicted_akhiran(seed_text))\n",
        "\n",
        "seed_text = \"Tapi bunganya tetap terawat\"\n",
        "print(seed_text)\n",
        "print(get_predicted_akhiran(seed_text))\n",
        "\n",
        "seed_text = \"Jangan ragu akan hatiku\"\n",
        "print(seed_text)\n",
        "print(get_predicted_akhiran(seed_text))\n",
        "\n",
        "seed_text = \"Karena cintaku tanpa syarat\"\n",
        "print(seed_text)\n",
        "print(get_predicted_akhiran(seed_text))"
      ],
      "execution_count": 64,
      "outputs": [
        {
          "output_type": "stream",
          "text": [
            "PANTUN 1\n",
            "Jalan-jalan ke Sumbawa\n",
            "a\n",
            "Duduk-duduk makan buah palem\n",
            "em\n",
            "Geli hati menahan tawa\n",
            "a\n",
            "Melihat tupai memakai helm\n",
            "em\n",
            "\n",
            "PANTUN 2\n",
            "jalan jalan ke balikpapan\n",
            "an\n",
            "pulang pulang bawa sepeda mini\n",
            "i\n",
            "Adik kakak merinding penasaran\n",
            "an\n",
            "menengok kura kura pakai bikini\n",
            "i\n",
            "\n",
            "PANTUN 3\n",
            "Batang mawar memang kaku\n",
            "u\n",
            "Tapi bunganya tetap terawat\n",
            "at\n",
            "Jangan ragu akan hatiku\n",
            "u\n",
            "Karena cintaku tanpa syarat\n",
            "at\n"
          ],
          "name": "stdout"
        }
      ]
    },
    {
      "cell_type": "code",
      "metadata": {
        "colab": {
          "base_uri": "https://localhost:8080/"
        },
        "id": "EvGH3bXvovHB",
        "outputId": "0737fd63-6014-439c-b2eb-be2952b9974c"
      },
      "source": [
        "!pip install tensorflowjs"
      ],
      "execution_count": 66,
      "outputs": [
        {
          "output_type": "stream",
          "text": [
            "Collecting tensorflowjs\n",
            "\u001b[?25l  Downloading https://files.pythonhosted.org/packages/76/c3/03871e607c055944561ce781cdb032f0d106fde904adf57ec3add11a4983/tensorflowjs-3.4.0-py3-none-any.whl (63kB)\n",
            "\r\u001b[K     |█████▏                          | 10kB 15.0MB/s eta 0:00:01\r\u001b[K     |██████████▎                     | 20kB 20.7MB/s eta 0:00:01\r\u001b[K     |███████████████▌                | 30kB 12.4MB/s eta 0:00:01\r\u001b[K     |████████████████████▋           | 40kB 9.3MB/s eta 0:00:01\r\u001b[K     |█████████████████████████▉      | 51kB 7.9MB/s eta 0:00:01\r\u001b[K     |███████████████████████████████ | 61kB 8.0MB/s eta 0:00:01\r\u001b[K     |████████████████████████████████| 71kB 4.8MB/s \n",
            "\u001b[?25hCollecting tensorflow-hub<0.10,>=0.7.0\n",
            "\u001b[?25l  Downloading https://files.pythonhosted.org/packages/ac/83/a7df82744a794107641dad1decaad017d82e25f0e1f761ac9204829eef96/tensorflow_hub-0.9.0-py2.py3-none-any.whl (103kB)\n",
            "\r\u001b[K     |███▏                            | 10kB 16.4MB/s eta 0:00:01\r\u001b[K     |██████▍                         | 20kB 21.6MB/s eta 0:00:01\r\u001b[K     |█████████▌                      | 30kB 22.2MB/s eta 0:00:01\r\u001b[K     |████████████▊                   | 40kB 16.3MB/s eta 0:00:01\r\u001b[K     |███████████████▉                | 51kB 11.3MB/s eta 0:00:01\r\u001b[K     |███████████████████             | 61kB 11.2MB/s eta 0:00:01\r\u001b[K     |██████████████████████▏         | 71kB 10.5MB/s eta 0:00:01\r\u001b[K     |█████████████████████████▍      | 81kB 9.8MB/s eta 0:00:01\r\u001b[K     |████████████████████████████▋   | 92kB 10.6MB/s eta 0:00:01\r\u001b[K     |███████████████████████████████▊| 102kB 10.8MB/s eta 0:00:01\r\u001b[K     |████████████████████████████████| 112kB 10.8MB/s \n",
            "\u001b[?25hRequirement already satisfied: six<2,>=1.12.0 in /usr/local/lib/python3.7/dist-packages (from tensorflowjs) (1.15.0)\n",
            "Requirement already satisfied: tensorflow<3,>=2.1.0 in /usr/local/lib/python3.7/dist-packages (from tensorflowjs) (2.4.1)\n",
            "Requirement already satisfied: h5py<3,>=2.8.0 in /usr/local/lib/python3.7/dist-packages (from tensorflowjs) (2.10.0)\n",
            "Requirement already satisfied: protobuf>=3.8.0 in /usr/local/lib/python3.7/dist-packages (from tensorflow-hub<0.10,>=0.7.0->tensorflowjs) (3.12.4)\n",
            "Requirement already satisfied: numpy>=1.12.0 in /usr/local/lib/python3.7/dist-packages (from tensorflow-hub<0.10,>=0.7.0->tensorflowjs) (1.19.5)\n",
            "Requirement already satisfied: typing-extensions~=3.7.4 in /usr/local/lib/python3.7/dist-packages (from tensorflow<3,>=2.1.0->tensorflowjs) (3.7.4.3)\n",
            "Requirement already satisfied: google-pasta~=0.2 in /usr/local/lib/python3.7/dist-packages (from tensorflow<3,>=2.1.0->tensorflowjs) (0.2.0)\n",
            "Requirement already satisfied: gast==0.3.3 in /usr/local/lib/python3.7/dist-packages (from tensorflow<3,>=2.1.0->tensorflowjs) (0.3.3)\n",
            "Requirement already satisfied: astunparse~=1.6.3 in /usr/local/lib/python3.7/dist-packages (from tensorflow<3,>=2.1.0->tensorflowjs) (1.6.3)\n",
            "Requirement already satisfied: tensorboard~=2.4 in /usr/local/lib/python3.7/dist-packages (from tensorflow<3,>=2.1.0->tensorflowjs) (2.4.1)\n",
            "Requirement already satisfied: termcolor~=1.1.0 in /usr/local/lib/python3.7/dist-packages (from tensorflow<3,>=2.1.0->tensorflowjs) (1.1.0)\n",
            "Requirement already satisfied: flatbuffers~=1.12.0 in /usr/local/lib/python3.7/dist-packages (from tensorflow<3,>=2.1.0->tensorflowjs) (1.12)\n",
            "Requirement already satisfied: grpcio~=1.32.0 in /usr/local/lib/python3.7/dist-packages (from tensorflow<3,>=2.1.0->tensorflowjs) (1.32.0)\n",
            "Requirement already satisfied: keras-preprocessing~=1.1.2 in /usr/local/lib/python3.7/dist-packages (from tensorflow<3,>=2.1.0->tensorflowjs) (1.1.2)\n",
            "Requirement already satisfied: wrapt~=1.12.1 in /usr/local/lib/python3.7/dist-packages (from tensorflow<3,>=2.1.0->tensorflowjs) (1.12.1)\n",
            "Requirement already satisfied: absl-py~=0.10 in /usr/local/lib/python3.7/dist-packages (from tensorflow<3,>=2.1.0->tensorflowjs) (0.12.0)\n",
            "Requirement already satisfied: opt-einsum~=3.3.0 in /usr/local/lib/python3.7/dist-packages (from tensorflow<3,>=2.1.0->tensorflowjs) (3.3.0)\n",
            "Requirement already satisfied: wheel~=0.35 in /usr/local/lib/python3.7/dist-packages (from tensorflow<3,>=2.1.0->tensorflowjs) (0.36.2)\n",
            "Requirement already satisfied: tensorflow-estimator<2.5.0,>=2.4.0 in /usr/local/lib/python3.7/dist-packages (from tensorflow<3,>=2.1.0->tensorflowjs) (2.4.0)\n",
            "Requirement already satisfied: setuptools in /usr/local/lib/python3.7/dist-packages (from protobuf>=3.8.0->tensorflow-hub<0.10,>=0.7.0->tensorflowjs) (54.2.0)\n",
            "Requirement already satisfied: werkzeug>=0.11.15 in /usr/local/lib/python3.7/dist-packages (from tensorboard~=2.4->tensorflow<3,>=2.1.0->tensorflowjs) (1.0.1)\n",
            "Requirement already satisfied: tensorboard-plugin-wit>=1.6.0 in /usr/local/lib/python3.7/dist-packages (from tensorboard~=2.4->tensorflow<3,>=2.1.0->tensorflowjs) (1.8.0)\n",
            "Requirement already satisfied: requests<3,>=2.21.0 in /usr/local/lib/python3.7/dist-packages (from tensorboard~=2.4->tensorflow<3,>=2.1.0->tensorflowjs) (2.23.0)\n",
            "Requirement already satisfied: markdown>=2.6.8 in /usr/local/lib/python3.7/dist-packages (from tensorboard~=2.4->tensorflow<3,>=2.1.0->tensorflowjs) (3.3.4)\n",
            "Requirement already satisfied: google-auth-oauthlib<0.5,>=0.4.1 in /usr/local/lib/python3.7/dist-packages (from tensorboard~=2.4->tensorflow<3,>=2.1.0->tensorflowjs) (0.4.4)\n",
            "Requirement already satisfied: google-auth<2,>=1.6.3 in /usr/local/lib/python3.7/dist-packages (from tensorboard~=2.4->tensorflow<3,>=2.1.0->tensorflowjs) (1.28.1)\n",
            "Requirement already satisfied: certifi>=2017.4.17 in /usr/local/lib/python3.7/dist-packages (from requests<3,>=2.21.0->tensorboard~=2.4->tensorflow<3,>=2.1.0->tensorflowjs) (2020.12.5)\n",
            "Requirement already satisfied: idna<3,>=2.5 in /usr/local/lib/python3.7/dist-packages (from requests<3,>=2.21.0->tensorboard~=2.4->tensorflow<3,>=2.1.0->tensorflowjs) (2.10)\n",
            "Requirement already satisfied: urllib3!=1.25.0,!=1.25.1,<1.26,>=1.21.1 in /usr/local/lib/python3.7/dist-packages (from requests<3,>=2.21.0->tensorboard~=2.4->tensorflow<3,>=2.1.0->tensorflowjs) (1.24.3)\n",
            "Requirement already satisfied: chardet<4,>=3.0.2 in /usr/local/lib/python3.7/dist-packages (from requests<3,>=2.21.0->tensorboard~=2.4->tensorflow<3,>=2.1.0->tensorflowjs) (3.0.4)\n",
            "Requirement already satisfied: importlib-metadata; python_version < \"3.8\" in /usr/local/lib/python3.7/dist-packages (from markdown>=2.6.8->tensorboard~=2.4->tensorflow<3,>=2.1.0->tensorflowjs) (3.10.0)\n",
            "Requirement already satisfied: requests-oauthlib>=0.7.0 in /usr/local/lib/python3.7/dist-packages (from google-auth-oauthlib<0.5,>=0.4.1->tensorboard~=2.4->tensorflow<3,>=2.1.0->tensorflowjs) (1.3.0)\n",
            "Requirement already satisfied: rsa<5,>=3.1.4; python_version >= \"3.6\" in /usr/local/lib/python3.7/dist-packages (from google-auth<2,>=1.6.3->tensorboard~=2.4->tensorflow<3,>=2.1.0->tensorflowjs) (4.7.2)\n",
            "Requirement already satisfied: pyasn1-modules>=0.2.1 in /usr/local/lib/python3.7/dist-packages (from google-auth<2,>=1.6.3->tensorboard~=2.4->tensorflow<3,>=2.1.0->tensorflowjs) (0.2.8)\n",
            "Requirement already satisfied: cachetools<5.0,>=2.0.0 in /usr/local/lib/python3.7/dist-packages (from google-auth<2,>=1.6.3->tensorboard~=2.4->tensorflow<3,>=2.1.0->tensorflowjs) (4.2.1)\n",
            "Requirement already satisfied: zipp>=0.5 in /usr/local/lib/python3.7/dist-packages (from importlib-metadata; python_version < \"3.8\"->markdown>=2.6.8->tensorboard~=2.4->tensorflow<3,>=2.1.0->tensorflowjs) (3.4.1)\n",
            "Requirement already satisfied: oauthlib>=3.0.0 in /usr/local/lib/python3.7/dist-packages (from requests-oauthlib>=0.7.0->google-auth-oauthlib<0.5,>=0.4.1->tensorboard~=2.4->tensorflow<3,>=2.1.0->tensorflowjs) (3.1.0)\n",
            "Requirement already satisfied: pyasn1>=0.1.3 in /usr/local/lib/python3.7/dist-packages (from rsa<5,>=3.1.4; python_version >= \"3.6\"->google-auth<2,>=1.6.3->tensorboard~=2.4->tensorflow<3,>=2.1.0->tensorflowjs) (0.4.8)\n",
            "Installing collected packages: tensorflow-hub, tensorflowjs\n",
            "  Found existing installation: tensorflow-hub 0.11.0\n",
            "    Uninstalling tensorflow-hub-0.11.0:\n",
            "      Successfully uninstalled tensorflow-hub-0.11.0\n",
            "Successfully installed tensorflow-hub-0.9.0 tensorflowjs-3.4.0\n"
          ],
          "name": "stdout"
        }
      ]
    },
    {
      "cell_type": "code",
      "metadata": {
        "id": "irVqWQsWWefb"
      },
      "source": [
        "# SAVE VERSION 1\n",
        "\n",
        "import tensorflowjs as tfjs\n",
        "\n",
        "def save_model(model):\n",
        "  model.save('rhyme_classification.h5')\n",
        "  tfjs.converters.save_keras_model(model, 'gdrive/MyDrive/rhymetfjs')\n",
        "\n",
        "save_model(model)"
      ],
      "execution_count": 67,
      "outputs": []
    },
    {
      "cell_type": "code",
      "metadata": {
        "colab": {
          "base_uri": "https://localhost:8080/"
        },
        "id": "u9-SVZbbs6BJ",
        "outputId": "d6362d74-8053-4c4d-d196-5a754796a901"
      },
      "source": [
        "!zip -r rhyme.zip rhyme_classification.h5"
      ],
      "execution_count": 70,
      "outputs": [
        {
          "output_type": "stream",
          "text": [
            "  adding: rhyme_classification.h5 (deflated 12%)\n"
          ],
          "name": "stdout"
        }
      ]
    },
    {
      "cell_type": "code",
      "metadata": {
        "colab": {
          "base_uri": "https://localhost:8080/",
          "height": 17
        },
        "id": "mqayaM31taap",
        "outputId": "b9af5b30-6c79-4692-d098-40b3b5449335"
      },
      "source": [
        "from google.colab import files\n",
        "files.download(\"rhyme.zip\")"
      ],
      "execution_count": 71,
      "outputs": [
        {
          "output_type": "display_data",
          "data": {
            "application/javascript": [
              "\n",
              "    async function download(id, filename, size) {\n",
              "      if (!google.colab.kernel.accessAllowed) {\n",
              "        return;\n",
              "      }\n",
              "      const div = document.createElement('div');\n",
              "      const label = document.createElement('label');\n",
              "      label.textContent = `Downloading \"${filename}\": `;\n",
              "      div.appendChild(label);\n",
              "      const progress = document.createElement('progress');\n",
              "      progress.max = size;\n",
              "      div.appendChild(progress);\n",
              "      document.body.appendChild(div);\n",
              "\n",
              "      const buffers = [];\n",
              "      let downloaded = 0;\n",
              "\n",
              "      const channel = await google.colab.kernel.comms.open(id);\n",
              "      // Send a message to notify the kernel that we're ready.\n",
              "      channel.send({})\n",
              "\n",
              "      for await (const message of channel.messages) {\n",
              "        // Send a message to notify the kernel that we're ready.\n",
              "        channel.send({})\n",
              "        if (message.buffers) {\n",
              "          for (const buffer of message.buffers) {\n",
              "            buffers.push(buffer);\n",
              "            downloaded += buffer.byteLength;\n",
              "            progress.value = downloaded;\n",
              "          }\n",
              "        }\n",
              "      }\n",
              "      const blob = new Blob(buffers, {type: 'application/binary'});\n",
              "      const a = document.createElement('a');\n",
              "      a.href = window.URL.createObjectURL(blob);\n",
              "      a.download = filename;\n",
              "      div.appendChild(a);\n",
              "      a.click();\n",
              "      div.remove();\n",
              "    }\n",
              "  "
            ],
            "text/plain": [
              "<IPython.core.display.Javascript object>"
            ]
          },
          "metadata": {
            "tags": []
          }
        },
        {
          "output_type": "display_data",
          "data": {
            "application/javascript": [
              "download(\"download_bac91ab8-ed86-49e0-a2a2-1e16c88f4ac1\", \"rhyme.zip\", 489228)"
            ],
            "text/plain": [
              "<IPython.core.display.Javascript object>"
            ]
          },
          "metadata": {
            "tags": []
          }
        }
      ]
    },
    {
      "cell_type": "code",
      "metadata": {
        "id": "A_aZU9iho4ri"
      },
      "source": [
        ""
      ],
      "execution_count": null,
      "outputs": []
    }
  ]
}