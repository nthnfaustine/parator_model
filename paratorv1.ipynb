{
  "nbformat": 4,
  "nbformat_minor": 0,
  "metadata": {
    "colab": {
      "name": "paratorv1.ipynb",
      "provenance": [],
      "collapsed_sections": [],
      "toc_visible": true
    },
    "kernelspec": {
      "display_name": "Python 3",
      "name": "python3"
    },
    "language_info": {
      "name": "python"
    }
  },
  "cells": [
    {
      "cell_type": "code",
      "metadata": {
        "colab": {
          "base_uri": "https://localhost:8080/"
        },
        "id": "B3Mb1ZFyOxfe",
        "outputId": "866360f1-ceb3-48a4-f304-101e595a8680"
      },
      "source": [
        "from google.colab import drive\n",
        "drive.mount('/content/gdrive')"
      ],
      "execution_count": 1,
      "outputs": [
        {
          "output_type": "stream",
          "text": [
            "Mounted at /content/gdrive\n"
          ],
          "name": "stdout"
        }
      ]
    },
    {
      "cell_type": "markdown",
      "metadata": {
        "id": "osIDSGZxqtbU"
      },
      "source": [
        "# **DATA GATHERING AND CLEANING**"
      ]
    },
    {
      "cell_type": "code",
      "metadata": {
        "id": "rcAg4QXTO-V6"
      },
      "source": [
        "import pandas as pd\n",
        "import numpy as np\n",
        "import csv\n",
        "\n",
        "csv_path = 'gdrive/MyDrive/pantun.csv'\n",
        "df = pd.read_csv(csv_path)"
      ],
      "execution_count": 3,
      "outputs": []
    },
    {
      "cell_type": "code",
      "metadata": {
        "colab": {
          "base_uri": "https://localhost:8080/",
          "height": 204
        },
        "id": "HVvh6EN1XkQr",
        "outputId": "1b0b2dab-00c7-4c61-c083-eae2b0431ee1"
      },
      "source": [
        "df.tail()"
      ],
      "execution_count": 4,
      "outputs": [
        {
          "output_type": "execute_result",
          "data": {
            "text/html": [
              "<div>\n",
              "<style scoped>\n",
              "    .dataframe tbody tr th:only-of-type {\n",
              "        vertical-align: middle;\n",
              "    }\n",
              "\n",
              "    .dataframe tbody tr th {\n",
              "        vertical-align: top;\n",
              "    }\n",
              "\n",
              "    .dataframe thead th {\n",
              "        text-align: right;\n",
              "    }\n",
              "</style>\n",
              "<table border=\"1\" class=\"dataframe\">\n",
              "  <thead>\n",
              "    <tr style=\"text-align: right;\">\n",
              "      <th></th>\n",
              "      <th>teks</th>\n",
              "      <th>tipe</th>\n",
              "    </tr>\n",
              "  </thead>\n",
              "  <tbody>\n",
              "    <tr>\n",
              "      <th>485</th>\n",
              "      <td>orang palembang menanam padi \\n negeri malaka ...</td>\n",
              "      <td>Pantun Nasihat</td>\n",
              "    </tr>\n",
              "    <tr>\n",
              "      <th>486</th>\n",
              "      <td>burung kakatua \\n hinggap dijendela \\n siapa y...</td>\n",
              "      <td>Pantun Nasihat</td>\n",
              "    </tr>\n",
              "    <tr>\n",
              "      <th>487</th>\n",
              "      <td>Burung kakak tua udah tak berdaya \\n Burung ad...</td>\n",
              "      <td>Pantun Nasihat</td>\n",
              "    </tr>\n",
              "    <tr>\n",
              "      <th>488</th>\n",
              "      <td>kucing kurus mandi dipapan \\n papan nya sikayu...</td>\n",
              "      <td>Pantun Nasihat</td>\n",
              "    </tr>\n",
              "    <tr>\n",
              "      <th>489</th>\n",
              "      <td>disana gunung disini gunung \\n ditengah tengah...</td>\n",
              "      <td>Pantun Nasihat</td>\n",
              "    </tr>\n",
              "  </tbody>\n",
              "</table>\n",
              "</div>"
            ],
            "text/plain": [
              "                                                  teks            tipe\n",
              "485  orang palembang menanam padi \\n negeri malaka ...  Pantun Nasihat\n",
              "486  burung kakatua \\n hinggap dijendela \\n siapa y...  Pantun Nasihat\n",
              "487  Burung kakak tua udah tak berdaya \\n Burung ad...  Pantun Nasihat\n",
              "488  kucing kurus mandi dipapan \\n papan nya sikayu...  Pantun Nasihat\n",
              "489  disana gunung disini gunung \\n ditengah tengah...  Pantun Nasihat"
            ]
          },
          "metadata": {
            "tags": []
          },
          "execution_count": 4
        }
      ]
    },
    {
      "cell_type": "code",
      "metadata": {
        "colab": {
          "base_uri": "https://localhost:8080/",
          "height": 204
        },
        "id": "Ji5-LBgCcqeW",
        "outputId": "2920933f-8d62-4171-9a67-f1d883b29b57"
      },
      "source": [
        "df = df.drop(columns='tipe')\n",
        "df.head()"
      ],
      "execution_count": 5,
      "outputs": [
        {
          "output_type": "execute_result",
          "data": {
            "text/html": [
              "<div>\n",
              "<style scoped>\n",
              "    .dataframe tbody tr th:only-of-type {\n",
              "        vertical-align: middle;\n",
              "    }\n",
              "\n",
              "    .dataframe tbody tr th {\n",
              "        vertical-align: top;\n",
              "    }\n",
              "\n",
              "    .dataframe thead th {\n",
              "        text-align: right;\n",
              "    }\n",
              "</style>\n",
              "<table border=\"1\" class=\"dataframe\">\n",
              "  <thead>\n",
              "    <tr style=\"text-align: right;\">\n",
              "      <th></th>\n",
              "      <th>teks</th>\n",
              "    </tr>\n",
              "  </thead>\n",
              "  <tbody>\n",
              "    <tr>\n",
              "      <th>0</th>\n",
              "      <td>Pakai baju ukurannya pas \\n Baju biru pemberia...</td>\n",
              "    </tr>\n",
              "    <tr>\n",
              "      <th>1</th>\n",
              "      <td>Orang bijak cinta bahasa \\n Bahasa luas Bahasa...</td>\n",
              "    </tr>\n",
              "    <tr>\n",
              "      <th>2</th>\n",
              "      <td>Kepada siapa datangnya wahyu \\n Kepada Nabi wa...</td>\n",
              "    </tr>\n",
              "    <tr>\n",
              "      <th>3</th>\n",
              "      <td>Citah perang melawan citah \\n Seekor pelatuk m...</td>\n",
              "    </tr>\n",
              "    <tr>\n",
              "      <th>4</th>\n",
              "      <td>Ada gadis perawan, \\n paling cantik di kampung...</td>\n",
              "    </tr>\n",
              "  </tbody>\n",
              "</table>\n",
              "</div>"
            ],
            "text/plain": [
              "                                                teks\n",
              "0  Pakai baju ukurannya pas \\n Baju biru pemberia...\n",
              "1  Orang bijak cinta bahasa \\n Bahasa luas Bahasa...\n",
              "2  Kepada siapa datangnya wahyu \\n Kepada Nabi wa...\n",
              "3  Citah perang melawan citah \\n Seekor pelatuk m...\n",
              "4  Ada gadis perawan, \\n paling cantik di kampung..."
            ]
          },
          "metadata": {
            "tags": []
          },
          "execution_count": 5
        }
      ]
    },
    {
      "cell_type": "code",
      "metadata": {
        "id": "QA4g9-GRYcFl"
      },
      "source": [
        "def seperate_lines(df):\n",
        "  df[['Satu','Dua','Tiga','Empat','Lima','enam','tujuh','lapan','lan','luh']] = df.teks.str.split(\"\\\\\",expand=True,)\n",
        "  new_df = df.drop(['teks','Lima','enam','tujuh','lapan','lan','luh'], axis=1)\n",
        "  return new_df\n",
        "\n",
        "def remove_row_with_null(df):\n",
        "  null_satu = df.index[df['Satu'].isnull()].tolist()\n",
        "  null_dua = df.index[df['Dua'].isnull()].tolist()\n",
        "  null_tiga = df.index[df['Tiga'].isnull()].tolist()\n",
        "  null_empat = df.index[df['Empat'].isnull()].tolist()\n",
        "\n",
        "  df.drop(null_satu, inplace=True)\n",
        "  df.drop(null_dua, inplace=True)\n",
        "  df.drop(null_tiga, inplace=True)\n",
        "  df.drop(null_empat, inplace=True)\n",
        "  return df\n",
        "\n",
        "def remove_enter(df):\n",
        "  for index, row in df.iterrows():\n",
        "    row['Dua'] = row['Dua'][2:]\n",
        "    row['Tiga'] = row['Tiga'][2:]\n",
        "    row['Empat'] = row['Empat'][2:]\n",
        "  return df"
      ],
      "execution_count": 6,
      "outputs": []
    },
    {
      "cell_type": "code",
      "metadata": {
        "id": "Fr7mcZIEaZ5j"
      },
      "source": [
        "# Seperate every line into different columns\n",
        "\n",
        "new_df = seperate_lines(df)\n",
        "new_df = remove_row_with_null(new_df)\n",
        "new_df = remove_enter(new_df)"
      ],
      "execution_count": 7,
      "outputs": []
    },
    {
      "cell_type": "code",
      "metadata": {
        "colab": {
          "base_uri": "https://localhost:8080/",
          "height": 255
        },
        "id": "uNwhE6CVPemu",
        "outputId": "76f3cdc5-fe57-4a25-bc6a-0c5dcbe97ae6"
      },
      "source": [
        "new_df.tail()"
      ],
      "execution_count": 8,
      "outputs": [
        {
          "output_type": "execute_result",
          "data": {
            "text/html": [
              "<div>\n",
              "<style scoped>\n",
              "    .dataframe tbody tr th:only-of-type {\n",
              "        vertical-align: middle;\n",
              "    }\n",
              "\n",
              "    .dataframe tbody tr th {\n",
              "        vertical-align: top;\n",
              "    }\n",
              "\n",
              "    .dataframe thead th {\n",
              "        text-align: right;\n",
              "    }\n",
              "</style>\n",
              "<table border=\"1\" class=\"dataframe\">\n",
              "  <thead>\n",
              "    <tr style=\"text-align: right;\">\n",
              "      <th></th>\n",
              "      <th>Satu</th>\n",
              "      <th>Dua</th>\n",
              "      <th>Tiga</th>\n",
              "      <th>Empat</th>\n",
              "    </tr>\n",
              "  </thead>\n",
              "  <tbody>\n",
              "    <tr>\n",
              "      <th>485</th>\n",
              "      <td>orang palembang menanam padi</td>\n",
              "      <td>negeri malaka negeri seberang</td>\n",
              "      <td>putus cinta jangan bersedih</td>\n",
              "      <td>dunia ini masih panjang</td>\n",
              "    </tr>\n",
              "    <tr>\n",
              "      <th>486</th>\n",
              "      <td>burung kakatua</td>\n",
              "      <td>hinggap dijendela</td>\n",
              "      <td>siapa yang jatuh cinta</td>\n",
              "      <td>pasti cemburu buta</td>\n",
              "    </tr>\n",
              "    <tr>\n",
              "      <th>487</th>\n",
              "      <td>Burung kakak tua udah tak berdaya</td>\n",
              "      <td>Burung adik muda terbang ke angkasa</td>\n",
              "      <td>Makasi kakek telah berjuang bela negara</td>\n",
              "      <td>Sekarang adek bahagia di hari MERDEKA</td>\n",
              "    </tr>\n",
              "    <tr>\n",
              "      <th>488</th>\n",
              "      <td>kucing kurus mandi dipapan</td>\n",
              "      <td>papan nya sikayu jati</td>\n",
              "      <td>aku kurus bukan karena kurang makan</td>\n",
              "      <td>tetapi mikirin sijantung hati</td>\n",
              "    </tr>\n",
              "    <tr>\n",
              "      <th>489</th>\n",
              "      <td>disana gunung disini gunung</td>\n",
              "      <td>ditengah tengah gunung berapi</td>\n",
              "      <td>kesana bingung kesini bingung</td>\n",
              "      <td>itulah namanya jatuh hati</td>\n",
              "    </tr>\n",
              "  </tbody>\n",
              "</table>\n",
              "</div>"
            ],
            "text/plain": [
              "                                   Satu  ...                                  Empat\n",
              "485       orang palembang menanam padi   ...                dunia ini masih panjang\n",
              "486                     burung kakatua   ...                     pasti cemburu buta\n",
              "487  Burung kakak tua udah tak berdaya   ...  Sekarang adek bahagia di hari MERDEKA\n",
              "488         kucing kurus mandi dipapan   ...          tetapi mikirin sijantung hati\n",
              "489        disana gunung disini gunung   ...              itulah namanya jatuh hati\n",
              "\n",
              "[5 rows x 4 columns]"
            ]
          },
          "metadata": {
            "tags": []
          },
          "execution_count": 8
        }
      ]
    },
    {
      "cell_type": "code",
      "metadata": {
        "colab": {
          "base_uri": "https://localhost:8080/"
        },
        "id": "PMqnSvRjTEFo",
        "outputId": "d2a13d49-8720-4319-963e-ed9a2be5266e"
      },
      "source": [
        "# Make a series of every word used in pantun\n",
        "\n",
        "kata = []\n",
        "for row in new_df['Satu']:\n",
        "  ls = row.split(\" \")\n",
        "  for i in ls:\n",
        "    kata.append(i)\n",
        "for row in new_df['Dua']:\n",
        "  ls = row.split(\" \")\n",
        "  for i in ls:\n",
        "    kata.append(i)\n",
        "for row in new_df['Tiga']:\n",
        "  ls = row.split(\" \")\n",
        "  for i in ls:\n",
        "    kata.append(i)\n",
        "for row in new_df['Empat']:\n",
        "  ls = row.split(\" \")\n",
        "  for i in ls:\n",
        "    kata.append(i)\n",
        "\n",
        "kata_series = pd.Series(kata)\n",
        "\n",
        "kata_series = kata_series.str.replace(r'[^\\w\\s]+', '', -1)\n",
        "kata_series = kata_series.str.replace(' ', '', -1)\n",
        "kata_series = kata_series.str.lower()\n",
        "kata_series = kata_series.drop_duplicates()\n",
        "kata_series.replace('', np.nan, inplace=True)\n",
        "kata_series.dropna(inplace=True)\n",
        "kata_series = kata_series.reset_index(drop=True)\n",
        "\n",
        "kata_series.describe()"
      ],
      "execution_count": 9,
      "outputs": [
        {
          "output_type": "execute_result",
          "data": {
            "text/plain": [
              "count       2902\n",
              "unique      2902\n",
              "top       merugi\n",
              "freq           1\n",
              "dtype: object"
            ]
          },
          "metadata": {
            "tags": []
          },
          "execution_count": 9
        }
      ]
    },
    {
      "cell_type": "code",
      "metadata": {
        "colab": {
          "base_uri": "https://localhost:8080/"
        },
        "id": "28j5VhtFYCwT",
        "outputId": "a33445c0-4733-4665-ba30-cc73d9e2db26"
      },
      "source": [
        "# Make series for every akhiran in words\n",
        "\n",
        "labels = []\n",
        "vowel = ['a', 'i', 'u', 'e', 'o']\n",
        "counter = 0\n",
        "\n",
        "for kata in kata_series:\n",
        "  \n",
        "  temp = []\n",
        "  if not set('aeiou').intersection(kata):\n",
        "    labels.append(\"AAAAAA\")\n",
        "  else:\n",
        "    for i in reversed(kata):\n",
        "      \n",
        "      temp.append(i)\n",
        "      if i in vowel:\n",
        "        counter += 1\n",
        "        labels.append(''.join(temp)[::-1])\n",
        "        break\n",
        "\n",
        "print(\"Length of the series: {}\".format(len(labels)))\n",
        "print(\"Words with akhiran: {}\\n\".format(counter))\n",
        "\n",
        "label_series = pd.Series(labels)\n",
        "label_series.describe()"
      ],
      "execution_count": 10,
      "outputs": [
        {
          "output_type": "stream",
          "text": [
            "Length of the series: 2902\n",
            "Words with akhiran: 2889\n",
            "\n"
          ],
          "name": "stdout"
        },
        {
          "output_type": "execute_result",
          "data": {
            "text/plain": [
              "count     2902\n",
              "unique      74\n",
              "top          a\n",
              "freq       575\n",
              "dtype: object"
            ]
          },
          "metadata": {
            "tags": []
          },
          "execution_count": 10
        }
      ]
    },
    {
      "cell_type": "code",
      "metadata": {
        "colab": {
          "base_uri": "https://localhost:8080/"
        },
        "id": "3lpcP1xObUqT",
        "outputId": "d896dbdf-a187-46ba-ac07-d0d66ab1c5af"
      },
      "source": [
        "# Test the series\n",
        "\n",
        "print(\"the word: {}\".format(kata_series[2706]))\n",
        "print(\"akhiran: {}\".format(labels[2706]))"
      ],
      "execution_count": 11,
      "outputs": [
        {
          "output_type": "stream",
          "text": [
            "the word: ajaran\n",
            "akhiran: an\n"
          ],
          "name": "stdout"
        }
      ]
    },
    {
      "cell_type": "code",
      "metadata": {
        "colab": {
          "base_uri": "https://localhost:8080/",
          "height": 173
        },
        "id": "0RXJB9JDcae2",
        "outputId": "74183514-6a9c-48fd-cf94-bb94e1ef73c4"
      },
      "source": [
        "# Make the DF\n",
        "\n",
        "frame = {'kata': kata_series,\n",
        "         'akhiran': label_series}\n",
        "  \n",
        "df_rhyme = pd.DataFrame(frame)\n",
        "df_rhyme.describe()"
      ],
      "execution_count": 12,
      "outputs": [
        {
          "output_type": "execute_result",
          "data": {
            "text/html": [
              "<div>\n",
              "<style scoped>\n",
              "    .dataframe tbody tr th:only-of-type {\n",
              "        vertical-align: middle;\n",
              "    }\n",
              "\n",
              "    .dataframe tbody tr th {\n",
              "        vertical-align: top;\n",
              "    }\n",
              "\n",
              "    .dataframe thead th {\n",
              "        text-align: right;\n",
              "    }\n",
              "</style>\n",
              "<table border=\"1\" class=\"dataframe\">\n",
              "  <thead>\n",
              "    <tr style=\"text-align: right;\">\n",
              "      <th></th>\n",
              "      <th>kata</th>\n",
              "      <th>akhiran</th>\n",
              "    </tr>\n",
              "  </thead>\n",
              "  <tbody>\n",
              "    <tr>\n",
              "      <th>count</th>\n",
              "      <td>2902</td>\n",
              "      <td>2902</td>\n",
              "    </tr>\n",
              "    <tr>\n",
              "      <th>unique</th>\n",
              "      <td>2902</td>\n",
              "      <td>74</td>\n",
              "    </tr>\n",
              "    <tr>\n",
              "      <th>top</th>\n",
              "      <td>merugi</td>\n",
              "      <td>a</td>\n",
              "    </tr>\n",
              "    <tr>\n",
              "      <th>freq</th>\n",
              "      <td>1</td>\n",
              "      <td>575</td>\n",
              "    </tr>\n",
              "  </tbody>\n",
              "</table>\n",
              "</div>"
            ],
            "text/plain": [
              "          kata akhiran\n",
              "count     2902    2902\n",
              "unique    2902      74\n",
              "top     merugi       a\n",
              "freq         1     575"
            ]
          },
          "metadata": {
            "tags": []
          },
          "execution_count": 12
        }
      ]
    },
    {
      "cell_type": "code",
      "metadata": {
        "colab": {
          "base_uri": "https://localhost:8080/",
          "height": 452
        },
        "id": "6Xya7z7If8Ki",
        "outputId": "0b539b0c-eae2-4b31-e67d-c3de2ff60242"
      },
      "source": [
        "# find words with null akhiran\n",
        "\n",
        "df_rhyme[df_rhyme['akhiran'] == \"AAAAAA\"]"
      ],
      "execution_count": 13,
      "outputs": [
        {
          "output_type": "execute_result",
          "data": {
            "text/html": [
              "<div>\n",
              "<style scoped>\n",
              "    .dataframe tbody tr th:only-of-type {\n",
              "        vertical-align: middle;\n",
              "    }\n",
              "\n",
              "    .dataframe tbody tr th {\n",
              "        vertical-align: top;\n",
              "    }\n",
              "\n",
              "    .dataframe thead th {\n",
              "        text-align: right;\n",
              "    }\n",
              "</style>\n",
              "<table border=\"1\" class=\"dataframe\">\n",
              "  <thead>\n",
              "    <tr style=\"text-align: right;\">\n",
              "      <th></th>\n",
              "      <th>kata</th>\n",
              "      <th>akhiran</th>\n",
              "    </tr>\n",
              "  </thead>\n",
              "  <tbody>\n",
              "    <tr>\n",
              "      <th>289</th>\n",
              "      <td>d</td>\n",
              "      <td>AAAAAA</td>\n",
              "    </tr>\n",
              "    <tr>\n",
              "      <th>628</th>\n",
              "      <td>2</td>\n",
              "      <td>AAAAAA</td>\n",
              "    </tr>\n",
              "    <tr>\n",
              "      <th>980</th>\n",
              "      <td>yg</td>\n",
              "      <td>AAAAAA</td>\n",
              "    </tr>\n",
              "    <tr>\n",
              "      <th>1148</th>\n",
              "      <td>lh</td>\n",
              "      <td>AAAAAA</td>\n",
              "    </tr>\n",
              "    <tr>\n",
              "      <th>1264</th>\n",
              "      <td>k</td>\n",
              "      <td>AAAAAA</td>\n",
              "    </tr>\n",
              "    <tr>\n",
              "      <th>1623</th>\n",
              "      <td>11</td>\n",
              "      <td>AAAAAA</td>\n",
              "    </tr>\n",
              "    <tr>\n",
              "      <th>1930</th>\n",
              "      <td>mw</td>\n",
              "      <td>AAAAAA</td>\n",
              "    </tr>\n",
              "    <tr>\n",
              "      <th>1982</th>\n",
              "      <td>mcm</td>\n",
              "      <td>AAAAAA</td>\n",
              "    </tr>\n",
              "    <tr>\n",
              "      <th>1986</th>\n",
              "      <td>nk</td>\n",
              "      <td>AAAAAA</td>\n",
              "    </tr>\n",
              "    <tr>\n",
              "      <th>2118</th>\n",
              "      <td>72</td>\n",
              "      <td>AAAAAA</td>\n",
              "    </tr>\n",
              "    <tr>\n",
              "      <th>2384</th>\n",
              "      <td>1781945</td>\n",
              "      <td>AAAAAA</td>\n",
              "    </tr>\n",
              "    <tr>\n",
              "      <th>2668</th>\n",
              "      <td>wkwk</td>\n",
              "      <td>AAAAAA</td>\n",
              "    </tr>\n",
              "    <tr>\n",
              "      <th>2673</th>\n",
              "      <td>q</td>\n",
              "      <td>AAAAAA</td>\n",
              "    </tr>\n",
              "  </tbody>\n",
              "</table>\n",
              "</div>"
            ],
            "text/plain": [
              "         kata akhiran\n",
              "289         d  AAAAAA\n",
              "628         2  AAAAAA\n",
              "980        yg  AAAAAA\n",
              "1148       lh  AAAAAA\n",
              "1264        k  AAAAAA\n",
              "1623       11  AAAAAA\n",
              "1930       mw  AAAAAA\n",
              "1982      mcm  AAAAAA\n",
              "1986       nk  AAAAAA\n",
              "2118       72  AAAAAA\n",
              "2384  1781945  AAAAAA\n",
              "2668     wkwk  AAAAAA\n",
              "2673        q  AAAAAA"
            ]
          },
          "metadata": {
            "tags": []
          },
          "execution_count": 13
        }
      ]
    },
    {
      "cell_type": "markdown",
      "metadata": {
        "id": "UgPRzNaOmpof"
      },
      "source": [
        "<img src=\"https://i.kym-cdn.com/entries/icons/facebook/000/034/772/Untitled-1.jpg\" width=\"400\">"
      ]
    },
    {
      "cell_type": "code",
      "metadata": {
        "colab": {
          "base_uri": "https://localhost:8080/"
        },
        "id": "WEYY-CdmgHVI",
        "outputId": "c1ca043d-dbd5-4949-ebd7-c79ae37e2fa7"
      },
      "source": [
        "df_rhyme.replace('AAAAAA', np.nan, inplace=True)\n",
        "df_rhyme.dropna(inplace=True)\n",
        "\n",
        "df_rhyme['akhiran'].isnull().value_counts()"
      ],
      "execution_count": 14,
      "outputs": [
        {
          "output_type": "execute_result",
          "data": {
            "text/plain": [
              "False    2889\n",
              "Name: akhiran, dtype: int64"
            ]
          },
          "metadata": {
            "tags": []
          },
          "execution_count": 14
        }
      ]
    },
    {
      "cell_type": "code",
      "metadata": {
        "colab": {
          "base_uri": "https://localhost:8080/"
        },
        "id": "LyhvfCvmMiLA",
        "outputId": "2f9450b6-527e-4ce5-8585-7adb03cb1b27"
      },
      "source": [
        "df_rhyme.akhiran.unique()"
      ],
      "execution_count": 15,
      "outputs": [
        {
          "output_type": "execute_result",
          "data": {
            "text/plain": [
              "array(['i', 'u', 'a', 'as', 'ang', 'ak', 'ah', 'an', 'is', 'in', 'ap',\n",
              "       'at', 'am', 'it', 'up', 'or', 'uh', 'ab', 'e', 'ul', 'ung', 'ik',\n",
              "       'ir', 'ut', 'il', 'un', 'ar', 'us', 'on', 'im', 'em', 'um', 'ih',\n",
              "       'ok', 'ing', 'er', 'ur', 'o', 'ity', 'uk', 'eng', 'al', 'ip', 'et',\n",
              "       'od', 'es', 'ib', 'ek', 'ong', 'ipt', 'ath', 'if', 'ep', 'el',\n",
              "       'eh', 'ud', 'alm', 'oh', 'ol', 'en', 'af', 'ey', 'uz', 'os', 'id',\n",
              "       'unk', 'elm', 'aq', 'ess', 'iz', 'ow', 'alh', 'op'], dtype=object)"
            ]
          },
          "metadata": {
            "tags": []
          },
          "execution_count": 15
        }
      ]
    },
    {
      "cell_type": "code",
      "metadata": {
        "colab": {
          "base_uri": "https://localhost:8080/"
        },
        "id": "see1NalfM3Qx",
        "outputId": "bf1728a4-f56b-4c4a-dfc5-3c76faaf5bf4"
      },
      "source": [
        "# Handle akhiran yang aneh : alm, ity, uz, elm, aq, ess, iz, ow, alh, ath, od, ipt, id, unk\n",
        "\n",
        "df_rhyme['akhiran'].replace('alm', 'em', inplace=True)\n",
        "df_rhyme['akhiran'].replace('ity', 'i', inplace=True)\n",
        "df_rhyme['akhiran'].replace('uz', 'us', inplace=True)\n",
        "df_rhyme['akhiran'].replace('elm', 'em', inplace=True)\n",
        "df_rhyme['akhiran'].replace('aq', 'u', inplace=True)\n",
        "df_rhyme['akhiran'].replace('ess', 'es', inplace=True)\n",
        "df_rhyme['akhiran'].replace('iz', 'is', inplace=True)\n",
        "df_rhyme['akhiran'].replace('id', 'it', inplace=True)\n",
        "df_rhyme['akhiran'].replace('ath', 'at', inplace=True)\n",
        "df_rhyme['akhiran'].replace('od', 'ut', inplace=True)\n",
        "\n",
        "# akhiran ipt\n",
        "df_rhyme.drop(671, inplace=True)\n",
        "# akhiran alh\n",
        "df_rhyme.drop(2709, inplace=True)\n",
        "# akhiran unk\n",
        "df_rhyme.drop(2366, inplace=True)\n",
        "\n",
        "df_rhyme.akhiran.unique()"
      ],
      "execution_count": 16,
      "outputs": [
        {
          "output_type": "execute_result",
          "data": {
            "text/plain": [
              "array(['i', 'u', 'a', 'as', 'ang', 'ak', 'ah', 'an', 'is', 'in', 'ap',\n",
              "       'at', 'am', 'it', 'up', 'or', 'uh', 'ab', 'e', 'ul', 'ung', 'ik',\n",
              "       'ir', 'ut', 'il', 'un', 'ar', 'us', 'on', 'im', 'em', 'um', 'ih',\n",
              "       'ok', 'ing', 'er', 'ur', 'o', 'uk', 'eng', 'al', 'ip', 'et', 'es',\n",
              "       'ib', 'ek', 'ong', 'if', 'ep', 'el', 'eh', 'ud', 'oh', 'ol', 'en',\n",
              "       'af', 'ey', 'os', 'ow', 'op'], dtype=object)"
            ]
          },
          "metadata": {
            "tags": []
          },
          "execution_count": 16
        }
      ]
    },
    {
      "cell_type": "code",
      "metadata": {
        "colab": {
          "base_uri": "https://localhost:8080/"
        },
        "id": "N-Ns4qHDmAS-",
        "outputId": "6028cc6e-bbda-4034-fc1e-86a29790eda4"
      },
      "source": [
        "df_rhyme.akhiran.value_counts()"
      ],
      "execution_count": 17,
      "outputs": [
        {
          "output_type": "execute_result",
          "data": {
            "text/plain": [
              "a      575\n",
              "an     329\n",
              "i      300\n",
              "u      207\n",
              "ah     195\n",
              "ang    173\n",
              "at     115\n",
              "ar      85\n",
              "ak      84\n",
              "is      47\n",
              "un      44\n",
              "as      40\n",
              "in      37\n",
              "ut      37\n",
              "e       34\n",
              "uh      34\n",
              "ing     33\n",
              "ung     33\n",
              "am      33\n",
              "ik      31\n",
              "ur      30\n",
              "al      29\n",
              "uk      29\n",
              "ap      26\n",
              "ih      22\n",
              "us      21\n",
              "it      21\n",
              "ok      20\n",
              "ir      19\n",
              "o       18\n",
              "um      17\n",
              "il      13\n",
              "ek      12\n",
              "er      12\n",
              "up      10\n",
              "em      10\n",
              "ul      10\n",
              "or      10\n",
              "ong      9\n",
              "on       9\n",
              "et       8\n",
              "eng      7\n",
              "eh       6\n",
              "im       5\n",
              "ib       5\n",
              "oh       5\n",
              "es       5\n",
              "el       4\n",
              "ep       4\n",
              "if       4\n",
              "ab       4\n",
              "ip       3\n",
              "ol       2\n",
              "ud       2\n",
              "ow       2\n",
              "en       2\n",
              "os       2\n",
              "ey       1\n",
              "op       1\n",
              "af       1\n",
              "Name: akhiran, dtype: int64"
            ]
          },
          "metadata": {
            "tags": []
          },
          "execution_count": 17
        }
      ]
    },
    {
      "cell_type": "code",
      "metadata": {
        "colab": {
          "base_uri": "https://localhost:8080/",
          "height": 49
        },
        "id": "LpDNiRTVXymg",
        "outputId": "03bcca4d-ec77-4203-d26f-6b6e40a96598"
      },
      "source": [
        "df_rhyme[df_rhyme['akhiran'] == 'unk']"
      ],
      "execution_count": 18,
      "outputs": [
        {
          "output_type": "execute_result",
          "data": {
            "text/html": [
              "<div>\n",
              "<style scoped>\n",
              "    .dataframe tbody tr th:only-of-type {\n",
              "        vertical-align: middle;\n",
              "    }\n",
              "\n",
              "    .dataframe tbody tr th {\n",
              "        vertical-align: top;\n",
              "    }\n",
              "\n",
              "    .dataframe thead th {\n",
              "        text-align: right;\n",
              "    }\n",
              "</style>\n",
              "<table border=\"1\" class=\"dataframe\">\n",
              "  <thead>\n",
              "    <tr style=\"text-align: right;\">\n",
              "      <th></th>\n",
              "      <th>kata</th>\n",
              "      <th>akhiran</th>\n",
              "    </tr>\n",
              "  </thead>\n",
              "  <tbody>\n",
              "  </tbody>\n",
              "</table>\n",
              "</div>"
            ],
            "text/plain": [
              "Empty DataFrame\n",
              "Columns: [kata, akhiran]\n",
              "Index: []"
            ]
          },
          "metadata": {
            "tags": []
          },
          "execution_count": 18
        }
      ]
    },
    {
      "cell_type": "code",
      "metadata": {
        "id": "WrdlIl-pWs1g"
      },
      "source": [
        "# Ada akhiran yang cuma 1\n",
        "\n",
        "df2 = pd.DataFrame([['mei', 'ey'],\n",
        "                    ['may', 'ey'],\n",
        "                    ['hei', 'ey'],\n",
        "                    ['wakaf', 'af'],\n",
        "                    ['draf', 'af'],\n",
        "                    ['khilaf', 'af'],\n",
        "                    ['sop', 'op'],\n",
        "                    ['stetoskop', 'op'],\n",
        "                    ['bioskop', 'op'],\n",
        "                    ['ancol', 'ol'],\n",
        "                    ['bentol', 'ol'],\n",
        "                    ['benjol', 'ol'],\n",
        "                    ['cebol', 'ol']], columns=['kata', 'akhiran'])\n",
        "\n",
        "added_df = df_rhyme.append(df2, ignore_index=True)"
      ],
      "execution_count": 19,
      "outputs": []
    },
    {
      "cell_type": "code",
      "metadata": {
        "colab": {
          "base_uri": "https://localhost:8080/",
          "height": 294
        },
        "id": "Sb2gVu8Cc6cG",
        "outputId": "df6fc257-6337-4d7f-ad72-9586c82a6668"
      },
      "source": [
        "import matplotlib.pyplot as plt\n",
        "import seaborn as sns\n",
        "\n",
        "sns.set_theme(style=\"darkgrid\")\n",
        "plt.figure(figsize=(22, 6))\n",
        "ax = sns.countplot(x=\"akhiran\", data=added_df, order = added_df['akhiran'].value_counts().index)"
      ],
      "execution_count": 20,
      "outputs": [
        {
          "output_type": "display_data",
          "data": {
            "image/png": "[encoded data removed]",
            "text/plain": [
              "<Figure size 1584x432 with 1 Axes>"
            ]
          },
          "metadata": {
            "tags": []
          }
        }
      ]
    },
    {
      "cell_type": "code",
      "metadata": {
        "colab": {
          "base_uri": "https://localhost:8080/"
        },
        "id": "akHR2wURmWts",
        "outputId": "49847409-f54c-4c96-d1b9-9007531c51c4"
      },
      "source": [
        "added_df.akhiran.value_counts()"
      ],
      "execution_count": 21,
      "outputs": [
        {
          "output_type": "execute_result",
          "data": {
            "text/plain": [
              "a      575\n",
              "an     329\n",
              "i      300\n",
              "u      207\n",
              "ah     195\n",
              "ang    173\n",
              "at     115\n",
              "ar      85\n",
              "ak      84\n",
              "is      47\n",
              "un      44\n",
              "as      40\n",
              "in      37\n",
              "ut      37\n",
              "e       34\n",
              "uh      34\n",
              "ing     33\n",
              "ung     33\n",
              "am      33\n",
              "ik      31\n",
              "ur      30\n",
              "al      29\n",
              "uk      29\n",
              "ap      26\n",
              "ih      22\n",
              "us      21\n",
              "it      21\n",
              "ok      20\n",
              "ir      19\n",
              "o       18\n",
              "um      17\n",
              "il      13\n",
              "ek      12\n",
              "er      12\n",
              "up      10\n",
              "em      10\n",
              "ul      10\n",
              "or      10\n",
              "ong      9\n",
              "on       9\n",
              "et       8\n",
              "eng      7\n",
              "eh       6\n",
              "ol       6\n",
              "oh       5\n",
              "ib       5\n",
              "es       5\n",
              "im       5\n",
              "ey       4\n",
              "op       4\n",
              "ep       4\n",
              "ab       4\n",
              "el       4\n",
              "if       4\n",
              "af       4\n",
              "ip       3\n",
              "ud       2\n",
              "os       2\n",
              "ow       2\n",
              "en       2\n",
              "Name: akhiran, dtype: int64"
            ]
          },
          "metadata": {
            "tags": []
          },
          "execution_count": 21
        }
      ]
    },
    {
      "cell_type": "code",
      "metadata": {
        "id": "48IYNKJbZpKJ"
      },
      "source": [
        "added_df.to_json('test.json')"
      ],
      "execution_count": 23,
      "outputs": []
    },
    {
      "cell_type": "markdown",
      "metadata": {
        "id": "dT7374abeUNP"
      },
      "source": [
        "IMBALANCE LOL"
      ]
    },
    {
      "cell_type": "code",
      "metadata": {
        "colab": {
          "base_uri": "https://localhost:8080/"
        },
        "id": "ZtCOpr0PQhlK",
        "outputId": "4a1a2db3-a375-44b3-84e2-e60ad3be9919"
      },
      "source": [
        "added_df['akhiran'].describe()"
      ],
      "execution_count": null,
      "outputs": [
        {
          "output_type": "execute_result",
          "data": {
            "text/plain": [
              "count     2899\n",
              "unique      60\n",
              "top          a\n",
              "freq       575\n",
              "Name: akhiran, dtype: object"
            ]
          },
          "metadata": {
            "tags": []
          },
          "execution_count": 21
        }
      ]
    },
    {
      "cell_type": "markdown",
      "metadata": {
        "id": "oVN9LzXcWMPa"
      },
      "source": [
        "\n",
        "\n",
        "---\n",
        "\n"
      ]
    },
    {
      "cell_type": "markdown",
      "metadata": {
        "id": "R1y205puqjSG"
      },
      "source": [
        "# **MODEL TRAINING**"
      ]
    },
    {
      "cell_type": "code",
      "metadata": {
        "colab": {
          "base_uri": "https://localhost:8080/"
        },
        "id": "zMWkeeOdWL6A",
        "outputId": "24d986fc-29c0-4bcd-f580-c5f9a1cc0338"
      },
      "source": [
        "# Split training and testing data\n",
        "\n",
        "from sklearn.model_selection import train_test_split\n",
        "\n",
        "X_train, X_test, y_train, y_test = train_test_split(\n",
        "    added_df['kata'],\n",
        "    added_df['akhiran'],\n",
        "    test_size=0.1,\n",
        "    random_state=45,\n",
        "    stratify=added_df['akhiran'])\n",
        "\n",
        "print(\"X_train: {}\".format(X_train.count()))\n",
        "print(\"X_test: {}\\n\".format(X_test.count()))\n",
        "print(\"y_train: {}\".format(y_train.count()))\n",
        "print(\"y_test: {}\".format(y_test.count()))"
      ],
      "execution_count": null,
      "outputs": [
        {
          "output_type": "stream",
          "text": [
            "X_train: 2609\n",
            "X_test: 290\n",
            "\n",
            "y_train: 2609\n",
            "y_test: 290\n"
          ],
          "name": "stdout"
        }
      ]
    },
    {
      "cell_type": "code",
      "metadata": {
        "colab": {
          "base_uri": "https://localhost:8080/"
        },
        "id": "OxFZ8U0-RerM",
        "outputId": "ea3dee0e-e6dc-4774-d22a-b127a23e084f"
      },
      "source": [
        "# Tokenize kata with char_level=True\n",
        "import tensorflow as tf\n",
        "from tensorflow.keras.preprocessing.text import Tokenizer\n",
        "from tensorflow.keras.preprocessing.sequence import pad_sequences\n",
        "\n",
        "vocab_size = 26 # from a - z\n",
        "embedding_dim = 16\n",
        "max_length = 120\n",
        "\n",
        "tokenizer = Tokenizer(num_words=vocab_size, char_level=True)\n",
        "tokenizer.fit_on_texts(X_train)\n",
        "word_index = tokenizer.word_index\n",
        "\n",
        "train_sequences = tokenizer.texts_to_sequences(X_train)\n",
        "train_padded = pad_sequences(train_sequences, maxlen=max_length)\n",
        "\n",
        "# Tokenize validation\n",
        "validation_sequences = tokenizer.texts_to_sequences(X_test)\n",
        "validation_padded = pad_sequences(validation_sequences, maxlen=max_length)\n",
        "\n",
        "print(len(validation_sequences))\n",
        "print(validation_padded.shape)"
      ],
      "execution_count": null,
      "outputs": [
        {
          "output_type": "stream",
          "text": [
            "290\n",
            "(290, 120)\n"
          ],
          "name": "stdout"
        }
      ]
    },
    {
      "cell_type": "code",
      "metadata": {
        "colab": {
          "base_uri": "https://localhost:8080/"
        },
        "id": "tMRw4Eg7sBGI",
        "outputId": "49acb0ea-c830-4ea6-ff19-28e145b574e3"
      },
      "source": [
        "print(word_index)"
      ],
      "execution_count": null,
      "outputs": [
        {
          "output_type": "stream",
          "text": [
            "{'a': 1, 'n': 2, 'e': 3, 'i': 4, 'u': 5, 'r': 6, 't': 7, 'm': 8, 'k': 9, 'g': 10, 's': 11, 'l': 12, 'b': 13, 'p': 14, 'd': 15, 'h': 16, 'y': 17, 'o': 18, 'j': 19, 'c': 20, 'w': 21, 'f': 22, 'z': 23, 'q': 24, 'v': 25, '_': 26}\n"
          ],
          "name": "stdout"
        }
      ]
    },
    {
      "cell_type": "code",
      "metadata": {
        "colab": {
          "base_uri": "https://localhost:8080/"
        },
        "id": "VbOBEdC0R2p4",
        "outputId": "217927ee-7104-446c-ba35-14a8df47b7fc"
      },
      "source": [
        "train_sequences[2]"
      ],
      "execution_count": null,
      "outputs": [
        {
          "output_type": "execute_result",
          "data": {
            "text/plain": [
              "[8, 3, 12, 1, 7, 1]"
            ]
          },
          "metadata": {
            "tags": []
          },
          "execution_count": 25
        }
      ]
    },
    {
      "cell_type": "code",
      "metadata": {
        "colab": {
          "base_uri": "https://localhost:8080/"
        },
        "id": "CGZesDW3PM0Y",
        "outputId": "053e260c-a64b-4cad-aebe-c5a1cde260d5"
      },
      "source": [
        "# Tokenize labels\n",
        "\n",
        "label_tokenizer = Tokenizer()\n",
        "label_tokenizer.fit_on_texts(added_df['akhiran'])\n",
        "\n",
        "training_label_seq = np.array(label_tokenizer.texts_to_sequences(y_train))\n",
        "validation_label_seq = np.array(label_tokenizer.texts_to_sequences(y_test))\n",
        "\n",
        "print(training_label_seq[0])\n",
        "print(training_label_seq[1])\n",
        "print(training_label_seq[2])\n",
        "print(training_label_seq.shape)\n",
        "\n",
        "print(validation_label_seq[0])\n",
        "print(validation_label_seq[1])\n",
        "print(validation_label_seq[2])\n",
        "print(validation_label_seq.shape)"
      ],
      "execution_count": null,
      "outputs": [
        {
          "output_type": "stream",
          "text": [
            "[1]\n",
            "[4]\n",
            "[1]\n",
            "(2609, 1)\n",
            "[11]\n",
            "[7]\n",
            "[14]\n",
            "(290, 1)\n"
          ],
          "name": "stdout"
        }
      ]
    },
    {
      "cell_type": "code",
      "metadata": {
        "colab": {
          "base_uri": "https://localhost:8080/"
        },
        "id": "GbWIYPluQY3h",
        "outputId": "3f1a606d-a530-4882-b7be-2b808a183882"
      },
      "source": [
        "# Making the model, add dropout to reduce overfitting, and LSTM for RNN\n",
        "\n",
        "model = tf.keras.Sequential([\n",
        "    tf.keras.layers.Embedding(vocab_size+1, embedding_dim, input_length=max_length),\n",
        "    tf.keras.layers.Dropout(0.2),\n",
        "    tf.keras.layers.Conv1D(64, 5, activation='relu'),\n",
        "    tf.keras.layers.MaxPooling1D(pool_size=4),\n",
        "    tf.keras.layers.LSTM(64),\n",
        "    tf.keras.layers.Dense(61, activation='softmax')\n",
        "])\n",
        "model.compile(loss='sparse_categorical_crossentropy',optimizer='adam',metrics=['accuracy'])\n",
        "model.summary()"
      ],
      "execution_count": null,
      "outputs": [
        {
          "output_type": "stream",
          "text": [
            "Model: \"sequential\"\n",
            "_________________________________________________________________\n",
            "Layer (type)                 Output Shape              Param #   \n",
            "=================================================================\n",
            "embedding (Embedding)        (None, 120, 16)           432       \n",
            "_________________________________________________________________\n",
            "dropout (Dropout)            (None, 120, 16)           0         \n",
            "_________________________________________________________________\n",
            "conv1d (Conv1D)              (None, 116, 64)           5184      \n",
            "_________________________________________________________________\n",
            "max_pooling1d (MaxPooling1D) (None, 29, 64)            0         \n",
            "_________________________________________________________________\n",
            "lstm (LSTM)                  (None, 64)                33024     \n",
            "_________________________________________________________________\n",
            "dense (Dense)                (None, 61)                3965      \n",
            "=================================================================\n",
            "Total params: 42,605\n",
            "Trainable params: 42,605\n",
            "Non-trainable params: 0\n",
            "_________________________________________________________________\n"
          ],
          "name": "stdout"
        }
      ]
    },
    {
      "cell_type": "code",
      "metadata": {
        "colab": {
          "base_uri": "https://localhost:8080/"
        },
        "id": "e-Vm0NcbQyWi",
        "outputId": "18c65fff-6dbe-41d3-94c3-86598e9afa3f"
      },
      "source": [
        "# Training for 100 epochs\n",
        "\n",
        "num_epochs = 100\n",
        "history = model.fit(train_padded,\n",
        "                    training_label_seq,\n",
        "                    validation_data=(validation_padded, validation_label_seq),\n",
        "                    verbose=2,\n",
        "                    epochs=num_epochs)"
      ],
      "execution_count": null,
      "outputs": [
        {
          "output_type": "stream",
          "text": [
            "Epoch 1/100\n",
            "82/82 - 5s - loss: 3.3477 - accuracy: 0.1947 - val_loss: 3.0596 - val_accuracy: 0.2000\n",
            "Epoch 2/100\n",
            "82/82 - 2s - loss: 3.0344 - accuracy: 0.2043 - val_loss: 2.8704 - val_accuracy: 0.3310\n",
            "Epoch 3/100\n",
            "82/82 - 2s - loss: 2.6065 - accuracy: 0.3749 - val_loss: 2.3048 - val_accuracy: 0.4241\n",
            "Epoch 4/100\n",
            "82/82 - 2s - loss: 2.1671 - accuracy: 0.4596 - val_loss: 1.9538 - val_accuracy: 0.4793\n",
            "Epoch 5/100\n",
            "82/82 - 2s - loss: 1.8932 - accuracy: 0.5105 - val_loss: 1.7559 - val_accuracy: 0.5379\n",
            "Epoch 6/100\n",
            "82/82 - 2s - loss: 1.7285 - accuracy: 0.5427 - val_loss: 1.6288 - val_accuracy: 0.5690\n",
            "Epoch 7/100\n",
            "82/82 - 2s - loss: 1.6132 - accuracy: 0.5650 - val_loss: 1.5521 - val_accuracy: 0.5931\n",
            "Epoch 8/100\n",
            "82/82 - 2s - loss: 1.5207 - accuracy: 0.5914 - val_loss: 1.4653 - val_accuracy: 0.5862\n",
            "Epoch 9/100\n",
            "82/82 - 2s - loss: 1.4416 - accuracy: 0.6090 - val_loss: 1.3909 - val_accuracy: 0.6069\n",
            "Epoch 10/100\n",
            "82/82 - 2s - loss: 1.3711 - accuracy: 0.6232 - val_loss: 1.3218 - val_accuracy: 0.6310\n",
            "Epoch 11/100\n",
            "82/82 - 2s - loss: 1.2865 - accuracy: 0.6451 - val_loss: 1.2617 - val_accuracy: 0.6172\n",
            "Epoch 12/100\n",
            "82/82 - 2s - loss: 1.2048 - accuracy: 0.6677 - val_loss: 1.1858 - val_accuracy: 0.6586\n",
            "Epoch 13/100\n",
            "82/82 - 2s - loss: 1.1223 - accuracy: 0.6880 - val_loss: 1.0909 - val_accuracy: 0.7069\n",
            "Epoch 14/100\n",
            "82/82 - 2s - loss: 1.0434 - accuracy: 0.7332 - val_loss: 1.0055 - val_accuracy: 0.7379\n",
            "Epoch 15/100\n",
            "82/82 - 2s - loss: 0.9665 - accuracy: 0.7535 - val_loss: 0.9479 - val_accuracy: 0.7621\n",
            "Epoch 16/100\n",
            "82/82 - 2s - loss: 0.8910 - accuracy: 0.7754 - val_loss: 0.8823 - val_accuracy: 0.7897\n",
            "Epoch 17/100\n",
            "82/82 - 2s - loss: 0.8249 - accuracy: 0.7984 - val_loss: 0.8318 - val_accuracy: 0.7897\n",
            "Epoch 18/100\n",
            "82/82 - 2s - loss: 0.7795 - accuracy: 0.8045 - val_loss: 0.7887 - val_accuracy: 0.8103\n",
            "Epoch 19/100\n",
            "82/82 - 2s - loss: 0.7429 - accuracy: 0.8176 - val_loss: 0.7375 - val_accuracy: 0.8034\n",
            "Epoch 20/100\n",
            "82/82 - 2s - loss: 0.6996 - accuracy: 0.8241 - val_loss: 0.7107 - val_accuracy: 0.8069\n",
            "Epoch 21/100\n",
            "82/82 - 2s - loss: 0.6565 - accuracy: 0.8444 - val_loss: 0.6777 - val_accuracy: 0.8172\n",
            "Epoch 22/100\n",
            "82/82 - 2s - loss: 0.6223 - accuracy: 0.8455 - val_loss: 0.6334 - val_accuracy: 0.8345\n",
            "Epoch 23/100\n",
            "82/82 - 2s - loss: 0.5897 - accuracy: 0.8532 - val_loss: 0.6091 - val_accuracy: 0.8448\n",
            "Epoch 24/100\n",
            "82/82 - 2s - loss: 0.5515 - accuracy: 0.8708 - val_loss: 0.5772 - val_accuracy: 0.8586\n",
            "Epoch 25/100\n",
            "82/82 - 2s - loss: 0.5277 - accuracy: 0.8739 - val_loss: 0.5541 - val_accuracy: 0.8621\n",
            "Epoch 26/100\n",
            "82/82 - 2s - loss: 0.5015 - accuracy: 0.8716 - val_loss: 0.5326 - val_accuracy: 0.8517\n",
            "Epoch 27/100\n",
            "82/82 - 2s - loss: 0.4801 - accuracy: 0.8816 - val_loss: 0.5013 - val_accuracy: 0.8690\n",
            "Epoch 28/100\n",
            "82/82 - 2s - loss: 0.4590 - accuracy: 0.8881 - val_loss: 0.4891 - val_accuracy: 0.8759\n",
            "Epoch 29/100\n",
            "82/82 - 2s - loss: 0.4414 - accuracy: 0.8915 - val_loss: 0.4725 - val_accuracy: 0.8793\n",
            "Epoch 30/100\n",
            "82/82 - 2s - loss: 0.4081 - accuracy: 0.9034 - val_loss: 0.4526 - val_accuracy: 0.8828\n",
            "Epoch 31/100\n",
            "82/82 - 2s - loss: 0.3786 - accuracy: 0.9088 - val_loss: 0.4424 - val_accuracy: 0.8793\n",
            "Epoch 32/100\n",
            "82/82 - 2s - loss: 0.3850 - accuracy: 0.9092 - val_loss: 0.4209 - val_accuracy: 0.8897\n",
            "Epoch 33/100\n",
            "82/82 - 2s - loss: 0.3534 - accuracy: 0.9164 - val_loss: 0.4084 - val_accuracy: 0.8793\n",
            "Epoch 34/100\n",
            "82/82 - 2s - loss: 0.3396 - accuracy: 0.9207 - val_loss: 0.3823 - val_accuracy: 0.8931\n",
            "Epoch 35/100\n",
            "82/82 - 2s - loss: 0.3341 - accuracy: 0.9260 - val_loss: 0.3714 - val_accuracy: 0.8931\n",
            "Epoch 36/100\n",
            "82/82 - 2s - loss: 0.3154 - accuracy: 0.9306 - val_loss: 0.3620 - val_accuracy: 0.8966\n",
            "Epoch 37/100\n",
            "82/82 - 2s - loss: 0.2915 - accuracy: 0.9341 - val_loss: 0.3564 - val_accuracy: 0.9069\n",
            "Epoch 38/100\n",
            "82/82 - 2s - loss: 0.2847 - accuracy: 0.9368 - val_loss: 0.3444 - val_accuracy: 0.8966\n",
            "Epoch 39/100\n",
            "82/82 - 2s - loss: 0.2776 - accuracy: 0.9364 - val_loss: 0.3482 - val_accuracy: 0.9000\n",
            "Epoch 40/100\n",
            "82/82 - 2s - loss: 0.2660 - accuracy: 0.9425 - val_loss: 0.3430 - val_accuracy: 0.9172\n",
            "Epoch 41/100\n",
            "82/82 - 2s - loss: 0.2656 - accuracy: 0.9402 - val_loss: 0.3176 - val_accuracy: 0.9207\n",
            "Epoch 42/100\n",
            "82/82 - 2s - loss: 0.2508 - accuracy: 0.9433 - val_loss: 0.3379 - val_accuracy: 0.9069\n",
            "Epoch 43/100\n",
            "82/82 - 2s - loss: 0.2415 - accuracy: 0.9433 - val_loss: 0.3191 - val_accuracy: 0.9103\n",
            "Epoch 44/100\n",
            "82/82 - 2s - loss: 0.2211 - accuracy: 0.9513 - val_loss: 0.3042 - val_accuracy: 0.9138\n",
            "Epoch 45/100\n",
            "82/82 - 2s - loss: 0.2192 - accuracy: 0.9440 - val_loss: 0.2981 - val_accuracy: 0.9207\n",
            "Epoch 46/100\n",
            "82/82 - 2s - loss: 0.2140 - accuracy: 0.9536 - val_loss: 0.2932 - val_accuracy: 0.9241\n",
            "Epoch 47/100\n",
            "82/82 - 2s - loss: 0.2015 - accuracy: 0.9525 - val_loss: 0.2912 - val_accuracy: 0.9172\n",
            "Epoch 48/100\n",
            "82/82 - 2s - loss: 0.1967 - accuracy: 0.9536 - val_loss: 0.2896 - val_accuracy: 0.9207\n",
            "Epoch 49/100\n",
            "82/82 - 2s - loss: 0.1867 - accuracy: 0.9601 - val_loss: 0.2785 - val_accuracy: 0.9345\n",
            "Epoch 50/100\n",
            "82/82 - 2s - loss: 0.1852 - accuracy: 0.9578 - val_loss: 0.2699 - val_accuracy: 0.9241\n",
            "Epoch 51/100\n",
            "82/82 - 2s - loss: 0.1778 - accuracy: 0.9624 - val_loss: 0.2738 - val_accuracy: 0.9172\n",
            "Epoch 52/100\n",
            "82/82 - 2s - loss: 0.1693 - accuracy: 0.9636 - val_loss: 0.2594 - val_accuracy: 0.9276\n",
            "Epoch 53/100\n",
            "82/82 - 2s - loss: 0.1613 - accuracy: 0.9628 - val_loss: 0.2555 - val_accuracy: 0.9345\n",
            "Epoch 54/100\n",
            "82/82 - 2s - loss: 0.1500 - accuracy: 0.9678 - val_loss: 0.2577 - val_accuracy: 0.9379\n",
            "Epoch 55/100\n",
            "82/82 - 2s - loss: 0.1538 - accuracy: 0.9693 - val_loss: 0.2533 - val_accuracy: 0.9345\n",
            "Epoch 56/100\n",
            "82/82 - 2s - loss: 0.1503 - accuracy: 0.9651 - val_loss: 0.2434 - val_accuracy: 0.9345\n",
            "Epoch 57/100\n",
            "82/82 - 2s - loss: 0.1421 - accuracy: 0.9697 - val_loss: 0.2348 - val_accuracy: 0.9345\n",
            "Epoch 58/100\n",
            "82/82 - 2s - loss: 0.1413 - accuracy: 0.9663 - val_loss: 0.2506 - val_accuracy: 0.9172\n",
            "Epoch 59/100\n",
            "82/82 - 2s - loss: 0.1336 - accuracy: 0.9709 - val_loss: 0.2361 - val_accuracy: 0.9276\n",
            "Epoch 60/100\n",
            "82/82 - 2s - loss: 0.1301 - accuracy: 0.9701 - val_loss: 0.2226 - val_accuracy: 0.9276\n",
            "Epoch 61/100\n",
            "82/82 - 2s - loss: 0.1222 - accuracy: 0.9739 - val_loss: 0.2236 - val_accuracy: 0.9414\n",
            "Epoch 62/100\n",
            "82/82 - 2s - loss: 0.1244 - accuracy: 0.9713 - val_loss: 0.2247 - val_accuracy: 0.9379\n",
            "Epoch 63/100\n",
            "82/82 - 2s - loss: 0.1125 - accuracy: 0.9739 - val_loss: 0.2227 - val_accuracy: 0.9379\n",
            "Epoch 64/100\n",
            "82/82 - 2s - loss: 0.1159 - accuracy: 0.9770 - val_loss: 0.2121 - val_accuracy: 0.9448\n",
            "Epoch 65/100\n",
            "82/82 - 2s - loss: 0.1135 - accuracy: 0.9751 - val_loss: 0.2076 - val_accuracy: 0.9483\n",
            "Epoch 66/100\n",
            "82/82 - 2s - loss: 0.1036 - accuracy: 0.9785 - val_loss: 0.2046 - val_accuracy: 0.9483\n",
            "Epoch 67/100\n",
            "82/82 - 2s - loss: 0.0930 - accuracy: 0.9854 - val_loss: 0.2043 - val_accuracy: 0.9414\n",
            "Epoch 68/100\n",
            "82/82 - 2s - loss: 0.0973 - accuracy: 0.9801 - val_loss: 0.2128 - val_accuracy: 0.9345\n",
            "Epoch 69/100\n",
            "82/82 - 2s - loss: 0.0952 - accuracy: 0.9793 - val_loss: 0.2158 - val_accuracy: 0.9345\n",
            "Epoch 70/100\n",
            "82/82 - 2s - loss: 0.1010 - accuracy: 0.9785 - val_loss: 0.2166 - val_accuracy: 0.9276\n",
            "Epoch 71/100\n",
            "82/82 - 2s - loss: 0.0916 - accuracy: 0.9808 - val_loss: 0.2126 - val_accuracy: 0.9276\n",
            "Epoch 72/100\n",
            "82/82 - 2s - loss: 0.0933 - accuracy: 0.9839 - val_loss: 0.1961 - val_accuracy: 0.9414\n",
            "Epoch 73/100\n",
            "82/82 - 2s - loss: 0.0892 - accuracy: 0.9843 - val_loss: 0.2008 - val_accuracy: 0.9345\n",
            "Epoch 74/100\n",
            "82/82 - 2s - loss: 0.0821 - accuracy: 0.9843 - val_loss: 0.2029 - val_accuracy: 0.9414\n",
            "Epoch 75/100\n",
            "82/82 - 2s - loss: 0.0844 - accuracy: 0.9843 - val_loss: 0.1967 - val_accuracy: 0.9414\n",
            "Epoch 76/100\n",
            "82/82 - 2s - loss: 0.0868 - accuracy: 0.9839 - val_loss: 0.1962 - val_accuracy: 0.9552\n",
            "Epoch 77/100\n",
            "82/82 - 2s - loss: 0.0786 - accuracy: 0.9843 - val_loss: 0.2078 - val_accuracy: 0.9379\n",
            "Epoch 78/100\n",
            "82/82 - 2s - loss: 0.0738 - accuracy: 0.9858 - val_loss: 0.1806 - val_accuracy: 0.9552\n",
            "Epoch 79/100\n",
            "82/82 - 2s - loss: 0.0736 - accuracy: 0.9866 - val_loss: 0.1877 - val_accuracy: 0.9379\n",
            "Epoch 80/100\n",
            "82/82 - 2s - loss: 0.0752 - accuracy: 0.9851 - val_loss: 0.1851 - val_accuracy: 0.9483\n",
            "Epoch 81/100\n",
            "82/82 - 2s - loss: 0.0729 - accuracy: 0.9858 - val_loss: 0.1886 - val_accuracy: 0.9483\n",
            "Epoch 82/100\n",
            "82/82 - 2s - loss: 0.0665 - accuracy: 0.9874 - val_loss: 0.2246 - val_accuracy: 0.9241\n",
            "Epoch 83/100\n",
            "82/82 - 2s - loss: 0.0700 - accuracy: 0.9877 - val_loss: 0.2048 - val_accuracy: 0.9379\n",
            "Epoch 84/100\n",
            "82/82 - 2s - loss: 0.0710 - accuracy: 0.9854 - val_loss: 0.2035 - val_accuracy: 0.9414\n",
            "Epoch 85/100\n",
            "82/82 - 2s - loss: 0.0784 - accuracy: 0.9847 - val_loss: 0.2033 - val_accuracy: 0.9379\n",
            "Epoch 86/100\n",
            "82/82 - 2s - loss: 0.0617 - accuracy: 0.9877 - val_loss: 0.1865 - val_accuracy: 0.9448\n",
            "Epoch 87/100\n",
            "82/82 - 2s - loss: 0.0545 - accuracy: 0.9877 - val_loss: 0.1847 - val_accuracy: 0.9414\n",
            "Epoch 88/100\n",
            "82/82 - 2s - loss: 0.0604 - accuracy: 0.9866 - val_loss: 0.1874 - val_accuracy: 0.9414\n",
            "Epoch 89/100\n",
            "82/82 - 2s - loss: 0.0605 - accuracy: 0.9881 - val_loss: 0.1906 - val_accuracy: 0.9448\n",
            "Epoch 90/100\n",
            "82/82 - 2s - loss: 0.0616 - accuracy: 0.9862 - val_loss: 0.2023 - val_accuracy: 0.9241\n",
            "Epoch 91/100\n",
            "82/82 - 2s - loss: 0.0597 - accuracy: 0.9881 - val_loss: 0.1698 - val_accuracy: 0.9483\n",
            "Epoch 92/100\n",
            "82/82 - 2s - loss: 0.0507 - accuracy: 0.9931 - val_loss: 0.2035 - val_accuracy: 0.9379\n",
            "Epoch 93/100\n",
            "82/82 - 2s - loss: 0.0541 - accuracy: 0.9870 - val_loss: 0.1676 - val_accuracy: 0.9345\n",
            "Epoch 94/100\n",
            "82/82 - 2s - loss: 0.0549 - accuracy: 0.9870 - val_loss: 0.1603 - val_accuracy: 0.9483\n",
            "Epoch 95/100\n",
            "82/82 - 2s - loss: 0.0510 - accuracy: 0.9923 - val_loss: 0.2076 - val_accuracy: 0.9414\n",
            "Epoch 96/100\n",
            "82/82 - 2s - loss: 0.0515 - accuracy: 0.9897 - val_loss: 0.1677 - val_accuracy: 0.9517\n",
            "Epoch 97/100\n",
            "82/82 - 2s - loss: 0.0542 - accuracy: 0.9870 - val_loss: 0.1588 - val_accuracy: 0.9517\n",
            "Epoch 98/100\n",
            "82/82 - 2s - loss: 0.0472 - accuracy: 0.9900 - val_loss: 0.1943 - val_accuracy: 0.9448\n",
            "Epoch 99/100\n",
            "82/82 - 2s - loss: 0.0486 - accuracy: 0.9912 - val_loss: 0.1891 - val_accuracy: 0.9448\n",
            "Epoch 100/100\n",
            "82/82 - 2s - loss: 0.0457 - accuracy: 0.9908 - val_loss: 0.1724 - val_accuracy: 0.9414\n"
          ],
          "name": "stdout"
        }
      ]
    },
    {
      "cell_type": "code",
      "metadata": {
        "colab": {
          "base_uri": "https://localhost:8080/",
          "height": 553
        },
        "id": "4HgwY6qtQ4qc",
        "outputId": "d716edfe-42c5-493f-872a-c462dd593411"
      },
      "source": [
        "# Plot before\n",
        "\n",
        "def plot_graphs(history, string):\n",
        "  plt.plot(history.history[string])\n",
        "  plt.plot(history.history['val_'+string])\n",
        "  plt.xlabel(\"Epochs\")\n",
        "  plt.ylabel(string)\n",
        "  plt.legend([string, 'val_'+string])\n",
        "  plt.show()\n",
        "  \n",
        "plot_graphs(history, \"accuracy\")\n",
        "plot_graphs(history, \"loss\")"
      ],
      "execution_count": null,
      "outputs": [
        {
          "output_type": "display_data",
          "data": {
            "image/png": "[encoded data removed]",
            "text/plain": [
              "<Figure size 432x288 with 1 Axes>"
            ]
          },
          "metadata": {
            "tags": []
          }
        },
        {
          "output_type": "display_data",
          "data": {
            "image/png": "[encoded data removed]",
            "text/plain": [
              "<Figure size 432x288 with 1 Axes>"
            ]
          },
          "metadata": {
            "tags": []
          }
        }
      ]
    },
    {
      "cell_type": "code",
      "metadata": {
        "colab": {
          "base_uri": "https://localhost:8080/",
          "height": 556
        },
        "id": "kAVX7P5ATBFB",
        "outputId": "fe28f637-b0aa-4a16-a581-3ea9d1a2c2d6"
      },
      "source": [
        "# plot after\n",
        "\n",
        "def plot_graphs(history, string):\n",
        "  plt.plot(history.history[string])\n",
        "  plt.plot(history.history['val_'+string])\n",
        "  plt.xlabel(\"Epochs\")\n",
        "  plt.ylabel(string)\n",
        "  plt.legend([string, 'val_'+string])\n",
        "  plt.show()\n",
        "\n",
        "plot_graphs(history, \"accuracy\")\n",
        "plot_graphs(history, \"loss\")"
      ],
      "execution_count": null,
      "outputs": [
        {
          "output_type": "display_data",
          "data": {
            "image/png": "[encoded data removed]",
            "text/plain": [
              "<Figure size 432x288 with 1 Axes>"
            ]
          },
          "metadata": {
            "tags": []
          }
        },
        {
          "output_type": "display_data",
          "data": {
            "image/png": "[encoded data removed]",
            "text/plain": [
              "<Figure size 432x288 with 1 Axes>"
            ]
          },
          "metadata": {
            "tags": []
          }
        }
      ]
    },
    {
      "cell_type": "code",
      "metadata": {
        "colab": {
          "base_uri": "https://localhost:8080/",
          "height": 17
        },
        "id": "e0GMjkAVVd_E",
        "outputId": "d203d8de-1cc7-4cc1-8433-837c30287e75"
      },
      "source": [
        "# Make the vecs and meta for embedding projector\n",
        "\n",
        "reverse_word_index = dict([(value, key) for (key, value) in word_index.items()])\n",
        "\n",
        "def decode_sentence(text):\n",
        "    return ' '.join([reverse_word_index.get(i, '?') for i in text])\n",
        "\n",
        "e = model.layers[0]\n",
        "weights = e.get_weights()[0]\n",
        "# print(weights.shape) => shape: (vocab_size, embedding_dim)\n",
        "\n",
        "import io\n",
        "\n",
        "out_v = io.open('vecs.tsv', 'w', encoding='utf-8')\n",
        "out_m = io.open('meta.tsv', 'w', encoding='utf-8')\n",
        "for word_num in range(1, vocab_size):\n",
        "  word = reverse_word_index[word_num]\n",
        "  embeddings = weights[word_num]\n",
        "  out_m.write(word + \"\\n\")\n",
        "  out_v.write('\\t'.join([str(x) for x in embeddings]) + \"\\n\")\n",
        "out_v.close()\n",
        "out_m.close()\n",
        "\n",
        "try:\n",
        "  from google.colab import files\n",
        "except ImportError:\n",
        "  pass\n",
        "else:\n",
        "  files.download('vecs.tsv')\n",
        "  files.download('meta.tsv')"
      ],
      "execution_count": null,
      "outputs": [
        {
          "output_type": "display_data",
          "data": {
            "application/javascript": [
              "\n",
              "    async function download(id, filename, size) {\n",
              "      if (!google.colab.kernel.accessAllowed) {\n",
              "        return;\n",
              "      }\n",
              "      const div = document.createElement('div');\n",
              "      const label = document.createElement('label');\n",
              "      label.textContent = `Downloading \"${filename}\": `;\n",
              "      div.appendChild(label);\n",
              "      const progress = document.createElement('progress');\n",
              "      progress.max = size;\n",
              "      div.appendChild(progress);\n",
              "      document.body.appendChild(div);\n",
              "\n",
              "      const buffers = [];\n",
              "      let downloaded = 0;\n",
              "\n",
              "      const channel = await google.colab.kernel.comms.open(id);\n",
              "      // Send a message to notify the kernel that we're ready.\n",
              "      channel.send({})\n",
              "\n",
              "      for await (const message of channel.messages) {\n",
              "        // Send a message to notify the kernel that we're ready.\n",
              "        channel.send({})\n",
              "        if (message.buffers) {\n",
              "          for (const buffer of message.buffers) {\n",
              "            buffers.push(buffer);\n",
              "            downloaded += buffer.byteLength;\n",
              "            progress.value = downloaded;\n",
              "          }\n",
              "        }\n",
              "      }\n",
              "      const blob = new Blob(buffers, {type: 'application/binary'});\n",
              "      const a = document.createElement('a');\n",
              "      a.href = window.URL.createObjectURL(blob);\n",
              "      a.download = filename;\n",
              "      div.appendChild(a);\n",
              "      a.click();\n",
              "      div.remove();\n",
              "    }\n",
              "  "
            ],
            "text/plain": [
              "<IPython.core.display.Javascript object>"
            ]
          },
          "metadata": {
            "tags": []
          }
        },
        {
          "output_type": "display_data",
          "data": {
            "application/javascript": [
              "download(\"download_dc3b3d90-dcb8-4877-bb58-366da1ec610a\", \"vecs.tsv\", 4947)"
            ],
            "text/plain": [
              "<IPython.core.display.Javascript object>"
            ]
          },
          "metadata": {
            "tags": []
          }
        },
        {
          "output_type": "display_data",
          "data": {
            "application/javascript": [
              "\n",
              "    async function download(id, filename, size) {\n",
              "      if (!google.colab.kernel.accessAllowed) {\n",
              "        return;\n",
              "      }\n",
              "      const div = document.createElement('div');\n",
              "      const label = document.createElement('label');\n",
              "      label.textContent = `Downloading \"${filename}\": `;\n",
              "      div.appendChild(label);\n",
              "      const progress = document.createElement('progress');\n",
              "      progress.max = size;\n",
              "      div.appendChild(progress);\n",
              "      document.body.appendChild(div);\n",
              "\n",
              "      const buffers = [];\n",
              "      let downloaded = 0;\n",
              "\n",
              "      const channel = await google.colab.kernel.comms.open(id);\n",
              "      // Send a message to notify the kernel that we're ready.\n",
              "      channel.send({})\n",
              "\n",
              "      for await (const message of channel.messages) {\n",
              "        // Send a message to notify the kernel that we're ready.\n",
              "        channel.send({})\n",
              "        if (message.buffers) {\n",
              "          for (const buffer of message.buffers) {\n",
              "            buffers.push(buffer);\n",
              "            downloaded += buffer.byteLength;\n",
              "            progress.value = downloaded;\n",
              "          }\n",
              "        }\n",
              "      }\n",
              "      const blob = new Blob(buffers, {type: 'application/binary'});\n",
              "      const a = document.createElement('a');\n",
              "      a.href = window.URL.createObjectURL(blob);\n",
              "      a.download = filename;\n",
              "      div.appendChild(a);\n",
              "      a.click();\n",
              "      div.remove();\n",
              "    }\n",
              "  "
            ],
            "text/plain": [
              "<IPython.core.display.Javascript object>"
            ]
          },
          "metadata": {
            "tags": []
          }
        },
        {
          "output_type": "display_data",
          "data": {
            "application/javascript": [
              "download(\"download_72ae18dd-a554-4240-8f94-49dee6a980b1\", \"meta.tsv\", 50)"
            ],
            "text/plain": [
              "<IPython.core.display.Javascript object>"
            ]
          },
          "metadata": {
            "tags": []
          }
        }
      ]
    },
    {
      "cell_type": "code",
      "metadata": {
        "colab": {
          "base_uri": "https://localhost:8080/"
        },
        "id": "-2dvB5yHVh8L",
        "outputId": "02d59431-e36f-42f9-a640-0a0ef043c5c4"
      },
      "source": [
        "# Testing the result\n",
        "\n",
        "def get_predicted_akhiran(text):\n",
        "  last_word = text.split(' ')[-1]\n",
        "  token_list = tokenizer.texts_to_sequences([last_word])[0]\n",
        "  print(token_list)\n",
        "  token_list = pad_sequences([token_list], padding='pre', maxlen=max_length)\n",
        "  print(token_list)\n",
        "  # predicted = model.predict(token_list).argmax(axis =1)\n",
        "  # reverse_word_map = dict(map(reversed, label_tokenizer.word_index.items()))\n",
        "\n",
        "  # return reverse_word_map[predicted[0]]\n",
        "\n",
        "print(\"PANTUN 1\")\n",
        "seed_text = \"Jalan-jalan ke Sumbawa\"\n",
        "print(seed_text)\n",
        "print(get_predicted_akhiran(seed_text))\n",
        "\n",
        "# seed_text = \"Duduk-duduk makan buah palem\"\n",
        "# print(seed_text)\n",
        "# print(get_predicted_akhiran(seed_text))\n",
        "\n",
        "# seed_text = \"Geli hati menahan tawa\"\n",
        "# print(seed_text)\n",
        "# print(get_predicted_akhiran(seed_text))\n",
        "\n",
        "# seed_text = \"Melihat tupai memakai helm\"\n",
        "# print(seed_text)\n",
        "# print(get_predicted_akhiran(seed_text))\n",
        "\n",
        "# print(\"\\nPANTUN 2\")\n",
        "# seed_text = \"jalan jalan ke balikpapan\"\n",
        "# print(seed_text)\n",
        "# print(get_predicted_akhiran(seed_text))\n",
        "\n",
        "# seed_text = \"pulang pulang bawa sepeda mini\"\n",
        "# print(seed_text)\n",
        "# print(get_predicted_akhiran(seed_text))\n",
        "\n",
        "# seed_text = \"Adik kakak merinding penasaran\"\n",
        "# print(seed_text)\n",
        "# print(get_predicted_akhiran(seed_text))\n",
        "\n",
        "# seed_text = \"menengok kura kura pakai bikini\"\n",
        "# print(seed_text)\n",
        "# print(get_predicted_akhiran(seed_text))\n",
        "\n",
        "# print(\"\\nPANTUN 3\")\n",
        "# seed_text = \"Batang mawar memang kaku\"\n",
        "# print(seed_text)\n",
        "# print(get_predicted_akhiran(seed_text))\n",
        "\n",
        "# seed_text = \"Tapi bunganya tetap terawat\"\n",
        "# print(seed_text)\n",
        "# print(get_predicted_akhiran(seed_text))\n",
        "\n",
        "# seed_text = \"Jangan ragu akan hatiku\"\n",
        "# print(seed_text)\n",
        "# print(get_predicted_akhiran(seed_text))\n",
        "\n",
        "# seed_text = \"Karena cintaku tanpa syarat\"\n",
        "# print(seed_text)\n",
        "# print(get_predicted_akhiran(seed_text))"
      ],
      "execution_count": null,
      "outputs": [
        {
          "output_type": "stream",
          "text": [
            "PANTUN 1\n",
            "Jalan-jalan ke Sumbawa\n",
            "[11, 5, 8, 13, 1, 21, 1]\n",
            "[[ 0  0  0  0  0  0  0  0  0  0  0  0  0  0  0  0  0  0  0  0  0  0  0  0\n",
            "   0  0  0  0  0  0  0  0  0  0  0  0  0  0  0  0  0  0  0  0  0  0  0  0\n",
            "   0  0  0  0  0  0  0  0  0  0  0  0  0  0  0  0  0  0  0  0  0  0  0  0\n",
            "   0  0  0  0  0  0  0  0  0  0  0  0  0  0  0  0  0  0  0  0  0  0  0  0\n",
            "   0  0  0  0  0  0  0  0  0  0  0  0  0  0  0  0  0 11  5  8 13  1 21  1]]\n",
            "None\n"
          ],
          "name": "stdout"
        }
      ]
    },
    {
      "cell_type": "code",
      "metadata": {
        "colab": {
          "base_uri": "https://localhost:8080/"
        },
        "id": "EvGH3bXvovHB",
        "outputId": "625f53ea-8c6d-438c-a20b-034692767b81"
      },
      "source": [
        "!pip install tensorflowjs"
      ],
      "execution_count": null,
      "outputs": [
        {
          "output_type": "stream",
          "text": [
            "Collecting tensorflowjs\n",
            "\u001b[?25l  Downloading https://files.pythonhosted.org/packages/76/c3/03871e607c055944561ce781cdb032f0d106fde904adf57ec3add11a4983/tensorflowjs-3.4.0-py3-none-any.whl (63kB)\n",
            "\u001b[K     |████████████████████████████████| 71kB 3.2MB/s \n",
            "\u001b[?25hRequirement already satisfied: tensorflow<3,>=2.1.0 in /usr/local/lib/python3.7/dist-packages (from tensorflowjs) (2.4.1)\n",
            "Collecting tensorflow-hub<0.10,>=0.7.0\n",
            "\u001b[?25l  Downloading https://files.pythonhosted.org/packages/ac/83/a7df82744a794107641dad1decaad017d82e25f0e1f761ac9204829eef96/tensorflow_hub-0.9.0-py2.py3-none-any.whl (103kB)\n",
            "\u001b[K     |████████████████████████████████| 112kB 7.4MB/s \n",
            "\u001b[?25hRequirement already satisfied: six<2,>=1.12.0 in /usr/local/lib/python3.7/dist-packages (from tensorflowjs) (1.15.0)\n",
            "Requirement already satisfied: h5py<3,>=2.8.0 in /usr/local/lib/python3.7/dist-packages (from tensorflowjs) (2.10.0)\n",
            "Requirement already satisfied: absl-py~=0.10 in /usr/local/lib/python3.7/dist-packages (from tensorflow<3,>=2.1.0->tensorflowjs) (0.12.0)\n",
            "Requirement already satisfied: astunparse~=1.6.3 in /usr/local/lib/python3.7/dist-packages (from tensorflow<3,>=2.1.0->tensorflowjs) (1.6.3)\n",
            "Requirement already satisfied: keras-preprocessing~=1.1.2 in /usr/local/lib/python3.7/dist-packages (from tensorflow<3,>=2.1.0->tensorflowjs) (1.1.2)\n",
            "Requirement already satisfied: grpcio~=1.32.0 in /usr/local/lib/python3.7/dist-packages (from tensorflow<3,>=2.1.0->tensorflowjs) (1.32.0)\n",
            "Requirement already satisfied: numpy~=1.19.2 in /usr/local/lib/python3.7/dist-packages (from tensorflow<3,>=2.1.0->tensorflowjs) (1.19.5)\n",
            "Requirement already satisfied: typing-extensions~=3.7.4 in /usr/local/lib/python3.7/dist-packages (from tensorflow<3,>=2.1.0->tensorflowjs) (3.7.4.3)\n",
            "Requirement already satisfied: wheel~=0.35 in /usr/local/lib/python3.7/dist-packages (from tensorflow<3,>=2.1.0->tensorflowjs) (0.36.2)\n",
            "Requirement already satisfied: gast==0.3.3 in /usr/local/lib/python3.7/dist-packages (from tensorflow<3,>=2.1.0->tensorflowjs) (0.3.3)\n",
            "Requirement already satisfied: tensorflow-estimator<2.5.0,>=2.4.0 in /usr/local/lib/python3.7/dist-packages (from tensorflow<3,>=2.1.0->tensorflowjs) (2.4.0)\n",
            "Requirement already satisfied: wrapt~=1.12.1 in /usr/local/lib/python3.7/dist-packages (from tensorflow<3,>=2.1.0->tensorflowjs) (1.12.1)\n",
            "Requirement already satisfied: termcolor~=1.1.0 in /usr/local/lib/python3.7/dist-packages (from tensorflow<3,>=2.1.0->tensorflowjs) (1.1.0)\n",
            "Requirement already satisfied: tensorboard~=2.4 in /usr/local/lib/python3.7/dist-packages (from tensorflow<3,>=2.1.0->tensorflowjs) (2.4.1)\n",
            "Requirement already satisfied: flatbuffers~=1.12.0 in /usr/local/lib/python3.7/dist-packages (from tensorflow<3,>=2.1.0->tensorflowjs) (1.12)\n",
            "Requirement already satisfied: opt-einsum~=3.3.0 in /usr/local/lib/python3.7/dist-packages (from tensorflow<3,>=2.1.0->tensorflowjs) (3.3.0)\n",
            "Requirement already satisfied: protobuf>=3.9.2 in /usr/local/lib/python3.7/dist-packages (from tensorflow<3,>=2.1.0->tensorflowjs) (3.12.4)\n",
            "Requirement already satisfied: google-pasta~=0.2 in /usr/local/lib/python3.7/dist-packages (from tensorflow<3,>=2.1.0->tensorflowjs) (0.2.0)\n",
            "Requirement already satisfied: setuptools>=41.0.0 in /usr/local/lib/python3.7/dist-packages (from tensorboard~=2.4->tensorflow<3,>=2.1.0->tensorflowjs) (54.2.0)\n",
            "Requirement already satisfied: werkzeug>=0.11.15 in /usr/local/lib/python3.7/dist-packages (from tensorboard~=2.4->tensorflow<3,>=2.1.0->tensorflowjs) (1.0.1)\n",
            "Requirement already satisfied: google-auth<2,>=1.6.3 in /usr/local/lib/python3.7/dist-packages (from tensorboard~=2.4->tensorflow<3,>=2.1.0->tensorflowjs) (1.28.1)\n",
            "Requirement already satisfied: requests<3,>=2.21.0 in /usr/local/lib/python3.7/dist-packages (from tensorboard~=2.4->tensorflow<3,>=2.1.0->tensorflowjs) (2.23.0)\n",
            "Requirement already satisfied: google-auth-oauthlib<0.5,>=0.4.1 in /usr/local/lib/python3.7/dist-packages (from tensorboard~=2.4->tensorflow<3,>=2.1.0->tensorflowjs) (0.4.4)\n",
            "Requirement already satisfied: tensorboard-plugin-wit>=1.6.0 in /usr/local/lib/python3.7/dist-packages (from tensorboard~=2.4->tensorflow<3,>=2.1.0->tensorflowjs) (1.8.0)\n",
            "Requirement already satisfied: markdown>=2.6.8 in /usr/local/lib/python3.7/dist-packages (from tensorboard~=2.4->tensorflow<3,>=2.1.0->tensorflowjs) (3.3.4)\n",
            "Requirement already satisfied: cachetools<5.0,>=2.0.0 in /usr/local/lib/python3.7/dist-packages (from google-auth<2,>=1.6.3->tensorboard~=2.4->tensorflow<3,>=2.1.0->tensorflowjs) (4.2.1)\n",
            "Requirement already satisfied: rsa<5,>=3.1.4; python_version >= \"3.6\" in /usr/local/lib/python3.7/dist-packages (from google-auth<2,>=1.6.3->tensorboard~=2.4->tensorflow<3,>=2.1.0->tensorflowjs) (4.7.2)\n",
            "Requirement already satisfied: pyasn1-modules>=0.2.1 in /usr/local/lib/python3.7/dist-packages (from google-auth<2,>=1.6.3->tensorboard~=2.4->tensorflow<3,>=2.1.0->tensorflowjs) (0.2.8)\n",
            "Requirement already satisfied: urllib3!=1.25.0,!=1.25.1,<1.26,>=1.21.1 in /usr/local/lib/python3.7/dist-packages (from requests<3,>=2.21.0->tensorboard~=2.4->tensorflow<3,>=2.1.0->tensorflowjs) (1.24.3)\n",
            "Requirement already satisfied: idna<3,>=2.5 in /usr/local/lib/python3.7/dist-packages (from requests<3,>=2.21.0->tensorboard~=2.4->tensorflow<3,>=2.1.0->tensorflowjs) (2.10)\n",
            "Requirement already satisfied: chardet<4,>=3.0.2 in /usr/local/lib/python3.7/dist-packages (from requests<3,>=2.21.0->tensorboard~=2.4->tensorflow<3,>=2.1.0->tensorflowjs) (3.0.4)\n",
            "Requirement already satisfied: certifi>=2017.4.17 in /usr/local/lib/python3.7/dist-packages (from requests<3,>=2.21.0->tensorboard~=2.4->tensorflow<3,>=2.1.0->tensorflowjs) (2020.12.5)\n",
            "Requirement already satisfied: requests-oauthlib>=0.7.0 in /usr/local/lib/python3.7/dist-packages (from google-auth-oauthlib<0.5,>=0.4.1->tensorboard~=2.4->tensorflow<3,>=2.1.0->tensorflowjs) (1.3.0)\n",
            "Requirement already satisfied: importlib-metadata; python_version < \"3.8\" in /usr/local/lib/python3.7/dist-packages (from markdown>=2.6.8->tensorboard~=2.4->tensorflow<3,>=2.1.0->tensorflowjs) (3.10.1)\n",
            "Requirement already satisfied: pyasn1>=0.1.3 in /usr/local/lib/python3.7/dist-packages (from rsa<5,>=3.1.4; python_version >= \"3.6\"->google-auth<2,>=1.6.3->tensorboard~=2.4->tensorflow<3,>=2.1.0->tensorflowjs) (0.4.8)\n",
            "Requirement already satisfied: oauthlib>=3.0.0 in /usr/local/lib/python3.7/dist-packages (from requests-oauthlib>=0.7.0->google-auth-oauthlib<0.5,>=0.4.1->tensorboard~=2.4->tensorflow<3,>=2.1.0->tensorflowjs) (3.1.0)\n",
            "Requirement already satisfied: zipp>=0.5 in /usr/local/lib/python3.7/dist-packages (from importlib-metadata; python_version < \"3.8\"->markdown>=2.6.8->tensorboard~=2.4->tensorflow<3,>=2.1.0->tensorflowjs) (3.4.1)\n",
            "Installing collected packages: tensorflow-hub, tensorflowjs\n",
            "  Found existing installation: tensorflow-hub 0.12.0\n",
            "    Uninstalling tensorflow-hub-0.12.0:\n",
            "      Successfully uninstalled tensorflow-hub-0.12.0\n",
            "Successfully installed tensorflow-hub-0.9.0 tensorflowjs-3.4.0\n"
          ],
          "name": "stdout"
        }
      ]
    },
    {
      "cell_type": "code",
      "metadata": {
        "id": "irVqWQsWWefb"
      },
      "source": [
        "# SAVE VERSION 1\n",
        "\n",
        "import tensorflowjs as tfjs\n",
        "import json\n",
        "\n",
        "def save_model(model, tokenizer, labTokenizer):\n",
        "  model.save('rhyme_classification.h5')\n",
        "  tfjs.converters.save_keras_model(model, 'gdrive/MyDrive/rhymetfjs')\n",
        "  with open( 'word_dict.json' , 'w' ) as file:    \n",
        "      json.dump(tokenizer.word_index , file)\n",
        "  with open( 'word_dict_label.json' , 'w' ) as file:    \n",
        "      json.dump(labTokenizer.word_index , file)\n",
        "\n",
        "save_model(model, tokenizer, label_tokenizer)"
      ],
      "execution_count": null,
      "outputs": []
    },
    {
      "cell_type": "code",
      "metadata": {
        "colab": {
          "base_uri": "https://localhost:8080/"
        },
        "id": "u9-SVZbbs6BJ",
        "outputId": "d6362d74-8053-4c4d-d196-5a754796a901"
      },
      "source": [
        "!zip -r rhyme.zip rhyme_classification.h5"
      ],
      "execution_count": null,
      "outputs": [
        {
          "output_type": "stream",
          "text": [
            "  adding: rhyme_classification.h5 (deflated 12%)\n"
          ],
          "name": "stdout"
        }
      ]
    },
    {
      "cell_type": "code",
      "metadata": {
        "colab": {
          "base_uri": "https://localhost:8080/",
          "height": 17
        },
        "id": "mqayaM31taap",
        "outputId": "b9af5b30-6c79-4692-d098-40b3b5449335"
      },
      "source": [
        "from google.colab import files\n",
        "files.download(\"rhyme.zip\")"
      ],
      "execution_count": null,
      "outputs": [
        {
          "output_type": "display_data",
          "data": {
            "application/javascript": [
              "\n",
              "    async function download(id, filename, size) {\n",
              "      if (!google.colab.kernel.accessAllowed) {\n",
              "        return;\n",
              "      }\n",
              "      const div = document.createElement('div');\n",
              "      const label = document.createElement('label');\n",
              "      label.textContent = `Downloading \"${filename}\": `;\n",
              "      div.appendChild(label);\n",
              "      const progress = document.createElement('progress');\n",
              "      progress.max = size;\n",
              "      div.appendChild(progress);\n",
              "      document.body.appendChild(div);\n",
              "\n",
              "      const buffers = [];\n",
              "      let downloaded = 0;\n",
              "\n",
              "      const channel = await google.colab.kernel.comms.open(id);\n",
              "      // Send a message to notify the kernel that we're ready.\n",
              "      channel.send({})\n",
              "\n",
              "      for await (const message of channel.messages) {\n",
              "        // Send a message to notify the kernel that we're ready.\n",
              "        channel.send({})\n",
              "        if (message.buffers) {\n",
              "          for (const buffer of message.buffers) {\n",
              "            buffers.push(buffer);\n",
              "            downloaded += buffer.byteLength;\n",
              "            progress.value = downloaded;\n",
              "          }\n",
              "        }\n",
              "      }\n",
              "      const blob = new Blob(buffers, {type: 'application/binary'});\n",
              "      const a = document.createElement('a');\n",
              "      a.href = window.URL.createObjectURL(blob);\n",
              "      a.download = filename;\n",
              "      div.appendChild(a);\n",
              "      a.click();\n",
              "      div.remove();\n",
              "    }\n",
              "  "
            ],
            "text/plain": [
              "<IPython.core.display.Javascript object>"
            ]
          },
          "metadata": {
            "tags": []
          }
        },
        {
          "output_type": "display_data",
          "data": {
            "application/javascript": [
              "download(\"download_bac91ab8-ed86-49e0-a2a2-1e16c88f4ac1\", \"rhyme.zip\", 489228)"
            ],
            "text/plain": [
              "<IPython.core.display.Javascript object>"
            ]
          },
          "metadata": {
            "tags": []
          }
        }
      ]
    },
    {
      "cell_type": "code",
      "metadata": {
        "id": "A_aZU9iho4ri"
      },
      "source": [
        ""
      ],
      "execution_count": null,
      "outputs": []
    }
  ]
}